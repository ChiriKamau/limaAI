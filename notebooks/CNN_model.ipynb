{
  "nbformat": 4,
  "nbformat_minor": 0,
  "metadata": {
    "colab": {
      "provenance": [],
      "gpuType": "V5E1"
    },
    "kernelspec": {
      "name": "python3",
      "display_name": "Python 3"
    },
    "language_info": {
      "name": "python"
    },
    "accelerator": "TPU"
  },
  "cells": [
    {
      "cell_type": "markdown",
      "source": [
        "#start\n"
      ],
      "metadata": {
        "id": "6F8NDZEtr3Ri"
      }
    },
    {
      "cell_type": "code",
      "source": [
        "from google.colab import drive\n",
        "drive.mount('/content/drive')"
      ],
      "metadata": {
        "id": "VgAGkvw4boie",
        "outputId": "7464845b-f9df-4009-8094-514edb5aa6bb",
        "colab": {
          "base_uri": "https://localhost:8080/"
        }
      },
      "execution_count": 10,
      "outputs": [
        {
          "output_type": "stream",
          "name": "stdout",
          "text": [
            "Drive already mounted at /content/drive; to attempt to forcibly remount, call drive.mount(\"/content/drive\", force_remount=True).\n"
          ]
        }
      ]
    },
    {
      "cell_type": "code",
      "source": [
        "\n",
        "import os\n",
        "import tensorflow as tf\n",
        "from tensorflow.keras.models import Sequential\n",
        "from tensorflow.keras.layers import Conv2D, MaxPooling2D, Flatten, Dense, Dropout\n",
        "from tensorflow.keras.preprocessing.image import ImageDataGenerator\n",
        "import tensorflow as tf\n",
        "from sklearn.metrics import accuracy_score, f1_score, confusion_matrix, classification_report\n",
        "import seaborn as sns\n",
        "import matplotlib.pyplot as plt\n",
        "import numpy as np\n",
        "import os\n"
      ],
      "metadata": {
        "id": "dIgGZ0wUbsYs"
      },
      "execution_count": 11,
      "outputs": []
    },
    {
      "cell_type": "code",
      "execution_count": 3,
      "metadata": {
        "id": "A2zNsjKErvRc",
        "colab": {
          "base_uri": "https://localhost:8080/"
        },
        "outputId": "ec0082dc-af35-4f94-bd6a-e061d1955ea5"
      },
      "outputs": [
        {
          "output_type": "stream",
          "name": "stdout",
          "text": [
            "Found 709 images belonging to 5 classes.\n",
            "Found 210 images belonging to 5 classes.\n",
            "Found 2805 images belonging to 5 classes.\n",
            "Found 725 images belonging to 5 classes.\n"
          ]
        }
      ],
      "source": [
        "\n",
        "\n",
        "# Paths\n",
        "output_dir = '/content/drive/MyDrive/Tomato_dataset/cnn_crops'\n",
        "\n",
        "# Data augmentation\n",
        "train_datagen = ImageDataGenerator(\n",
        "    rescale=1./255,\n",
        "    rotation_range=15,\n",
        "    horizontal_flip=True,\n",
        "    brightness_range=[0.8,1.2],\n",
        "    zoom_range=0.2\n",
        ")\n",
        "val_datagen = ImageDataGenerator(rescale=1./255)\n",
        "\n",
        "# Load datasets\n",
        "datasets_dict = {\n",
        "    'ripe': {\n",
        "        'train': train_datagen.flow_from_directory(\n",
        "            os.path.join(output_dir, 'ripe/train'),\n",
        "            target_size=(224,224),\n",
        "            batch_size=16,\n",
        "            class_mode='categorical'\n",
        "        ),\n",
        "        'val': val_datagen.flow_from_directory(\n",
        "            os.path.join(output_dir, 'ripe/val'),\n",
        "            target_size=(224,224),\n",
        "            batch_size=16,\n",
        "            class_mode='categorical'\n",
        "        )\n",
        "    },\n",
        "    'green': {\n",
        "        'train': train_datagen.flow_from_directory(\n",
        "            os.path.join(output_dir, 'green/train'),\n",
        "            target_size=(224,224),\n",
        "            batch_size=16,\n",
        "            class_mode='categorical'\n",
        "        ),\n",
        "        'val': val_datagen.flow_from_directory(\n",
        "            os.path.join(output_dir, 'green/val'),\n",
        "            target_size=(224,224),\n",
        "            batch_size=16,\n",
        "            class_mode='categorical'\n",
        "        )\n",
        "    }\n",
        "}\n",
        "\n",
        "# Define CNN model\n",
        "def create_cnn(num_classes):\n",
        "    model = Sequential([\n",
        "        Conv2D(16, (3,3), activation='relu', padding='same', input_shape=(224,224,3)),\n",
        "        MaxPooling2D(2,2),\n",
        "        Conv2D(32, (3,3), activation='relu', padding='same'),\n",
        "        MaxPooling2D(2,2),\n",
        "        Flatten(),\n",
        "        Dense(128, activation='relu'),\n",
        "        Dropout(0.5),\n",
        "        Dense(num_classes, activation='softmax')\n",
        "    ])\n",
        "    model.compile(\n",
        "        optimizer='adam',\n",
        "        loss='categorical_crossentropy',\n",
        "        metrics=['accuracy']\n",
        "    )\n",
        "    return model\n"
      ]
    },
    {
      "cell_type": "code",
      "source": [],
      "metadata": {
        "id": "WZmALZhIjcls"
      },
      "execution_count": null,
      "outputs": []
    },
    {
      "cell_type": "code",
      "source": [
        "# Cell 2: Train Ripe Tomato CNN\n",
        "\n",
        "ripe_train = datasets_dict['ripe']['train']\n",
        "ripe_val = datasets_dict['ripe']['val']\n",
        "num_classes = len(ripe_train.class_indices)\n",
        "\n",
        "ripe_model = create_cnn(num_classes)\n",
        "\n",
        "ripe_save_path = '/content/drive/MyDrive/Tomato_dataset/models/ripe_cnn.h5'\n",
        "\n",
        "history_ripe = ripe_model.fit(\n",
        "    ripe_train,\n",
        "    validation_data=ripe_val,\n",
        "    epochs=20,\n",
        "    callbacks=[tf.keras.callbacks.EarlyStopping(patience=5, restore_best_weights=True)]\n",
        ")\n",
        "\n",
        "ripe_model.save(ripe_save_path)\n",
        "print(f\"Ripe CNN trained and saved to {ripe_save_path}\")\n"
      ],
      "metadata": {
        "id": "6zStzTMgwChy",
        "colab": {
          "base_uri": "https://localhost:8080/"
        },
        "outputId": "d9e5aaa3-a313-497c-cba6-3a4b0e22e285"
      },
      "execution_count": 4,
      "outputs": [
        {
          "output_type": "stream",
          "name": "stderr",
          "text": [
            "/usr/local/lib/python3.12/dist-packages/keras/src/layers/convolutional/base_conv.py:113: UserWarning: Do not pass an `input_shape`/`input_dim` argument to a layer. When using Sequential models, prefer using an `Input(shape)` object as the first layer in the model instead.\n",
            "  super().__init__(activity_regularizer=activity_regularizer, **kwargs)\n",
            "/usr/local/lib/python3.12/dist-packages/keras/src/trainers/data_adapters/py_dataset_adapter.py:121: UserWarning: Your `PyDataset` class should call `super().__init__(**kwargs)` in its constructor. `**kwargs` can include `workers`, `use_multiprocessing`, `max_queue_size`. Do not pass these arguments to `fit()`, as they will be ignored.\n",
            "  self._warn_if_super_not_called()\n"
          ]
        },
        {
          "output_type": "stream",
          "name": "stdout",
          "text": [
            "Epoch 1/20\n",
            "\u001b[1m45/45\u001b[0m \u001b[32m━━━━━━━━━━━━━━━━━━━━\u001b[0m\u001b[37m\u001b[0m \u001b[1m193s\u001b[0m 4s/step - accuracy: 0.4483 - loss: 2.7629 - val_accuracy: 0.5381 - val_loss: 1.1844\n",
            "Epoch 2/20\n",
            "\u001b[1m45/45\u001b[0m \u001b[32m━━━━━━━━━━━━━━━━━━━━\u001b[0m\u001b[37m\u001b[0m \u001b[1m52s\u001b[0m 1s/step - accuracy: 0.5841 - loss: 1.1701 - val_accuracy: 0.5381 - val_loss: 1.1213\n",
            "Epoch 3/20\n",
            "\u001b[1m45/45\u001b[0m \u001b[32m━━━━━━━━━━━━━━━━━━━━\u001b[0m\u001b[37m\u001b[0m \u001b[1m54s\u001b[0m 1s/step - accuracy: 0.5414 - loss: 1.1646 - val_accuracy: 0.5429 - val_loss: 1.1095\n",
            "Epoch 4/20\n",
            "\u001b[1m45/45\u001b[0m \u001b[32m━━━━━━━━━━━━━━━━━━━━\u001b[0m\u001b[37m\u001b[0m \u001b[1m52s\u001b[0m 1s/step - accuracy: 0.5113 - loss: 1.2125 - val_accuracy: 0.5095 - val_loss: 1.1360\n",
            "Epoch 5/20\n",
            "\u001b[1m45/45\u001b[0m \u001b[32m━━━━━━━━━━━━━━━━━━━━\u001b[0m\u001b[37m\u001b[0m \u001b[1m82s\u001b[0m 1s/step - accuracy: 0.5586 - loss: 1.1293 - val_accuracy: 0.5190 - val_loss: 1.1244\n",
            "Epoch 6/20\n",
            "\u001b[1m45/45\u001b[0m \u001b[32m━━━━━━━━━━━━━━━━━━━━\u001b[0m\u001b[37m\u001b[0m \u001b[1m54s\u001b[0m 1s/step - accuracy: 0.6097 - loss: 1.0284 - val_accuracy: 0.5333 - val_loss: 1.1447\n",
            "Epoch 7/20\n",
            "\u001b[1m45/45\u001b[0m \u001b[32m━━━━━━━━━━━━━━━━━━━━\u001b[0m\u001b[37m\u001b[0m \u001b[1m52s\u001b[0m 1s/step - accuracy: 0.5598 - loss: 1.0378 - val_accuracy: 0.5381 - val_loss: 1.1047\n",
            "Epoch 8/20\n",
            "\u001b[1m45/45\u001b[0m \u001b[32m━━━━━━━━━━━━━━━━━━━━\u001b[0m\u001b[37m\u001b[0m \u001b[1m82s\u001b[0m 1s/step - accuracy: 0.5916 - loss: 1.0333 - val_accuracy: 0.5429 - val_loss: 1.1116\n",
            "Epoch 9/20\n",
            "\u001b[1m45/45\u001b[0m \u001b[32m━━━━━━━━━━━━━━━━━━━━\u001b[0m\u001b[37m\u001b[0m \u001b[1m54s\u001b[0m 1s/step - accuracy: 0.5847 - loss: 1.0278 - val_accuracy: 0.5429 - val_loss: 1.0946\n",
            "Epoch 10/20\n",
            "\u001b[1m45/45\u001b[0m \u001b[32m━━━━━━━━━━━━━━━━━━━━\u001b[0m\u001b[37m\u001b[0m \u001b[1m52s\u001b[0m 1s/step - accuracy: 0.5691 - loss: 0.9984 - val_accuracy: 0.5238 - val_loss: 1.0930\n",
            "Epoch 11/20\n",
            "\u001b[1m45/45\u001b[0m \u001b[32m━━━━━━━━━━━━━━━━━━━━\u001b[0m\u001b[37m\u001b[0m \u001b[1m53s\u001b[0m 1s/step - accuracy: 0.5837 - loss: 0.9774 - val_accuracy: 0.5333 - val_loss: 1.1004\n",
            "Epoch 12/20\n",
            "\u001b[1m45/45\u001b[0m \u001b[32m━━━━━━━━━━━━━━━━━━━━\u001b[0m\u001b[37m\u001b[0m \u001b[1m53s\u001b[0m 1s/step - accuracy: 0.5402 - loss: 1.0476 - val_accuracy: 0.5333 - val_loss: 1.1358\n",
            "Epoch 13/20\n",
            "\u001b[1m45/45\u001b[0m \u001b[32m━━━━━━━━━━━━━━━━━━━━\u001b[0m\u001b[37m\u001b[0m \u001b[1m80s\u001b[0m 1s/step - accuracy: 0.5831 - loss: 1.0137 - val_accuracy: 0.5381 - val_loss: 1.1432\n",
            "Epoch 14/20\n",
            "\u001b[1m45/45\u001b[0m \u001b[32m━━━━━━━━━━━━━━━━━━━━\u001b[0m\u001b[37m\u001b[0m \u001b[1m53s\u001b[0m 1s/step - accuracy: 0.5873 - loss: 0.9772 - val_accuracy: 0.5571 - val_loss: 1.1339\n",
            "Epoch 15/20\n",
            "\u001b[1m45/45\u001b[0m \u001b[32m━━━━━━━━━━━━━━━━━━━━\u001b[0m\u001b[37m\u001b[0m \u001b[1m51s\u001b[0m 1s/step - accuracy: 0.6050 - loss: 0.9631 - val_accuracy: 0.5381 - val_loss: 1.1601\n"
          ]
        },
        {
          "output_type": "stream",
          "name": "stderr",
          "text": [
            "WARNING:absl:You are saving your model as an HDF5 file via `model.save()` or `keras.saving.save_model(model)`. This file format is considered legacy. We recommend using instead the native Keras format, e.g. `model.save('my_model.keras')` or `keras.saving.save_model(model, 'my_model.keras')`. \n"
          ]
        },
        {
          "output_type": "stream",
          "name": "stdout",
          "text": [
            "Ripe CNN trained and saved to /content/drive/MyDrive/Tomato_dataset/models/ripe_cnn.h5\n"
          ]
        }
      ]
    },
    {
      "cell_type": "code",
      "source": [
        "ripe_model.save('/content/drive/MyDrive/Tomato_dataset/models/ripe_cnn.keras')\n"
      ],
      "metadata": {
        "id": "DOQzagJOjyCm"
      },
      "execution_count": 5,
      "outputs": []
    },
    {
      "cell_type": "markdown",
      "source": [],
      "metadata": {
        "id": "8ek89wc0jMO_"
      }
    },
    {
      "cell_type": "code",
      "source": [
        "# Cell 3: Train Green Tomato CNN\n",
        "\n",
        "green_train = datasets_dict['green']['train']\n",
        "green_val = datasets_dict['green']['val']\n",
        "num_classes = len(green_train.class_indices)\n",
        "\n",
        "green_model = create_cnn(num_classes)\n",
        "\n",
        "green_save_path = '/content/drive/MyDrive/Tomato_dataset/models/green_cnn.h5'\n",
        "\n",
        "history_green = green_model.fit(\n",
        "    green_train,\n",
        "    validation_data=green_val,\n",
        "    epochs=20,\n",
        "    callbacks=[tf.keras.callbacks.EarlyStopping(patience=5, restore_best_weights=True)]\n",
        ")\n",
        "\n",
        "green_model.save(green_save_path)\n",
        "print(f\"Green CNN trained and saved to {green_save_path}\")\n"
      ],
      "metadata": {
        "id": "j2HqJdqydRsw",
        "colab": {
          "base_uri": "https://localhost:8080/"
        },
        "outputId": "ffe9d9cc-40d4-4567-a62b-c3108c3f911c"
      },
      "execution_count": 6,
      "outputs": [
        {
          "output_type": "stream",
          "name": "stderr",
          "text": [
            "/usr/local/lib/python3.12/dist-packages/keras/src/layers/convolutional/base_conv.py:113: UserWarning: Do not pass an `input_shape`/`input_dim` argument to a layer. When using Sequential models, prefer using an `Input(shape)` object as the first layer in the model instead.\n",
            "  super().__init__(activity_regularizer=activity_regularizer, **kwargs)\n",
            "/usr/local/lib/python3.12/dist-packages/keras/src/trainers/data_adapters/py_dataset_adapter.py:121: UserWarning: Your `PyDataset` class should call `super().__init__(**kwargs)` in its constructor. `**kwargs` can include `workers`, `use_multiprocessing`, `max_queue_size`. Do not pass these arguments to `fit()`, as they will be ignored.\n",
            "  self._warn_if_super_not_called()\n"
          ]
        },
        {
          "output_type": "stream",
          "name": "stdout",
          "text": [
            "Epoch 1/20\n",
            "\u001b[1m176/176\u001b[0m \u001b[32m━━━━━━━━━━━━━━━━━━━━\u001b[0m\u001b[37m\u001b[0m \u001b[1m1137s\u001b[0m 6s/step - accuracy: 0.4989 - loss: 2.1825 - val_accuracy: 0.5062 - val_loss: 0.9544\n",
            "Epoch 2/20\n",
            "\u001b[1m176/176\u001b[0m \u001b[32m━━━━━━━━━━━━━━━━━━━━\u001b[0m\u001b[37m\u001b[0m \u001b[1m206s\u001b[0m 1s/step - accuracy: 0.5613 - loss: 0.9413 - val_accuracy: 0.5172 - val_loss: 0.8889\n",
            "Epoch 3/20\n",
            "\u001b[1m176/176\u001b[0m \u001b[32m━━━━━━━━━━━━━━━━━━━━\u001b[0m\u001b[37m\u001b[0m \u001b[1m205s\u001b[0m 1s/step - accuracy: 0.5417 - loss: 0.8999 - val_accuracy: 0.5228 - val_loss: 0.8882\n",
            "Epoch 4/20\n",
            "\u001b[1m176/176\u001b[0m \u001b[32m━━━━━━━━━━━━━━━━━━━━\u001b[0m\u001b[37m\u001b[0m \u001b[1m212s\u001b[0m 1s/step - accuracy: 0.5590 - loss: 0.9017 - val_accuracy: 0.5186 - val_loss: 0.8866\n",
            "Epoch 5/20\n",
            "\u001b[1m176/176\u001b[0m \u001b[32m━━━━━━━━━━━━━━━━━━━━\u001b[0m\u001b[37m\u001b[0m \u001b[1m215s\u001b[0m 1s/step - accuracy: 0.5781 - loss: 0.8983 - val_accuracy: 0.5628 - val_loss: 0.8730\n",
            "Epoch 6/20\n",
            "\u001b[1m176/176\u001b[0m \u001b[32m━━━━━━━━━━━━━━━━━━━━\u001b[0m\u001b[37m\u001b[0m \u001b[1m203s\u001b[0m 1s/step - accuracy: 0.5641 - loss: 0.8812 - val_accuracy: 0.5641 - val_loss: 0.8551\n",
            "Epoch 7/20\n",
            "\u001b[1m176/176\u001b[0m \u001b[32m━━━━━━━━━━━━━━━━━━━━\u001b[0m\u001b[37m\u001b[0m \u001b[1m250s\u001b[0m 1s/step - accuracy: 0.5868 - loss: 0.8708 - val_accuracy: 0.5876 - val_loss: 0.8832\n",
            "Epoch 8/20\n",
            "\u001b[1m176/176\u001b[0m \u001b[32m━━━━━━━━━━━━━━━━━━━━\u001b[0m\u001b[37m\u001b[0m \u001b[1m213s\u001b[0m 1s/step - accuracy: 0.5828 - loss: 0.8645 - val_accuracy: 0.5669 - val_loss: 0.8423\n",
            "Epoch 9/20\n",
            "\u001b[1m176/176\u001b[0m \u001b[32m━━━━━━━━━━━━━━━━━━━━\u001b[0m\u001b[37m\u001b[0m \u001b[1m206s\u001b[0m 1s/step - accuracy: 0.6012 - loss: 0.8175 - val_accuracy: 0.6028 - val_loss: 0.8442\n",
            "Epoch 10/20\n",
            "\u001b[1m176/176\u001b[0m \u001b[32m━━━━━━━━━━━━━━━━━━━━\u001b[0m\u001b[37m\u001b[0m \u001b[1m212s\u001b[0m 1s/step - accuracy: 0.5894 - loss: 0.8467 - val_accuracy: 0.5255 - val_loss: 0.9127\n",
            "Epoch 11/20\n",
            "\u001b[1m176/176\u001b[0m \u001b[32m━━━━━━━━━━━━━━━━━━━━\u001b[0m\u001b[37m\u001b[0m \u001b[1m205s\u001b[0m 1s/step - accuracy: 0.5988 - loss: 0.8387 - val_accuracy: 0.6069 - val_loss: 0.8361\n",
            "Epoch 12/20\n",
            "\u001b[1m176/176\u001b[0m \u001b[32m━━━━━━━━━━━━━━━━━━━━\u001b[0m\u001b[37m\u001b[0m \u001b[1m211s\u001b[0m 1s/step - accuracy: 0.6018 - loss: 0.8406 - val_accuracy: 0.5476 - val_loss: 0.8516\n",
            "Epoch 13/20\n",
            "\u001b[1m176/176\u001b[0m \u001b[32m━━━━━━━━━━━━━━━━━━━━\u001b[0m\u001b[37m\u001b[0m \u001b[1m203s\u001b[0m 1s/step - accuracy: 0.6211 - loss: 0.8067 - val_accuracy: 0.5779 - val_loss: 0.8330\n",
            "Epoch 14/20\n",
            "\u001b[1m176/176\u001b[0m \u001b[32m━━━━━━━━━━━━━━━━━━━━\u001b[0m\u001b[37m\u001b[0m \u001b[1m201s\u001b[0m 1s/step - accuracy: 0.6007 - loss: 0.8348 - val_accuracy: 0.5710 - val_loss: 0.8397\n",
            "Epoch 15/20\n",
            "\u001b[1m176/176\u001b[0m \u001b[32m━━━━━━━━━━━━━━━━━━━━\u001b[0m\u001b[37m\u001b[0m \u001b[1m203s\u001b[0m 1s/step - accuracy: 0.5904 - loss: 0.8605 - val_accuracy: 0.5793 - val_loss: 0.8616\n",
            "Epoch 16/20\n",
            "\u001b[1m176/176\u001b[0m \u001b[32m━━━━━━━━━━━━━━━━━━━━\u001b[0m\u001b[37m\u001b[0m \u001b[1m203s\u001b[0m 1s/step - accuracy: 0.6055 - loss: 0.8243 - val_accuracy: 0.6083 - val_loss: 0.8279\n",
            "Epoch 17/20\n",
            "\u001b[1m176/176\u001b[0m \u001b[32m━━━━━━━━━━━━━━━━━━━━\u001b[0m\u001b[37m\u001b[0m \u001b[1m202s\u001b[0m 1s/step - accuracy: 0.5791 - loss: 0.8250 - val_accuracy: 0.5476 - val_loss: 0.8472\n",
            "Epoch 18/20\n",
            "\u001b[1m176/176\u001b[0m \u001b[32m━━━━━━━━━━━━━━━━━━━━\u001b[0m\u001b[37m\u001b[0m \u001b[1m204s\u001b[0m 1s/step - accuracy: 0.5996 - loss: 0.8180 - val_accuracy: 0.5793 - val_loss: 0.8451\n",
            "Epoch 19/20\n",
            "\u001b[1m176/176\u001b[0m \u001b[32m━━━━━━━━━━━━━━━━━━━━\u001b[0m\u001b[37m\u001b[0m \u001b[1m211s\u001b[0m 1s/step - accuracy: 0.6025 - loss: 0.8271 - val_accuracy: 0.5890 - val_loss: 0.8783\n",
            "Epoch 20/20\n",
            "\u001b[1m176/176\u001b[0m \u001b[32m━━━━━━━━━━━━━━━━━━━━\u001b[0m\u001b[37m\u001b[0m \u001b[1m204s\u001b[0m 1s/step - accuracy: 0.5860 - loss: 0.8354 - val_accuracy: 0.5972 - val_loss: 0.8373\n"
          ]
        },
        {
          "output_type": "stream",
          "name": "stderr",
          "text": [
            "WARNING:absl:You are saving your model as an HDF5 file via `model.save()` or `keras.saving.save_model(model)`. This file format is considered legacy. We recommend using instead the native Keras format, e.g. `model.save('my_model.keras')` or `keras.saving.save_model(model, 'my_model.keras')`. \n"
          ]
        },
        {
          "output_type": "stream",
          "name": "stdout",
          "text": [
            "Green CNN trained and saved to /content/drive/MyDrive/Tomato_dataset/models/green_cnn.h5\n"
          ]
        }
      ]
    },
    {
      "cell_type": "code",
      "source": [
        "green_model.save('/content/drive/MyDrive/Tomato_dataset/models/green_cnn.keras')\n"
      ],
      "metadata": {
        "id": "x10a6l5xj4au"
      },
      "execution_count": null,
      "outputs": []
    },
    {
      "cell_type": "code",
      "source": [
        "\n",
        "\n",
        "# Define CNN (same as training)\n",
        "class TomatoCNN(nn.Module):\n",
        "    def __init__(self, num_classes):\n",
        "        super(TomatoCNN, self).__init__()\n",
        "        self.features = nn.Sequential(\n",
        "            nn.Conv2d(3, 16, kernel_size=3, padding=1),\n",
        "            nn.ReLU(),\n",
        "            nn.MaxPool2d(2, 2),\n",
        "            nn.Conv2d(16, 32, kernel_size=3, padding=1),\n",
        "            nn.ReLU(),\n",
        "            nn.MaxPool2d(2, 2)\n",
        "        )\n",
        "        self.classifier = nn.Sequential(\n",
        "            nn.Linear(32 * 56 * 56, 128),\n",
        "            nn.ReLU(),\n",
        "            nn.Dropout(0.5),\n",
        "            nn.Linear(128, num_classes)\n",
        "        )\n",
        "\n",
        "    def forward(self, x):\n",
        "        x = self.features(x)\n",
        "        x = x.view(x.size(0), -1)\n",
        "        x = self.classifier(x)\n",
        "        return x\n",
        "\n",
        "# Data transform\n",
        "val_transform = transforms.Compose([\n",
        "    transforms.ToTensor(),\n",
        "    transforms.Normalize([0.485, 0.456, 0.406], [0.229, 0.224, 0.225])\n",
        "])\n",
        "\n",
        "# Evaluate function\n",
        "def evaluate_cnn(model, val_loader, class_names, title):\n",
        "    device = torch.device('cuda' if torch.cuda.is_available() else 'cpu')\n",
        "    model = model.to(device).eval()\n",
        "    y_true, y_pred = [], []\n",
        "    with torch.no_grad():\n",
        "        for images, labels in val_loader:\n",
        "            images, labels = images.to(device), labels.to(device)\n",
        "            outputs = model(images)\n",
        "            _, predicted = torch.max(outputs, 1)\n",
        "            y_true.extend(labels.cpu().numpy())\n",
        "            y_pred.extend(predicted.cpu().numpy())\n",
        "    acc = accuracy_score(y_true, y_pred)\n",
        "    f1 = f1_score(y_true, y_pred, average='weighted')\n",
        "    print(f\"{title} - Accuracy: {acc:.4f}, F1 Score: {f1:.4f}\")\n",
        "    cm = confusion_matrix(y_true, y_pred)\n",
        "    plt.figure(figsize=(6, 4))\n",
        "    sns.heatmap(cm, annot=True, fmt='d', cmap='Blues', xticklabels=class_names, yticklabels=class_names)\n",
        "    plt.title(f'{title} Confusion Matrix')\n",
        "    plt.xlabel('Predicted')\n",
        "    plt.ylabel('True')\n",
        "    plt.show()\n",
        "\n",
        "# Load and evaluate models\n",
        "output_dir = '/content/drive/MyDrive/Tomato_dataset/cnn_crops'\n",
        "for ripeness in ['ripe', 'green']:\n",
        "    val_dataset = datasets.ImageFolder(f'{output_dir}/{ripeness}/val', transform=val_transform)\n",
        "    val_loader = DataLoader(val_dataset, batch_size=16)\n",
        "    model = TomatoCNN(num_classes=len(val_dataset.classes))\n",
        "    model.load_state_dict(torch.load(f'/content/drive/MyDrive/Tomato_dataset/models/{ripeness}_cnn.pt'))\n",
        "    evaluate_cnn(model, val_loader, val_dataset.classes, f\"{ripeness.capitalize()} CNN\")"
      ],
      "metadata": {
        "id": "GXf5AVc5j4kh"
      },
      "execution_count": null,
      "outputs": []
    },
    {
      "cell_type": "code",
      "source": [
        "import tensorflow as tf\n",
        "from tensorflow.keras.preprocessing.image import ImageDataGenerator\n",
        "from sklearn.metrics import classification_report, confusion_matrix, f1_score, accuracy_score\n",
        "import numpy as np\n",
        "import seaborn as sns\n",
        "import matplotlib.pyplot as plt\n",
        "import os\n",
        "\n",
        "def evaluate_model(model_path, data_dir, img_size=(224, 224), batch_size=32):\n",
        "    print(f\"\\n🔹 Loading model from: {model_path}\")\n",
        "    model = tf.keras.models.load_model(model_path, compile=False)\n",
        "\n",
        "    datagen = ImageDataGenerator(rescale=1./255)\n",
        "    val_gen = datagen.flow_from_directory(\n",
        "        data_dir,\n",
        "        target_size=img_size,\n",
        "        batch_size=batch_size,\n",
        "        class_mode='categorical',\n",
        "        shuffle=False\n",
        "    )\n",
        "\n",
        "    print(f\"🔹 Evaluating {len(val_gen.filenames)} images...\")\n",
        "    preds = model.predict(val_gen)\n",
        "    y_pred = np.argmax(preds, axis=1)\n",
        "    y_true = val_gen.classes\n",
        "\n",
        "    # Automatically detect available labels\n",
        "    class_labels = list(val_gen.class_indices.keys())\n",
        "    unique_true = np.unique(y_true)\n",
        "    unique_pred = np.unique(y_pred)\n",
        "    num_true_classes = len(unique_true)\n",
        "    num_pred_classes = preds.shape[1]\n",
        "\n",
        "    print(f\"\\n🧩 Detected {num_true_classes} true classes, {num_pred_classes} predicted classes.\")\n",
        "\n",
        "    # Adjust class_labels length to match the actual prediction shape\n",
        "    if len(class_labels) != num_pred_classes:\n",
        "        print(f\"⚠️ Adjusting label count from {len(class_labels)} → {num_pred_classes}\")\n",
        "        class_labels = class_labels[:num_pred_classes]\n",
        "\n",
        "    # Metrics\n",
        "    acc = accuracy_score(y_true, y_pred)\n",
        "    f1 = f1_score(y_true, y_pred, average='weighted')\n",
        "\n",
        "    print(f\"\\n✅ Accuracy: {acc:.4f}\")\n",
        "    print(f\"✅ F1-score: {f1:.4f}\\n\")\n",
        "\n",
        "    print(\"📊 Classification Report:\")\n",
        "    try:\n",
        "        print(classification_report(y_true, y_pred, target_names=class_labels, zero_division=0))\n",
        "    except ValueError:\n",
        "        print(\"⚠️ Warning: Adjusting label mismatch automatically.\")\n",
        "        print(classification_report(y_true, y_pred, labels=unique_true, zero_division=0))\n",
        "\n",
        "    # Confusion matrix\n",
        "    cm = confusion_matrix(y_true, y_pred)\n",
        "    plt.figure(figsize=(8, 6))\n",
        "    sns.heatmap(cm, annot=True, fmt=\"d\", cmap=\"Blues\",\n",
        "                xticklabels=class_labels, yticklabels=class_labels)\n",
        "    plt.title(\"Confusion Matrix\")\n",
        "    plt.ylabel(\"True Label\")\n",
        "    plt.xlabel(\"Predicted Label\")\n",
        "    plt.show()\n",
        "\n",
        "\n",
        "# 🔸 Evaluate your models\n",
        "evaluate_model(\n",
        "    model_path=\"/content/drive/MyDrive/Tomato_dataset/models/ripe_cnn.h5\",\n",
        "    data_dir=\"/content/drive/MyDrive/Tomato_dataset/cnn_crops/ripe/val\"\n",
        ")\n",
        "\n",
        "evaluate_model(\n",
        "    model_path=\"/content/drive/MyDrive/Tomato_dataset/models/green_cnn.h5\",\n",
        "    data_dir=\"/content/drive/MyDrive/Tomato_dataset/cnn_crops/green/val\"\n",
        ")\n"
      ],
      "metadata": {
        "colab": {
          "base_uri": "https://localhost:8080/",
          "height": 1000
        },
        "id": "L1uxY-Z0G7bO",
        "outputId": "e77f7b25-2390-4c30-883b-aa4656783f8d"
      },
      "execution_count": 12,
      "outputs": [
        {
          "output_type": "stream",
          "name": "stdout",
          "text": [
            "\n",
            "🔹 Loading model from: /content/drive/MyDrive/Tomato_dataset/models/ripe_cnn.h5\n",
            "Found 210 images belonging to 5 classes.\n",
            "🔹 Evaluating 210 images...\n"
          ]
        },
        {
          "output_type": "stream",
          "name": "stderr",
          "text": [
            "/usr/local/lib/python3.12/dist-packages/keras/src/trainers/data_adapters/py_dataset_adapter.py:121: UserWarning: Your `PyDataset` class should call `super().__init__(**kwargs)` in its constructor. `**kwargs` can include `workers`, `use_multiprocessing`, `max_queue_size`. Do not pass these arguments to `fit()`, as they will be ignored.\n",
            "  self._warn_if_super_not_called()\n"
          ]
        },
        {
          "output_type": "stream",
          "name": "stdout",
          "text": [
            "\u001b[1m7/7\u001b[0m \u001b[32m━━━━━━━━━━━━━━━━━━━━\u001b[0m\u001b[37m\u001b[0m \u001b[1m4s\u001b[0m 524ms/step\n",
            "\n",
            "🧩 Detected 5 true classes, 5 predicted classes.\n",
            "\n",
            "✅ Accuracy: 0.5238\n",
            "✅ F1-score: 0.3699\n",
            "\n",
            "📊 Classification Report:\n",
            "              precision    recall  f1-score   support\n",
            "\n",
            "       R_ber       0.00      0.00      0.00        22\n",
            "   R_healthy       0.53      0.97      0.69       113\n",
            "R_lateblight       0.00      0.00      0.00         6\n",
            "     R_pests       0.00      0.00      0.00         3\n",
            "     R_spots       0.00      0.00      0.00        66\n",
            "\n",
            "    accuracy                           0.52       210\n",
            "   macro avg       0.11      0.19      0.14       210\n",
            "weighted avg       0.29      0.52      0.37       210\n",
            "\n"
          ]
        },
        {
          "output_type": "display_data",
          "data": {
            "text/plain": [
              "<Figure size 800x600 with 2 Axes>"
            ],
            "image/png": "[encoded data removed]"
          },
          "metadata": {}
        },
        {
          "output_type": "stream",
          "name": "stdout",
          "text": [
            "\n",
            "🔹 Loading model from: /content/drive/MyDrive/Tomato_dataset/models/green_cnn.h5\n",
            "Found 725 images belonging to 5 classes.\n",
            "🔹 Evaluating 725 images...\n"
          ]
        },
        {
          "output_type": "stream",
          "name": "stderr",
          "text": [
            "/usr/local/lib/python3.12/dist-packages/keras/src/trainers/data_adapters/py_dataset_adapter.py:121: UserWarning: Your `PyDataset` class should call `super().__init__(**kwargs)` in its constructor. `**kwargs` can include `workers`, `use_multiprocessing`, `max_queue_size`. Do not pass these arguments to `fit()`, as they will be ignored.\n",
            "  self._warn_if_super_not_called()\n"
          ]
        },
        {
          "output_type": "stream",
          "name": "stdout",
          "text": [
            "\u001b[1m23/23\u001b[0m \u001b[32m━━━━━━━━━━━━━━━━━━━━\u001b[0m\u001b[37m\u001b[0m \u001b[1m15s\u001b[0m 613ms/step\n",
            "\n",
            "🧩 Detected 4 true classes, 5 predicted classes.\n",
            "\n",
            "✅ Accuracy: 0.6083\n",
            "✅ F1-score: 0.6005\n",
            "\n",
            "📊 Classification Report:\n",
            "⚠️ Warning: Adjusting label mismatch automatically.\n",
            "              precision    recall  f1-score   support\n",
            "\n",
            "           0       0.80      0.14      0.24        29\n",
            "           1       0.65      0.68      0.66       368\n",
            "           2       0.37      0.27      0.31        26\n",
            "           4       0.57      0.60      0.58       302\n",
            "\n",
            "    accuracy                           0.61       725\n",
            "   macro avg       0.60      0.42      0.45       725\n",
            "weighted avg       0.61      0.61      0.60       725\n",
            "\n"
          ]
        },
        {
          "output_type": "display_data",
          "data": {
            "text/plain": [
              "<Figure size 800x600 with 2 Axes>"
            ],
            "image/png": "[encoded data removed]"
          },
          "metadata": {}
        }
      ]
    },
    {
      "cell_type": "code",
      "source": [
        "import os\n",
        "\n",
        "def count_images_per_class(data_dir):\n",
        "    class_counts = {}\n",
        "    for class_name in os.listdir(data_dir):\n",
        "        class_path = os.path.join(data_dir, class_name)\n",
        "        if os.path.isdir(class_path):\n",
        "            class_counts[class_name] = len(os.listdir(class_path))\n",
        "    return class_counts\n",
        "\n",
        "# Check image counts for ripe model\n",
        "ripe_train_dir = \"/content/drive/MyDrive/Tomato_dataset/cnn_crops/ripe/train\"\n",
        "ripe_val_dir = \"/content/drive/MyDrive/Tomato_dataset/cnn_crops/ripe/val\"\n",
        "print(\"🔹 Image counts for ripe model train set:\")\n",
        "print(count_images_per_class(ripe_train_dir))\n",
        "print(\"🔹 Image counts for ripe model validation set:\")\n",
        "print(count_images_per_class(ripe_val_dir))\n",
        "\n",
        "# Check image counts for green model\n",
        "green_train_dir = \"/content/drive/MyDrive/Tomato_dataset/cnn_crops/green/train\"\n",
        "green_val_dir = \"/content/drive/MyDrive/Tomato_dataset/cnn_crops/green/val\"\n",
        "print(\"\\n🔹 Image counts for green model train set:\")\n",
        "print(count_images_per_class(green_train_dir))\n",
        "print(\"\\n🔹 Image counts for green model validation set:\")\n",
        "print(count_images_per_class(green_val_dir))"
      ],
      "metadata": {
        "colab": {
          "base_uri": "https://localhost:8080/"
        },
        "id": "rU8lRE9zG2kd",
        "outputId": "b432469f-0410-4e97-decf-063d5a1f5163"
      },
      "execution_count": 16,
      "outputs": [
        {
          "output_type": "stream",
          "name": "stdout",
          "text": [
            "🔹 Image counts for ripe model train set:\n",
            "{'R_healthy': 407, 'R_lateblight': 29, 'R_spots': 189, 'R_pests': 22, 'R_ber': 62}\n",
            "🔹 Image counts for ripe model validation set:\n",
            "{'R_healthy': 113, 'R_lateblight': 6, 'R_spots': 66, 'R_pests': 3, 'R_ber': 22}\n",
            "\n",
            "🔹 Image counts for green model train set:\n",
            "{'G_healthy': 1565, 'G_lateblight': 131, 'G_spots': 1038, 'G_pests': 7, 'G_ber': 64}\n",
            "\n",
            "🔹 Image counts for green model validation set:\n",
            "{'G_healthy': 368, 'G_lateblight': 26, 'G_spots': 302, 'G_pests': 0, 'G_ber': 29}\n"
          ]
        }
      ]
    }
  ]
}