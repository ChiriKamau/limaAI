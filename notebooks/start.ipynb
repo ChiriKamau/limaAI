{
  "nbformat": 4,
  "nbformat_minor": 0,
  "metadata": {
    "colab": {
      "provenance": [],
      "include_colab_link": true
    },
    "kernelspec": {
      "name": "python3",
      "display_name": "Python 3"
    },
    "language_info": {
      "name": "python"
    }
  },
  "cells": [
    {
      "cell_type": "markdown",
      "metadata": {
        "id": "view-in-github",
        "colab_type": "text"
      },
      "source": [
        "<a href=\"https://colab.research.google.com/github/ChiriKamau/limaAI/blob/main/notebooks/start.ipynb\" target=\"_parent\"><img src=\"https://colab.research.google.com/assets/colab-badge.svg\" alt=\"Open In Colab\"/></a>"
      ]
    },
    {
      "cell_type": "markdown",
      "source": [
        "#START"
      ],
      "metadata": {
        "id": "8qcUp1A42BS7"
      }
    },
    {
      "cell_type": "code",
      "execution_count": 1,
      "metadata": {
        "id": "MwkiMNBt1jpq",
        "colab": {
          "base_uri": "https://localhost:8080/"
        },
        "outputId": "54924ea6-e6ab-4cf4-c169-1180feead18c"
      },
      "outputs": [
        {
          "output_type": "stream",
          "name": "stdout",
          "text": [
            "Mounted at /content/drive\n"
          ]
        }
      ],
      "source": [
        "from google.colab import drive\n",
        "import pandas as pd\n",
        "\n",
        "# Mount Google Drive (you'll need to authenticate with the account that has access to the files)\n",
        "drive.mount('/content/drive', force_remount=True)"
      ]
    },
    {
      "cell_type": "code",
      "source": [
        "greencsv_path = '/content/drive/MyDrive/Tomato_dataset/Phone1(green)/phone1_green.csv'\n",
        "ripecsv_path = '/content/drive/MyDrive/Tomato_dataset/phone1(ripe)/phone1(ripe).csv'\n",
        "output_path = '/content/drive/MyDrive/Tomato_dataset/Phone1(green)/phone1(green).csv'\n"
      ],
      "metadata": {
        "id": "nHGbqVJr-hGV"
      },
      "execution_count": 2,
      "outputs": []
    },
    {
      "cell_type": "code",
      "source": [
        "# Transform the green CSV to match the ripe CSV format\n",
        "\n",
        "green_df = pd.read_csv(greencsv_path)\n",
        "transformed_df = pd.DataFrame({\n",
        "    'label_name': green_df['class'],\n",
        "    'bbox_x': green_df['xmin'],\n",
        "    'bbox_y': green_df['ymin'],\n",
        "    'bbox_width': green_df['xmax'] - green_df['xmin'],\n",
        "    'bbox_height': green_df['ymax'] - green_df['ymin'],\n",
        "    'image_name': green_df['filename'],\n",
        "    'image_width': 3072,  # Assuming same dimensions as phone1(ripe).csv\n",
        "    'image_height': 4080\n",
        "})\n",
        "\n",
        "# Save the transformed CSV\n",
        "try:\n",
        "    transformed_df.to_csv(output_path, index=False)\n",
        "    print(f\"Transformed CSV saved to {output_path}\")\n",
        "except Exception as e:\n",
        "    print(f\"Error saving file: {e}\")\n",
        "    raise"
      ],
      "metadata": {
        "id": "1wMDvrch_G61",
        "outputId": "3a0d08c3-b64a-4b64-c5ac-3498ba85d139",
        "colab": {
          "base_uri": "https://localhost:8080/"
        }
      },
      "execution_count": 4,
      "outputs": [
        {
          "output_type": "stream",
          "name": "stdout",
          "text": [
            "Transformed CSV saved to /content/drive/MyDrive/Tomato_dataset/Phone1(green)/phone1(green).csv\n"
          ]
        }
      ]
    }
  ]
}