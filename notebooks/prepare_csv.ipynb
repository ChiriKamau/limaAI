{
  "nbformat": 4,
  "nbformat_minor": 0,
  "metadata": {
    "colab": {
      "provenance": [],
      "include_colab_link": true
    },
    "kernelspec": {
      "name": "python3",
      "display_name": "Python 3"
    },
    "language_info": {
      "name": "python"
    }
  },
  "cells": [
    {
      "cell_type": "markdown",
      "metadata": {
        "id": "view-in-github",
        "colab_type": "text"
      },
      "source": [
        "<a href=\"https://colab.research.google.com/github/ChiriKamau/limaAI/blob/main/notebooks/start.ipynb\" target=\"_parent\"><img src=\"https://colab.research.google.com/assets/colab-badge.svg\" alt=\"Open In Colab\"/></a>"
      ]
    },
    {
      "cell_type": "markdown",
      "source": [
        "#START"
      ],
      "metadata": {
        "id": "8qcUp1A42BS7"
      }
    },
    {
      "cell_type": "code",
      "execution_count": 1,
      "metadata": {
        "id": "MwkiMNBt1jpq",
        "colab": {
          "base_uri": "https://localhost:8080/"
        },
        "outputId": "54924ea6-e6ab-4cf4-c169-1180feead18c"
      },
      "outputs": [
        {
          "output_type": "stream",
          "name": "stdout",
          "text": [
            "Mounted at /content/drive\n"
          ]
        }
      ],
      "source": [
        "from google.colab import drive\n",
        "import pandas as pd\n",
        "\n",
        "# Mount Google Drive (you'll need to authenticate with the account that has access to the files)\n",
        "drive.mount('/content/drive', force_remount=True)"
      ]
    },
    {
      "cell_type": "code",
      "source": [
        "greencsv_path = '/content/drive/MyDrive/Tomato_dataset/Phone1(green)/phone1_green.csv'\n",
        "ripecsv_path = '/content/drive/MyDrive/Tomato_dataset/phone1(ripe)/phone1(ripe).csv'\n",
        "output_path = '/content/drive/MyDrive/Tomato_dataset/Phone1(green)/phone1(green).csv'\n"
      ],
      "metadata": {
        "id": "nHGbqVJr-hGV"
      },
      "execution_count": 2,
      "outputs": []
    },
    {
      "cell_type": "code",
      "source": [
        "# Transform the green CSV to match the ripe CSV format\n",
        "\n",
        "green_df = pd.read_csv(greencsv_path)\n",
        "transformed_df = pd.DataFrame({\n",
        "    'label_name': green_df['class'],\n",
        "    'bbox_x': green_df['xmin'],\n",
        "    'bbox_y': green_df['ymin'],\n",
        "    'bbox_width': green_df['xmax'] - green_df['xmin'],\n",
        "    'bbox_height': green_df['ymax'] - green_df['ymin'],\n",
        "    'image_name': green_df['filename'],\n",
        "    'image_width': 3072,  # Assuming same dimensions as phone1(ripe).csv\n",
        "    'image_height': 4080\n",
        "})\n",
        "\n",
        "# Save the transformed CSV\n",
        "try:\n",
        "    transformed_df.to_csv(output_path, index=False)\n",
        "    print(f\"Transformed CSV saved to {output_path}\")\n",
        "except Exception as e:\n",
        "    print(f\"Error saving file: {e}\")\n",
        "    raise"
      ],
      "metadata": {
        "colab": {
          "base_uri": "https://localhost:8080/"
        },
        "id": "1wMDvrch_G61",
        "outputId": "3a0d08c3-b64a-4b64-c5ac-3498ba85d139"
      },
      "execution_count": 4,
      "outputs": [
        {
          "output_type": "stream",
          "name": "stdout",
          "text": [
            "Transformed CSV saved to /content/drive/MyDrive/Tomato_dataset/Phone1(green)/phone1(green).csv\n"
          ]
        }
      ]
    },
    {
      "cell_type": "code",
      "source": [
        "\n",
        "csv_paths = [\n",
        "    '/content/drive/MyDrive/Tomato_dataset/phone2(batch1)/annotations/batch1(labels_my-project-name_2025-10-08-05-55-26).csv',\n",
        "    '/content/drive/MyDrive/Tomato_dataset/phone2(batch1)/annotations/batch1(labels_my-project-name_2025-10-08-06-28-50).csv',\n",
        "    '/content/drive/MyDrive/Tomato_dataset/phone2(batch1)/annotations/batch1(labels_my-project-name_2025-10-09-03-21-07).csv'\n",
        "]\n",
        "output_path = '/content/drive/MyDrive/Tomato_dataset/phone2(batch1)/annotations/phone2(batch1).csv'\n",
        "\n",
        "# Read and combine the CSV files\n",
        "try:\n",
        "    # Read all CSV files into a list of DataFrames\n",
        "    dfs = [pd.read_csv(path) for path in csv_paths]\n",
        "    # Concatenate all DataFrames\n",
        "    combined_df = pd.concat(dfs, ignore_index=True)\n",
        "    # Save the combined DataFrame to a new CSV\n",
        "    combined_df.to_csv(output_path, index=False)\n",
        "    print(f\"Combined CSV saved to {output_path}\")\n",
        "except FileNotFoundError as e:\n",
        "    print(f\"Error: One or more files not found. Please check the paths: {csv_paths}\")\n",
        "    raise\n",
        "except Exception as e:\n",
        "    print(f\"Error occurred: {e}\")\n",
        "    raise"
      ],
      "metadata": {
        "colab": {
          "base_uri": "https://localhost:8080/"
        },
        "id": "zDjc_SDgFBa2",
        "outputId": "a3a3afcc-b949-437e-90a4-9c8044be8f8e"
      },
      "execution_count": 5,
      "outputs": [
        {
          "output_type": "stream",
          "name": "stdout",
          "text": [
            "Combined CSV saved to /content/drive/MyDrive/Tomato_dataset/phone2(batch1)/annotations/phone2(batch1).csv\n"
          ]
        }
      ]
    },
    {
      "cell_type": "code",
      "source": [
        "# Define file paths\n",
        "csv_files = [\n",
        "    '/content/drive/MyDrive/Tomato_dataset/phone1(ripe)/phone1(ripe).csv',\n",
        "    '/content/drive/MyDrive/Tomato_dataset/Phone1(green)/phone1(green).csv'\n",
        "]\n",
        "output_paths = [\n",
        "    '/content/drive/MyDrive/Tomato_dataset/phone1(ripe)/annotations/phone1(ripe).csv',\n",
        "    '/content/drive/MyDrive/Tomato_dataset/Phone1(green)/annotations/phone1(green).csv'\n",
        "]\n",
        "\n",
        "# Label mapping for corrections\n",
        "label_mapping = {\n",
        "    'G.latebright': 'G.lateblight',\n",
        "    'R.latebright': 'R.lateblight'\n",
        "}\n",
        "\n",
        "# Process each CSV file\n",
        "for csv_path, output_path in zip(csv_files, output_paths):\n",
        "    try:\n",
        "        # Read the CSV\n",
        "        df = pd.read_csv(csv_path)\n",
        "\n",
        "        # Apply label corrections\n",
        "        df['label_name'] = df['label_name'].replace(label_mapping)\n",
        "\n",
        "        # Save the corrected CSV\n",
        "        df.to_csv(output_path, index=False)\n",
        "        print(f\"Corrected CSV saved to {output_path}\")\n",
        "\n",
        "        # Print unique labels to verify\n",
        "        print(f\"Unique labels in {csv_path}:\", df['label_name'].unique())\n",
        "\n",
        "    except FileNotFoundError:\n",
        "        print(f\"Error: File not found at {csv_path}\")\n",
        "        raise\n",
        "    except Exception as e:\n",
        "        print(f\"Error processing {csv_path}: {e}\")\n",
        "        raise"
      ],
      "metadata": {
        "colab": {
          "base_uri": "https://localhost:8080/"
        },
        "id": "pSUU17dLKP_G",
        "outputId": "c8272357-e95d-44f4-9c5f-a6e434c18259"
      },
      "execution_count": 6,
      "outputs": [
        {
          "output_type": "stream",
          "name": "stdout",
          "text": [
            "Corrected CSV saved to /content/drive/MyDrive/Tomato_dataset/phone1(ripe)/annotations/phone1(ripe).csv\n",
            "Unique labels in /content/drive/MyDrive/Tomato_dataset/phone1(ripe)/phone1(ripe).csv: ['G.healthy' 'G.spots' 'R.healthy' 'G.lateblight' 'R.spots' 'R.ber'\n",
            " 'G.ber' 'R.pests' 'R.lateblight']\n",
            "Corrected CSV saved to /content/drive/MyDrive/Tomato_dataset/Phone1(green)/annotations/phone1(green).csv\n",
            "Unique labels in /content/drive/MyDrive/Tomato_dataset/Phone1(green)/phone1(green).csv: ['G.spots' 'G.healthy' 'R.healthy' 'G.lateblight' 'R.ber' 'G.ber'\n",
            " 'R.lateblight' 'G.pests']\n"
          ]
        }
      ]
    }
  ]
}
