{
  "nbformat": 4,
  "nbformat_minor": 0,
  "metadata": {
    "colab": {
      "provenance": [],
      "gpuType": "V5E1"
    },
    "kernelspec": {
      "name": "python3",
      "display_name": "Python 3"
    },
    "language_info": {
      "name": "python"
    },
    "accelerator": "TPU"
  },
  "cells": [
    {
      "cell_type": "markdown",
      "source": [
        "# 🚀 **YOLOv8 Multi-Class Training Notebook**\n",
        "## **Train on ALL classes using folder-specific .yaml files**\n",
        "\n",
        "**Purpose:** Train YOLOv8 on **ALL detected classes** from any annotation folder using the **pre-generated folder-named .yaml files**\n",
        "\n",
        "---\n",
        "\n",
        "## **📋 TABLE OF CONTENTS**\n",
        "1. [Setup & Mount Drive](#setup)\n",
        "2. [Select Training Folder](#select)\n",
        "3. [Load & Train Model](#train)\n",
        "4. [Validate Results](#validate)\n",
        "5. [Export & Save](#export)"
      ],
      "metadata": {
        "id": "ma880JpfBYBH"
      }
    },
    {
      "cell_type": "code",
      "source": [
        "!pip install ultralytics opencv-python -q"
      ],
      "metadata": {
        "id": "sFrNK-RHDbK5"
      },
      "execution_count": 1,
      "outputs": []
    },
    {
      "cell_type": "code",
      "execution_count": 2,
      "metadata": {
        "id": "_86FCZchBSlI",
        "outputId": "905e2e9b-14a4-43f5-e2a0-93d8bba71ab2",
        "colab": {
          "base_uri": "https://localhost:8080/"
        }
      },
      "outputs": [
        {
          "output_type": "stream",
          "name": "stdout",
          "text": [
            "Drive already mounted at /content/drive; to attempt to forcibly remount, call drive.mount(\"/content/drive\", force_remount=True).\n",
            "✅ Drive mounted!\n"
          ]
        }
      ],
      "source": [
        "from google.colab import drive\n",
        "import os\n",
        "from ultralytics import YOLO\n",
        "import yaml\n",
        "\n",
        "# Mount Google Drive\n",
        "drive.mount('/content/drive')\n",
        "print(\"✅ Drive mounted!\")\n"
      ]
    },
    {
      "cell_type": "markdown",
      "source": [
        "<a id=\"select\"></a>\n",
        "## 2️⃣ SELECT TRAINING FOLDER & YAML\n",
        "\n",
        "**Choose which folder to train on → Auto-loads corresponding .yaml file**"
      ],
      "metadata": {
        "id": "NSMeN314C6ib"
      }
    },
    {
      "cell_type": "code",
      "source": [
        "import yaml\n",
        "import os\n",
        "\n",
        "# ALL 10 folders\n",
        "folders = [\n",
        "    '/content/drive/MyDrive/Tomato_dataset/phone1(ripe)',\n",
        "    '/content/drive/MyDrive/Tomato_dataset/Phone1(green)',\n",
        "    '/content/drive/MyDrive/Tomato_dataset/phone2(batch1)',\n",
        "    '/content/drive/MyDrive/Tomato_dataset/phone2(batch2)',\n",
        "    '/content/drive/MyDrive/Tomato_dataset/phone2(batch3)',\n",
        "    '/content/drive/MyDrive/Tomato_dataset/phone2(batch4)',\n",
        "    '/content/drive/MyDrive/Tomato_dataset/phone2(batch5)',\n",
        "    '/content/drive/MyDrive/Tomato_dataset/camera_ripe(batch1)',\n",
        "    '/content/drive/MyDrive/Tomato_dataset/camera_ripe(batch2)',\n",
        "    '/content/drive/MyDrive/Tomato_dataset/camera_ripe(batch3)'\n",
        "]\n",
        "\n",
        "# Get ALL classes\n",
        "all_classes = set()\n",
        "for folder in folders:\n",
        "    folder_name = os.path.basename(folder)\n",
        "    yaml_path = f\"{folder}/annotations/{folder_name}.yaml\"\n",
        "    if os.path.exists(yaml_path):\n",
        "        with open(yaml_path, 'r') as f:\n",
        "            yaml_data = yaml.safe_load(f)\n",
        "            all_classes.update(yaml_data['names'])\n",
        "\n",
        "class_names = sorted(list(all_classes))\n",
        "nc = len(class_names)\n",
        "\n",
        "# Build paths (use root folders)\n",
        "train_paths = [folder for folder in folders]\n",
        "val_paths = [folder for folder in folders]\n",
        "\n",
        "# Create TEMP YAML\n",
        "combined_yaml = {\n",
        "    'train': train_paths,\n",
        "    'val': val_paths,\n",
        "    'nc': nc,\n",
        "    'names': class_names\n",
        "}\n",
        "\n",
        "with open('/content/combined_temp.yaml', 'w') as f:\n",
        "    yaml.dump(combined_yaml, f)\n",
        "\n",
        "print(f\"🎉 TEMP YAML READY!\")\n",
        "print(f\"📁 {len(train_paths)} folders\")\n",
        "print(f\"🎯 {nc} classes\")"
      ],
      "metadata": {
        "id": "6TnagGfTC9-D",
        "outputId": "a7b1c037-111b-4425-abfc-f18f3ee43e1b",
        "colab": {
          "base_uri": "https://localhost:8080/"
        }
      },
      "execution_count": 3,
      "outputs": [
        {
          "output_type": "stream",
          "name": "stdout",
          "text": [
            "🎉 TEMP YAML READY!\n",
            "📁 10 folders\n",
            "🎯 13 classes\n"
          ]
        }
      ]
    },
    {
      "cell_type": "markdown",
      "source": [
        "<a id=\"train\"></a>\n",
        "## 3️⃣ LOAD MODEL & TRAIN\n",
        "\n",
        "**Multi-class YOLOv8 training with optimized settings for ALL classes**"
      ],
      "metadata": {
        "id": "TIwor3OyDv6F"
      }
    },
    {
      "cell_type": "code",
      "source": [
        "from ultralytics import YOLO\n",
        "\n",
        "model = YOLO('yolov8m.pt')\n",
        "\n",
        "results = model.train(\n",
        "    data='/content/combined_temp.yaml',\n",
        "    epochs=30,\n",
        "    imgsz=640,\n",
        "    batch=16,\n",
        "    augment=True,\n",
        "    hsv_h=0.02, hsv_s=0.7, hsv_v=0.4,\n",
        "    fliplr=0.5, flipud=0.1,\n",
        "    degrees=10.0, translate=0.1, scale=0.5,\n",
        "    mosaic=1.0, mixup=0.1,\n",
        "    patience=20,\n",
        "    lr0=0.001,\n",
        "    box=7.5, cls=0.5, dfl=1.5,\n",
        "    iou=0.7, max_det=300,\n",
        "    project='/content/drive/MyDrive/Tomato_training',\n",
        "    name='ALL_FOLDERS',\n",
        "    exist_ok=True,\n",
        "    save_period=10\n",
        ")\n",
        "\n",
        "print(\"🎉 TRAINING COMPLETE!\")"
      ],
      "metadata": {
        "id": "Xa6D-ZyRDtl-",
        "outputId": "ce5956ee-03e9-4a4a-a058-112eec3f063f",
        "colab": {
          "base_uri": "https://localhost:8080/"
        }
      },
      "execution_count": null,
      "outputs": [
        {
          "output_type": "stream",
          "name": "stdout",
          "text": [
            "Ultralytics 8.3.217 🚀 Python-3.12.12 torch-2.8.0+cpu CPU (AMD EPYC 7B13)\n",
            "\u001b[34m\u001b[1mengine/trainer: \u001b[0magnostic_nms=False, amp=True, augment=True, auto_augment=randaugment, batch=16, bgr=0.0, box=7.5, cache=False, cfg=None, classes=None, close_mosaic=10, cls=0.5, compile=False, conf=None, copy_paste=0.0, copy_paste_mode=flip, cos_lr=False, cutmix=0.0, data=/content/combined_temp.yaml, degrees=10.0, deterministic=True, device=cpu, dfl=1.5, dnn=False, dropout=0.0, dynamic=False, embed=None, epochs=30, erasing=0.4, exist_ok=True, fliplr=0.5, flipud=0.1, format=torchscript, fraction=1.0, freeze=None, half=False, hsv_h=0.02, hsv_s=0.7, hsv_v=0.4, imgsz=640, int8=False, iou=0.7, keras=False, kobj=1.0, line_width=None, lr0=0.001, lrf=0.01, mask_ratio=4, max_det=300, mixup=0.1, mode=train, model=yolov8m.pt, momentum=0.937, mosaic=1.0, multi_scale=False, name=ALL_FOLDERS, nbs=64, nms=False, opset=None, optimize=False, optimizer=auto, overlap_mask=True, patience=20, perspective=0.0, plots=True, pose=12.0, pretrained=True, profile=False, project=/content/drive/MyDrive/Tomato_training, rect=False, resume=False, retina_masks=False, save=True, save_conf=False, save_crop=False, save_dir=/content/drive/MyDrive/Tomato_training/ALL_FOLDERS, save_frames=False, save_json=False, save_period=10, save_txt=False, scale=0.5, seed=0, shear=0.0, show=False, show_boxes=True, show_conf=True, show_labels=True, simplify=True, single_cls=False, source=None, split=val, stream_buffer=False, task=detect, time=None, tracker=botsort.yaml, translate=0.1, val=True, verbose=True, vid_stride=1, visualize=False, warmup_bias_lr=0.1, warmup_epochs=3.0, warmup_momentum=0.8, weight_decay=0.0005, workers=8, workspace=None\n",
            "Overriding model.yaml nc=80 with nc=13\n",
            "\n",
            "                   from  n    params  module                                       arguments                     \n",
            "  0                  -1  1      1392  ultralytics.nn.modules.conv.Conv             [3, 48, 3, 2]                 \n",
            "  1                  -1  1     41664  ultralytics.nn.modules.conv.Conv             [48, 96, 3, 2]                \n",
            "  2                  -1  2    111360  ultralytics.nn.modules.block.C2f             [96, 96, 2, True]             \n",
            "  3                  -1  1    166272  ultralytics.nn.modules.conv.Conv             [96, 192, 3, 2]               \n",
            "  4                  -1  4    813312  ultralytics.nn.modules.block.C2f             [192, 192, 4, True]           \n",
            "  5                  -1  1    664320  ultralytics.nn.modules.conv.Conv             [192, 384, 3, 2]              \n",
            "  6                  -1  4   3248640  ultralytics.nn.modules.block.C2f             [384, 384, 4, True]           \n",
            "  7                  -1  1   1991808  ultralytics.nn.modules.conv.Conv             [384, 576, 3, 2]              \n",
            "  8                  -1  2   3985920  ultralytics.nn.modules.block.C2f             [576, 576, 2, True]           \n",
            "  9                  -1  1    831168  ultralytics.nn.modules.block.SPPF            [576, 576, 5]                 \n",
            " 10                  -1  1         0  torch.nn.modules.upsampling.Upsample         [None, 2, 'nearest']          \n",
            " 11             [-1, 6]  1         0  ultralytics.nn.modules.conv.Concat           [1]                           \n",
            " 12                  -1  2   1993728  ultralytics.nn.modules.block.C2f             [960, 384, 2]                 \n",
            " 13                  -1  1         0  torch.nn.modules.upsampling.Upsample         [None, 2, 'nearest']          \n",
            " 14             [-1, 4]  1         0  ultralytics.nn.modules.conv.Concat           [1]                           \n",
            " 15                  -1  2    517632  ultralytics.nn.modules.block.C2f             [576, 192, 2]                 \n",
            " 16                  -1  1    332160  ultralytics.nn.modules.conv.Conv             [192, 192, 3, 2]              \n",
            " 17            [-1, 12]  1         0  ultralytics.nn.modules.conv.Concat           [1]                           \n",
            " 18                  -1  2   1846272  ultralytics.nn.modules.block.C2f             [576, 384, 2]                 \n",
            " 19                  -1  1   1327872  ultralytics.nn.modules.conv.Conv             [384, 384, 3, 2]              \n",
            " 20             [-1, 9]  1         0  ultralytics.nn.modules.conv.Concat           [1]                           \n",
            " 21                  -1  2   4207104  ultralytics.nn.modules.block.C2f             [960, 576, 2]                 \n",
            " 22        [15, 18, 21]  1   3783223  ultralytics.nn.modules.head.Detect           [13, [192, 384, 576]]         \n",
            "Model summary: 169 layers, 25,863,847 parameters, 25,863,831 gradients, 79.1 GFLOPs\n",
            "\n",
            "Transferred 469/475 items from pretrained weights\n",
            "Freezing layer 'model.22.dfl.conv.weight'\n",
            "\u001b[34m\u001b[1mtrain: \u001b[0mFast image access ✅ (ping: 0.3±0.1 ms, read: 1116.1±495.9 MB/s, size: 4469.3 KB)\n",
            "\u001b[K\u001b[34m\u001b[1mtrain: \u001b[0mScanning /content/drive/.shortcut-targets-by-id/1Zl36oPwY5fp6LJ179Ih1f_9y9cCxkGgn/Tomato_dataset/Phone1(green)... 0 images, 1626 backgrounds, 0 corrupt: 100% ━━━━━━━━━━━━ 1626/1626 14.0it/s 1:56\n",
            "WARNING ⚠️ \u001b[34m\u001b[1mtrain: \u001b[0mNo labels found in /content/drive/.shortcut-targets-by-id/1Zl36oPwY5fp6LJ179Ih1f_9y9cCxkGgn/Tomato_dataset/Phone1(green).cache. See https://docs.ultralytics.com/datasets for dataset formatting guidance.\n",
            "\u001b[34m\u001b[1mtrain: \u001b[0mNew cache created: /content/drive/.shortcut-targets-by-id/1Zl36oPwY5fp6LJ179Ih1f_9y9cCxkGgn/Tomato_dataset/Phone1(green).cache\n",
            "WARNING ⚠️ Labels are missing or empty in /content/drive/.shortcut-targets-by-id/1Zl36oPwY5fp6LJ179Ih1f_9y9cCxkGgn/Tomato_dataset/Phone1(green).cache, training may not work correctly. See https://docs.ultralytics.com/datasets for dataset formatting guidance.\n",
            "\u001b[34m\u001b[1mval: \u001b[0mFast image access ✅ (ping: 0.6±0.2 ms, read: 11.7±6.2 MB/s, size: 3275.7 KB)\n",
            "\u001b[K\u001b[34m\u001b[1mval: \u001b[0mScanning /content/drive/.shortcut-targets-by-id/1Zl36oPwY5fp6LJ179Ih1f_9y9cCxkGgn/Tomato_dataset/Phone1(green).cache... 0 images, 1626 backgrounds, 0 corrupt: 100% ━━━━━━━━━━━━ 1626/1626 2.8Mit/s 0.0s\n",
            "WARNING ⚠️ Labels are missing or empty in /content/drive/.shortcut-targets-by-id/1Zl36oPwY5fp6LJ179Ih1f_9y9cCxkGgn/Tomato_dataset/Phone1(green).cache, training may not work correctly. See https://docs.ultralytics.com/datasets for dataset formatting guidance.\n",
            "Plotting labels to /content/drive/MyDrive/Tomato_training/ALL_FOLDERS/labels.jpg... \n",
            "WARNING ⚠️ zero-size array to reduction operation maximum which has no identity\n",
            "\u001b[34m\u001b[1moptimizer:\u001b[0m 'optimizer=auto' found, ignoring 'lr0=0.001' and 'momentum=0.937' and determining best 'optimizer', 'lr0' and 'momentum' automatically... \n",
            "\u001b[34m\u001b[1moptimizer:\u001b[0m AdamW(lr=0.000588, momentum=0.9) with parameter groups 77 weight(decay=0.0), 84 weight(decay=0.0005), 83 bias(decay=0.0)\n",
            "Image sizes 640 train, 640 val\n",
            "Using 0 dataloader workers\n",
            "Logging results to \u001b[1m/content/drive/MyDrive/Tomato_training/ALL_FOLDERS\u001b[0m\n",
            "Starting training for 30 epochs...\n",
            "\n",
            "      Epoch    GPU_mem   box_loss   cls_loss   dfl_loss  Instances       Size\n",
            "\u001b[K       1/30         0G          0      163.6          0          0        640: 29% ━━━╸──────── 30/102 0.0it/s 14:48<35:02"
          ]
        }
      ]
    }
  ]
}