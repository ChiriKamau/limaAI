{
  "nbformat": 4,
  "nbformat_minor": 0,
  "metadata": {
    "colab": {
      "provenance": []
    },
    "kernelspec": {
      "name": "python3",
      "display_name": "Python 3"
    },
    "language_info": {
      "name": "python"
    }
  },
  "cells": [
    {
      "cell_type": "markdown",
      "source": [
        "# 🚀 **YOLOv8 Multi-Class Training Notebook**\n",
        "## **Train on ALL classes using folder-specific .yaml files**\n",
        "\n",
        "**Purpose:** Train YOLOv8 on **ALL detected classes** from any annotation folder using the **pre-generated folder-named .yaml files**\n",
        "\n",
        "---\n",
        "\n",
        "## **📋 TABLE OF CONTENTS**\n",
        "1. [Setup & Mount Drive](#setup)\n",
        "2. [Select Training Folder](#select)\n",
        "3. [Load & Train Model](#train)\n",
        "4. [Validate Results](#validate)\n",
        "5. [Export & Save](#export)"
      ],
      "metadata": {
        "id": "ma880JpfBYBH"
      }
    },
    {
      "cell_type": "code",
      "execution_count": null,
      "metadata": {
        "id": "_86FCZchBSlI"
      },
      "outputs": [],
      "source": [
        "from google.colab import drive\n",
        "import os\n",
        "from ultralytics import YOLO\n",
        "import yaml\n",
        "\n",
        "# Mount Google Drive\n",
        "drive.mount('/content/drive')\n",
        "print(\"✅ Drive mounted!\")\n",
        "\n",
        "# Install ultralytics (if needed)\n",
        "!pip install ultralytics\n",
        "print(\"✅ Ultralytics installed!\")"
      ]
    }
  ]
}