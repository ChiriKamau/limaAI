{
  "nbformat": 4,
  "nbformat_minor": 0,
  "metadata": {
    "colab": {
      "provenance": []
    },
    "kernelspec": {
      "name": "python3",
      "display_name": "Python 3"
    },
    "language_info": {
      "name": "python"
    }
  },
  "cells": [
    {
      "cell_type": "code",
      "execution_count": null,
      "metadata": {
        "id": "KeRAIB1Pa-2m"
      },
      "outputs": [],
      "source": [
        "# Cell 1: Mount Google Drive and Install Dependencies\n",
        "from google.colab import drive\n",
        "drive.mount('/content/drive')\n",
        "\n",
        "# Install ultralytics if not already installed\n",
        "!pip install ultralytics"
      ]
    },
    {
      "cell_type": "code",
      "source": [
        "# Cell 2: Import Necessary Libraries\n",
        "from ultralytics import YOLO\n",
        "from tensorflow.keras.models import load_model\n",
        "from tensorflow.keras.preprocessing.image import img_to_array, load_img\n",
        "from IPython.display import Image as IPImage, display\n",
        "import cv2\n",
        "import os\n",
        "import numpy as np"
      ],
      "metadata": {
        "id": "pAZ3WCqEbGhC"
      },
      "execution_count": null,
      "outputs": []
    },
    {
      "cell_type": "code",
      "source": [
        "# Cell 3: Load Models\n",
        "# Replace with your actual YOLO model path in Drive\n",
        "yolo_model_path = '/content/drive/MyDrive/path/to/your/yolo_model.pt'  # e.g., '/content/drive/MyDrive/Tomato_dataset/yolo_model.pt'\n",
        "yolo_model = YOLO(yolo_model_path)\n",
        "\n",
        "# Replace with your actual Keras model path in Drive\n",
        "keras_model_path = '/content/drive/MyDrive/path/to/your/keras_model.h5'  # e.g., '/content/drive/MyDrive/Tomato_dataset/keras_classifier.h5'\n",
        "keras_model = load_model(keras_model_path)\n",
        "\n",
        "# Define test image paths (modify as needed)\n",
        "test_images = ['/content/drive/MyDrive/Tomato_dataset/Camera_ripe/WIN_20250905_13_20_47_Pro.jpg']\n",
        "\n",
        "# Assuming Keras model input shape (e.g., (224, 224, 3)) and classes\n",
        "# Adjust these based on your Keras model\n",
        "input_shape = (224, 224)  # Example: Change to match your model's expected input size\n",
        "class_names = ['Class0', 'Class1']  # Replace with your actual class names, e.g., ['Ripe', 'Unripe']"
      ],
      "metadata": {
        "id": "SviSRzIfbN8R"
      },
      "execution_count": null,
      "outputs": []
    },
    {
      "cell_type": "code",
      "source": [
        "# Cell 4: Inference Function with Drawing Boxes (Your Provided Code)\n",
        "def test_and_draw_boxes(image_path, output_path, model, conf=0.2, iou=0.4):\n",
        "    if not os.path.exists(image_path):\n",
        "        print(f\"Error: Image {image_path} not found\")\n",
        "        return\n",
        "    results = model(image_path, conf=conf, iou=iou, max_det=100)\n",
        "    img = cv2.cvtColor(cv2.imread(image_path), cv2.COLOR_BGR2RGB)\n",
        "    for r in results:\n",
        "        for box in r.boxes:\n",
        "            x1, y1, x2, y2 = map(int, box.xyxy[0])\n",
        "            label = model.names[int(box.cls[0])]\n",
        "            conf = float(box.conf[0])\n",
        "            color = (0, 255, 0) if label.startswith('G') else (255, 0, 0)\n",
        "            cv2.rectangle(img, (x1, y1), (x2, y2), color, 2)\n",
        "            cv2.putText(img, f\"{label} {conf:.2f}\", (x1, y1 - 10), cv2.FONT_HERSHEY_SIMPLEX, 0.9, color, 2)\n",
        "    os.makedirs(os.path.dirname(output_path), exist_ok=True)\n",
        "    cv2.imwrite(output_path, cv2.cvtColor(img, cv2.COLOR_RGB2BGR))\n",
        "    print(f\"Output saved to {output_path}\")\n",
        "    display(IPImage(output_path))"
      ],
      "metadata": {
        "id": "FXXSVtGnbcCM"
      },
      "execution_count": null,
      "outputs": []
    },
    {
      "cell_type": "code",
      "source": [
        "# Cell 5: Crop and Run Keras Inference Function\n",
        "def crop_and_keras_predict(image_path, yolo_model, keras_model, conf=0.2, iou=0.4):\n",
        "    if not os.path.exists(image_path):\n",
        "        print(f\"Error: Image {image_path} not found\")\n",
        "        return\n",
        "\n",
        "    # Run YOLO to get detections\n",
        "    results = yolo_model(image_path, conf=conf, iou=iou, max_det=100)\n",
        "    img = cv2.cvtColor(cv2.imread(image_path), cv2.COLOR_BGR2RGB)\n",
        "\n",
        "    predictions = []\n",
        "    for r in results:\n",
        "        for box in r.boxes:\n",
        "            x1, y1, x2, y2 = map(int, box.xyxy[0])\n",
        "            yolo_label = yolo_model.names[int(box.cls[0])]\n",
        "            yolo_conf = float(box.conf[0])\n",
        "\n",
        "            # Crop the detected region\n",
        "            crop = img[y1:y2, x1:x2]\n",
        "\n",
        "            # Preprocess the crop for Keras model (resize, normalize, etc.)\n",
        "            crop_resized = cv2.resize(crop, input_shape[:2])  # Resize to input shape\n",
        "            crop_array = img_to_array(crop_resized) / 255.0  # Normalize to [0,1] assuming model expects this\n",
        "            crop_array = np.expand_dims(crop_array, axis=0)  # Add batch dimension\n",
        "\n",
        "            # Run Keras inference\n",
        "            keras_pred = keras_model.predict(crop_array)\n",
        "            keras_class_idx = np.argmax(keras_pred[0])\n",
        "            keras_class = class_names[keras_class_idx]\n",
        "            keras_conf = np.max(keras_pred[0])\n",
        "\n",
        "            # Store or print prediction\n",
        "            pred_info = {\n",
        "                'yolo_label': yolo_label,\n",
        "                'yolo_conf': yolo_conf,\n",
        "                'keras_class': keras_class,\n",
        "                'keras_conf': keras_conf,\n",
        "                'box': (x1, y1, x2, y2)\n",
        "            }\n",
        "            predictions.append(pred_info)\n",
        "\n",
        "            print(f\"Crop at {pred_info['box']}: YOLO - {yolo_label} ({yolo_conf:.2f}), Keras - {keras_class} ({keras_conf:.2f})\")\n",
        "\n",
        "    return predictions"
      ],
      "metadata": {
        "id": "86kj_GVXbkl7"
      },
      "execution_count": null,
      "outputs": []
    },
    {
      "cell_type": "code",
      "source": [
        "# Cell 6: Run the Tests on Each Image\n",
        "for img_path in test_images:\n",
        "    # Define output path for drawn image\n",
        "    output_path = '/content/output_' + os.path.basename(img_path)\n",
        "\n",
        "    # Run YOLO and draw boxes\n",
        "    print(f\"Processing {img_path} with YOLO and drawing boxes...\")\n",
        "    test_and_draw_boxes(img_path, output_path, yolo_model)\n",
        "\n",
        "    # Crop and run Keras predictions\n",
        "    print(f\"Cropping and running Keras inference on {img_path}...\")\n",
        "    predictions = crop_and_keras_predict(img_path, yolo_model, keras_model)\n",
        "\n",
        "    # Optionally, you can further process predictions, e.g., draw Keras labels on the image too\n",
        "    # For now, they are printed above"
      ],
      "metadata": {
        "id": "KGGsuVIxbtWE"
      },
      "execution_count": null,
      "outputs": []
    }
  ]
}