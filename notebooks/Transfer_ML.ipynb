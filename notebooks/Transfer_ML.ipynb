{
  "nbformat": 4,
  "nbformat_minor": 0,
  "metadata": {
    "colab": {
      "provenance": [],
      "include_colab_link": true
    },
    "kernelspec": {
      "name": "python3",
      "display_name": "Python 3"
    },
    "language_info": {
      "name": "python"
    }
  },
  "cells": [
    {
      "cell_type": "markdown",
      "metadata": {
        "id": "view-in-github",
        "colab_type": "text"
      },
      "source": [
        "<a href=\"https://colab.research.google.com/github/ChiriKamau/limaAI/blob/main/notebooks/Transfer_ML.ipynb\" target=\"_parent\"><img src=\"https://colab.research.google.com/assets/colab-badge.svg\" alt=\"Open In Colab\"/></a>"
      ]
    },
    {
      "cell_type": "code",
      "source": [
        "from google.colab import drive\n",
        "drive.mount('/content/drive')"
      ],
      "metadata": {
        "colab": {
          "base_uri": "https://localhost:8080/"
        },
        "id": "Sfz1HiUQSXZZ",
        "outputId": "3bb77414-af97-40fe-b434-19f1b9273e7c"
      },
      "execution_count": 4,
      "outputs": [
        {
          "output_type": "stream",
          "name": "stdout",
          "text": [
            "Drive already mounted at /content/drive; to attempt to forcibly remount, call drive.mount(\"/content/drive\", force_remount=True).\n"
          ]
        }
      ]
    },
    {
      "cell_type": "code",
      "execution_count": 5,
      "metadata": {
        "id": "vgnhIoCU9bHb",
        "colab": {
          "base_uri": "https://localhost:8080/"
        },
        "outputId": "c3b58101-684c-435c-cfd0-8044c5778901"
      },
      "outputs": [
        {
          "output_type": "stream",
          "name": "stdout",
          "text": [
            "Ripe train counts: {'R_ber': 447, 'R_healthy': 768, 'R_spots': 364}\n",
            "Ripe val counts:   {'R_ber': 80, 'R_healthy': 194, 'R_spots': 110}\n",
            "Green train counts: {'G_ber': 475, 'G_healthy': 2141, 'G_lateblight': 191, 'G_spots': 1537}\n",
            "Green val counts:   {'G_ber': 41, 'G_healthy': 481, 'G_lateblight': 41, 'G_spots': 383}\n"
          ]
        }
      ],
      "source": [
        "# Cell A: imports and quick checks\n",
        "import os\n",
        "import numpy as np\n",
        "import tensorflow as tf\n",
        "from tensorflow.keras.preprocessing.image import ImageDataGenerator\n",
        "from sklearn.utils.class_weight import compute_class_weight\n",
        "from collections import Counter\n",
        "\n",
        "# Paths\n",
        "base = '/content/drive/MyDrive/Tomato_dataset/cnn_crops'  # change if needed\n",
        "ripe_train_dir = os.path.join(base, 'ripe/train')\n",
        "ripe_val_dir   = os.path.join(base, 'ripe/val')\n",
        "green_train_dir= os.path.join(base, 'green/train')\n",
        "green_val_dir  = os.path.join(base, 'green/val')\n",
        "\n",
        "# Quick helper to print counts\n",
        "def folder_counts(p):\n",
        "    out = {}\n",
        "    for c in sorted(os.listdir(p)):\n",
        "        cp = os.path.join(p, c)\n",
        "        if os.path.isdir(cp):\n",
        "            out[c] = sum([1 for f in os.listdir(cp) if os.path.isfile(os.path.join(cp, f))])\n",
        "    return out\n",
        "\n",
        "print(\"Ripe train counts:\", folder_counts(ripe_train_dir))\n",
        "print(\"Ripe val counts:  \", folder_counts(ripe_val_dir))\n",
        "print(\"Green train counts:\", folder_counts(green_train_dir))\n",
        "print(\"Green val counts:  \", folder_counts(green_val_dir))\n",
        "\n",
        "# If you decide to remove 'R_pests' and 'G_pests', do it now (optional)\n",
        "# Example: os.rename(src, dst) or delete folder content. Be careful!\n",
        "# e.g.:\n",
        "# import shutil\n",
        "# shutil.rmtree('/path/to/R_pests')  # only if you're sure\n"
      ]
    },
    {
      "cell_type": "code",
      "source": [
        "IMG_SIZE = 160           # smaller for CPU, change to 224 if desired\n",
        "BATCH_SIZE = 12          # small to fit CPU\n",
        "EPOCHS = 30\n",
        "AUTOTUNE = tf.data.AUTOTUNE"
      ],
      "metadata": {
        "id": "EsGxFDAq9zsz"
      },
      "execution_count": 6,
      "outputs": []
    },
    {
      "cell_type": "code",
      "source": [
        "def make_data_generators(train_dir, val_dir, img_size=IMG_SIZE, batch_size=BATCH_SIZE):\n",
        "    train_datagen = ImageDataGenerator(\n",
        "        rescale=1./255,\n",
        "        rotation_range=25,\n",
        "        width_shift_range=0.1,\n",
        "        height_shift_range=0.1,\n",
        "        brightness_range=(0.7,1.3),\n",
        "        shear_range=0.1,\n",
        "        zoom_range=0.2,\n",
        "        horizontal_flip=True,\n",
        "        fill_mode='nearest'\n",
        "    )\n",
        "    val_datagen = ImageDataGenerator(rescale=1./255)\n",
        "\n",
        "    train_gen = train_datagen.flow_from_directory(\n",
        "        train_dir, target_size=(img_size, img_size),\n",
        "        batch_size=batch_size, class_mode='categorical', shuffle=True\n",
        "    )\n",
        "    val_gen = val_datagen.flow_from_directory(\n",
        "        val_dir, target_size=(img_size, img_size),\n",
        "        batch_size=batch_size, class_mode='categorical', shuffle=False\n",
        "    )\n",
        "    return train_gen, val_gen"
      ],
      "metadata": {
        "id": "lsg98Ajs3ewH"
      },
      "execution_count": 7,
      "outputs": []
    },
    {
      "cell_type": "code",
      "source": [
        "def compute_class_weights(generator):\n",
        "    # generator.classes is the class index for each sample\n",
        "    classes = generator.classes\n",
        "    labels = np.unique(classes)\n",
        "    cw = compute_class_weight(class_weight='balanced', classes=labels, y=classes)\n",
        "    # return a dict mapping {class_index: weight}\n",
        "    return {i: cw[i] for i in labels}"
      ],
      "metadata": {
        "id": "dD9RKFkv3jZH"
      },
      "execution_count": 8,
      "outputs": []
    },
    {
      "cell_type": "code",
      "source": [
        "def build_transfer_model(num_classes, img_size=IMG_SIZE, base_trainable=False):\n",
        "    base = tf.keras.applications.MobileNetV2(\n",
        "        input_shape=(img_size, img_size, 3),\n",
        "        include_top=False, weights='imagenet', pooling='avg'\n",
        "    )\n",
        "    base.trainable = base_trainable  # freeze by default\n",
        "    inputs = tf.keras.Input(shape=(img_size, img_size, 3))\n",
        "    x = base(inputs, training=False)\n",
        "    x = tf.keras.layers.Dense(256, activation='relu')(x)\n",
        "    x = tf.keras.layers.Dropout(0.5)(x)\n",
        "    outputs = tf.keras.layers.Dense(num_classes, activation='softmax')(x)\n",
        "    model = tf.keras.Model(inputs, outputs)\n",
        "    model.compile(\n",
        "        optimizer=tf.keras.optimizers.Adam(learning_rate=1e-3),\n",
        "        loss='categorical_crossentropy',\n",
        "        metrics=['accuracy']\n",
        "    )\n",
        "    return model"
      ],
      "metadata": {
        "id": "1xMeF_nI3no0"
      },
      "execution_count": 9,
      "outputs": []
    },
    {
      "cell_type": "code",
      "source": [
        "def train_with_transfer(train_dir, val_dir, out_path, img_size=IMG_SIZE, batch_size=BATCH_SIZE, epochs=EPOCHS):\n",
        "    train_gen, val_gen = make_data_generators(train_dir, val_dir, img_size, batch_size)\n",
        "    num_classes = len(train_gen.class_indices)\n",
        "    print(\"Num classes:\", num_classes, \"Class indices:\", train_gen.class_indices)\n",
        "    class_weights = compute_class_weights(train_gen)\n",
        "    print(\"Class weights:\", class_weights)\n",
        "\n",
        "    model = build_transfer_model(num_classes, img_size, base_trainable=False)\n",
        "    ckpt = ModelCheckpoint(out_path, save_best_only=True, monitor='val_accuracy', mode='max')\n",
        "    es = EarlyStopping(patience=6, restore_best_weights=True, monitor='val_accuracy')\n",
        "    rlp = ReduceLROnPlateau(patience=3, factor=0.5, monitor='val_loss')\n",
        "\n",
        "    steps_per_epoch = max(1, train_gen.samples // batch_size)\n",
        "    val_steps = max(1, val_gen.samples // batch_size)\n",
        "\n",
        "    history = model.fit(\n",
        "        train_gen,\n",
        "        validation_data=val_gen,\n",
        "        epochs=epochs,\n",
        "        class_weight=class_weights,\n",
        "        callbacks=[ckpt, es, rlp],\n",
        "        steps_per_epoch=steps_per_epoch,\n",
        "        validation_steps=val_steps,\n",
        "        verbose=1\n",
        "    )\n",
        "\n",
        "    # Optionally fine-tune: unfreeze last few layers and train with low LR\n",
        "    base = model.layers[1]  # MobileNetV2 base if you used the builder above - check model.layers\n",
        "    base.trainable = True\n",
        "    # freeze all except top N layers\n",
        "    fine_tune_at = int(len(base.layers) * 0.8)\n",
        "    for layer in base.layers[:fine_tune_at]:\n",
        "        layer.trainable = False\n",
        "    model.compile(optimizer=tf.keras.optimizers.Adam(1e-5), loss='categorical_crossentropy', metrics=['accuracy'])\n",
        "    ft_history = model.fit(\n",
        "        train_gen,\n",
        "        validation_data=val_gen,\n",
        "        epochs=10,\n",
        "        class_weight=class_weights,\n",
        "        callbacks=[EarlyStopping(patience=4, restore_best_weights=True), ReduceLROnPlateau(patience=2)],\n",
        "        steps_per_epoch=steps_per_epoch,\n",
        "        validation_steps=val_steps,\n",
        "        verbose=1\n",
        "    )\n",
        "    return model, history, ft_history"
      ],
      "metadata": {
        "id": "xgMqh7Xe3xKj"
      },
      "execution_count": 10,
      "outputs": []
    },
    {
      "cell_type": "code",
      "source": [
        "# Cell C: run training\n",
        "\n",
        "green_model_path = '/content/drive/MyDrive/Tomato_dataset/models/green_mobilenet(v2).keras'\n",
        "\n",
        "\n",
        "# Green\n",
        "_ = train_with_transfer(green_train_dir, green_val_dir, green_model_path)\n"
      ],
      "metadata": {
        "id": "SZAq4zOf-Ehm",
        "colab": {
          "base_uri": "https://localhost:8080/"
        },
        "outputId": "6e8630c0-06a2-4a61-fa38-41b6c41731c6"
      },
      "execution_count": 11,
      "outputs": [
        {
          "output_type": "stream",
          "name": "stdout",
          "text": [
            "Found 4344 images belonging to 4 classes.\n",
            "Found 946 images belonging to 4 classes.\n",
            "Num classes: 4 Class indices: {'G_ber': 0, 'G_healthy': 1, 'G_lateblight': 2, 'G_spots': 3}\n",
            "Class weights: {np.int32(0): np.float64(2.2863157894736843), np.int32(1): np.float64(0.507239607659972), np.int32(2): np.float64(5.68586387434555), np.int32(3): np.float64(0.7065712426805465)}\n",
            "Downloading data from https://storage.googleapis.com/tensorflow/keras-applications/mobilenet_v2/mobilenet_v2_weights_tf_dim_ordering_tf_kernels_1.0_160_no_top.h5\n",
            "\u001b[1m9406464/9406464\u001b[0m \u001b[32m━━━━━━━━━━━━━━━━━━━━\u001b[0m\u001b[37m\u001b[0m \u001b[1m0s\u001b[0m 0us/step\n"
          ]
        },
        {
          "output_type": "stream",
          "name": "stderr",
          "text": [
            "/usr/local/lib/python3.12/dist-packages/keras/src/trainers/data_adapters/py_dataset_adapter.py:121: UserWarning: Your `PyDataset` class should call `super().__init__(**kwargs)` in its constructor. `**kwargs` can include `workers`, `use_multiprocessing`, `max_queue_size`. Do not pass these arguments to `fit()`, as they will be ignored.\n",
            "  self._warn_if_super_not_called()\n"
          ]
        },
        {
          "output_type": "stream",
          "name": "stdout",
          "text": [
            "Epoch 1/30\n",
            "\u001b[1m362/362\u001b[0m \u001b[32m━━━━━━━━━━━━━━━━━━━━\u001b[0m\u001b[37m\u001b[0m \u001b[1m1293s\u001b[0m 4s/step - accuracy: 0.4382 - loss: 1.6314 - val_accuracy: 0.5940 - val_loss: 1.0225 - learning_rate: 0.0010\n",
            "Epoch 2/30\n",
            "\u001b[1m362/362\u001b[0m \u001b[32m━━━━━━━━━━━━━━━━━━━━\u001b[0m\u001b[37m\u001b[0m \u001b[1m162s\u001b[0m 447ms/step - accuracy: 0.5877 - loss: 0.9415 - val_accuracy: 0.5395 - val_loss: 1.0914 - learning_rate: 0.0010\n",
            "Epoch 3/30\n",
            "\u001b[1m362/362\u001b[0m \u001b[32m━━━━━━━━━━━━━━━━━━━━\u001b[0m\u001b[37m\u001b[0m \u001b[1m164s\u001b[0m 452ms/step - accuracy: 0.6001 - loss: 0.8882 - val_accuracy: 0.5951 - val_loss: 0.9667 - learning_rate: 0.0010\n",
            "Epoch 4/30\n",
            "\u001b[1m362/362\u001b[0m \u001b[32m━━━━━━━━━━━━━━━━━━━━\u001b[0m\u001b[37m\u001b[0m \u001b[1m201s\u001b[0m 556ms/step - accuracy: 0.6451 - loss: 0.8117 - val_accuracy: 0.6795 - val_loss: 0.8760 - learning_rate: 0.0010\n",
            "Epoch 5/30\n",
            "\u001b[1m362/362\u001b[0m \u001b[32m━━━━━━━━━━━━━━━━━━━━\u001b[0m\u001b[37m\u001b[0m \u001b[1m202s\u001b[0m 558ms/step - accuracy: 0.6267 - loss: 0.8106 - val_accuracy: 0.6752 - val_loss: 0.8484 - learning_rate: 0.0010\n",
            "Epoch 6/30\n",
            "\u001b[1m362/362\u001b[0m \u001b[32m━━━━━━━━━━━━━━━━━━━━\u001b[0m\u001b[37m\u001b[0m \u001b[1m200s\u001b[0m 554ms/step - accuracy: 0.6304 - loss: 0.8049 - val_accuracy: 0.5620 - val_loss: 1.0733 - learning_rate: 0.0010\n",
            "Epoch 7/30\n",
            "\u001b[1m362/362\u001b[0m \u001b[32m━━━━━━━━━━━━━━━━━━━━\u001b[0m\u001b[37m\u001b[0m \u001b[1m168s\u001b[0m 464ms/step - accuracy: 0.6468 - loss: 0.7789 - val_accuracy: 0.6774 - val_loss: 0.8449 - learning_rate: 0.0010\n",
            "Epoch 8/30\n",
            "\u001b[1m362/362\u001b[0m \u001b[32m━━━━━━━━━━━━━━━━━━━━\u001b[0m\u001b[37m\u001b[0m \u001b[1m200s\u001b[0m 458ms/step - accuracy: 0.6629 - loss: 0.7441 - val_accuracy: 0.6261 - val_loss: 0.9521 - learning_rate: 0.0010\n",
            "Epoch 9/30\n",
            "\u001b[1m362/362\u001b[0m \u001b[32m━━━━━━━━━━━━━━━━━━━━\u001b[0m\u001b[37m\u001b[0m \u001b[1m204s\u001b[0m 465ms/step - accuracy: 0.6652 - loss: 0.7554 - val_accuracy: 0.6261 - val_loss: 0.9558 - learning_rate: 0.0010\n",
            "Epoch 10/30\n",
            "\u001b[1m362/362\u001b[0m \u001b[32m━━━━━━━━━━━━━━━━━━━━\u001b[0m\u001b[37m\u001b[0m \u001b[1m162s\u001b[0m 448ms/step - accuracy: 0.6831 - loss: 0.6759 - val_accuracy: 0.6581 - val_loss: 0.8769 - learning_rate: 0.0010\n",
            "Epoch 1/10\n",
            "\u001b[1m362/362\u001b[0m \u001b[32m━━━━━━━━━━━━━━━━━━━━\u001b[0m\u001b[37m\u001b[0m \u001b[1m219s\u001b[0m 571ms/step - accuracy: 0.5723 - loss: 1.0093 - val_accuracy: 0.6923 - val_loss: 0.8034 - learning_rate: 1.0000e-05\n",
            "Epoch 2/10\n",
            "\u001b[1m362/362\u001b[0m \u001b[32m━━━━━━━━━━━━━━━━━━━━\u001b[0m\u001b[37m\u001b[0m \u001b[1m264s\u001b[0m 576ms/step - accuracy: 0.6204 - loss: 0.8308 - val_accuracy: 0.6902 - val_loss: 0.7979 - learning_rate: 1.0000e-05\n",
            "Epoch 3/10\n",
            "\u001b[1m362/362\u001b[0m \u001b[32m━━━━━━━━━━━━━━━━━━━━\u001b[0m\u001b[37m\u001b[0m \u001b[1m260s\u001b[0m 571ms/step - accuracy: 0.6575 - loss: 0.7786 - val_accuracy: 0.7009 - val_loss: 0.7996 - learning_rate: 1.0000e-05\n",
            "Epoch 4/10\n",
            "\u001b[1m362/362\u001b[0m \u001b[32m━━━━━━━━━━━━━━━━━━━━\u001b[0m\u001b[37m\u001b[0m \u001b[1m209s\u001b[0m 578ms/step - accuracy: 0.6645 - loss: 0.7296 - val_accuracy: 0.6912 - val_loss: 0.8231 - learning_rate: 1.0000e-05\n",
            "Epoch 5/10\n",
            "\u001b[1m362/362\u001b[0m \u001b[32m━━━━━━━━━━━━━━━━━━━━\u001b[0m\u001b[37m\u001b[0m \u001b[1m264s\u001b[0m 728ms/step - accuracy: 0.6797 - loss: 0.7718 - val_accuracy: 0.6859 - val_loss: 0.8404 - learning_rate: 1.0000e-06\n",
            "Epoch 6/10\n",
            "\u001b[1m362/362\u001b[0m \u001b[32m━━━━━━━━━━━━━━━━━━━━\u001b[0m\u001b[37m\u001b[0m \u001b[1m261s\u001b[0m 720ms/step - accuracy: 0.6717 - loss: 0.7351 - val_accuracy: 0.6859 - val_loss: 0.8482 - learning_rate: 1.0000e-06\n"
          ]
        }
      ]
    },
    {
      "cell_type": "code",
      "source": [
        "ripe_model_path = '/content/drive/MyDrive/Tomato_dataset/models/ripe_mobilenet(v2).keras'   # prefer .keras\n",
        "# Ripe\n",
        "_ = train_with_transfer(ripe_train_dir, ripe_val_dir, ripe_model_path)\n"
      ],
      "metadata": {
        "colab": {
          "base_uri": "https://localhost:8080/"
        },
        "id": "lwGXRcFJYSP7",
        "outputId": "d779e391-ba61-4a1a-b1c7-c3824d34a282"
      },
      "execution_count": 12,
      "outputs": [
        {
          "output_type": "stream",
          "name": "stdout",
          "text": [
            "Found 1579 images belonging to 3 classes.\n",
            "Found 384 images belonging to 3 classes.\n",
            "Num classes: 3 Class indices: {'R_ber': 0, 'R_healthy': 1, 'R_spots': 2}\n",
            "Class weights: {np.int32(0): np.float64(1.1774794929157346), np.int32(1): np.float64(0.6853298611111112), np.int32(2): np.float64(1.445970695970696)}\n"
          ]
        },
        {
          "output_type": "stream",
          "name": "stderr",
          "text": [
            "/usr/local/lib/python3.12/dist-packages/keras/src/trainers/data_adapters/py_dataset_adapter.py:121: UserWarning: Your `PyDataset` class should call `super().__init__(**kwargs)` in its constructor. `**kwargs` can include `workers`, `use_multiprocessing`, `max_queue_size`. Do not pass these arguments to `fit()`, as they will be ignored.\n",
            "  self._warn_if_super_not_called()\n"
          ]
        },
        {
          "output_type": "stream",
          "name": "stdout",
          "text": [
            "Epoch 1/30\n",
            "\u001b[1m131/131\u001b[0m \u001b[32m━━━━━━━━━━━━━━━━━━━━\u001b[0m\u001b[37m\u001b[0m \u001b[1m335s\u001b[0m 3s/step - accuracy: 0.5284 - loss: 1.2710 - val_accuracy: 0.5182 - val_loss: 0.9354 - learning_rate: 0.0010\n",
            "Epoch 2/30\n",
            "\u001b[1m  1/131\u001b[0m \u001b[37m━━━━━━━━━━━━━━━━━━━━\u001b[0m \u001b[1m26s\u001b[0m 204ms/step - accuracy: 0.5000 - loss: 0.9452"
          ]
        },
        {
          "output_type": "stream",
          "name": "stderr",
          "text": [
            "/usr/local/lib/python3.12/dist-packages/keras/src/trainers/epoch_iterator.py:116: UserWarning: Your input ran out of data; interrupting training. Make sure that your dataset or generator can generate at least `steps_per_epoch * epochs` batches. You may need to use the `.repeat()` function when building your dataset.\n",
            "  self._interrupted_warning()\n"
          ]
        },
        {
          "output_type": "stream",
          "name": "stdout",
          "text": [
            "\b\b\b\b\b\b\b\b\b\b\b\b\b\b\b\b\b\b\b\b\b\b\b\b\b\b\b\b\b\b\b\b\b\b\b\b\b\b\b\b\b\b\b\b\b\b\b\b\b\b\b\b\b\b\b\b\b\b\b\b\b\b\b\b\b\b\b\b\b\b\b\b\b\b\b\b\b\r\u001b[1m131/131\u001b[0m \u001b[32m━━━━━━━━━━━━━━━━━━━━\u001b[0m\u001b[37m\u001b[0m \u001b[1m9s\u001b[0m 66ms/step - accuracy: 0.5000 - loss: 0.9452 - val_accuracy: 0.5234 - val_loss: 0.9266 - learning_rate: 0.0010\n",
            "Epoch 3/30\n",
            "\u001b[1m131/131\u001b[0m \u001b[32m━━━━━━━━━━━━━━━━━━━━\u001b[0m\u001b[37m\u001b[0m \u001b[1m61s\u001b[0m 468ms/step - accuracy: 0.6534 - loss: 0.7413 - val_accuracy: 0.5521 - val_loss: 0.9390 - learning_rate: 0.0010\n",
            "Epoch 4/30\n",
            "\u001b[1m131/131\u001b[0m \u001b[32m━━━━━━━━━━━━━━━━━━━━\u001b[0m\u001b[37m\u001b[0m \u001b[1m10s\u001b[0m 79ms/step - accuracy: 0.7500 - loss: 0.4382 - val_accuracy: 0.5521 - val_loss: 0.9413 - learning_rate: 0.0010\n",
            "Epoch 5/30\n",
            "\u001b[1m131/131\u001b[0m \u001b[32m━━━━━━━━━━━━━━━━━━━━\u001b[0m\u001b[37m\u001b[0m \u001b[1m71s\u001b[0m 468ms/step - accuracy: 0.6920 - loss: 0.6892 - val_accuracy: 0.6016 - val_loss: 0.8386 - learning_rate: 0.0010\n",
            "Epoch 6/30\n",
            "\u001b[1m131/131\u001b[0m \u001b[32m━━━━━━━━━━━━━━━━━━━━\u001b[0m\u001b[37m\u001b[0m \u001b[1m8s\u001b[0m 61ms/step - accuracy: 0.5833 - loss: 0.6760 - val_accuracy: 0.5703 - val_loss: 0.8437 - learning_rate: 0.0010\n",
            "Epoch 7/30\n",
            "\u001b[1m131/131\u001b[0m \u001b[32m━━━━━━━━━━━━━━━━━━━━\u001b[0m\u001b[37m\u001b[0m \u001b[1m60s\u001b[0m 461ms/step - accuracy: 0.6977 - loss: 0.6575 - val_accuracy: 0.5651 - val_loss: 0.8823 - learning_rate: 0.0010\n",
            "Epoch 8/30\n",
            "\u001b[1m131/131\u001b[0m \u001b[32m━━━━━━━━━━━━━━━━━━━━\u001b[0m\u001b[37m\u001b[0m \u001b[1m10s\u001b[0m 77ms/step - accuracy: 0.8333 - loss: 0.8240 - val_accuracy: 0.5677 - val_loss: 0.8925 - learning_rate: 0.0010\n",
            "Epoch 9/30\n",
            "\u001b[1m131/131\u001b[0m \u001b[32m━━━━━━━━━━━━━━━━━━━━\u001b[0m\u001b[37m\u001b[0m \u001b[1m61s\u001b[0m 463ms/step - accuracy: 0.6863 - loss: 0.6634 - val_accuracy: 0.5859 - val_loss: 0.8950 - learning_rate: 5.0000e-04\n",
            "Epoch 10/30\n",
            "\u001b[1m131/131\u001b[0m \u001b[32m━━━━━━━━━━━━━━━━━━━━\u001b[0m\u001b[37m\u001b[0m \u001b[1m8s\u001b[0m 61ms/step - accuracy: 0.8333 - loss: 0.5262 - val_accuracy: 0.5885 - val_loss: 0.8848 - learning_rate: 5.0000e-04\n",
            "Epoch 11/30\n",
            "\u001b[1m131/131\u001b[0m \u001b[32m━━━━━━━━━━━━━━━━━━━━\u001b[0m\u001b[37m\u001b[0m \u001b[1m61s\u001b[0m 463ms/step - accuracy: 0.7481 - loss: 0.5940 - val_accuracy: 0.5938 - val_loss: 0.8456 - learning_rate: 5.0000e-04\n",
            "Epoch 1/10\n",
            "\u001b[1m131/131\u001b[0m \u001b[32m━━━━━━━━━━━━━━━━━━━━\u001b[0m\u001b[37m\u001b[0m \u001b[1m90s\u001b[0m 599ms/step - accuracy: 0.6322 - loss: 0.7539 - val_accuracy: 0.6068 - val_loss: 0.8343 - learning_rate: 1.0000e-05\n",
            "Epoch 2/10\n",
            "\u001b[1m131/131\u001b[0m \u001b[32m━━━━━━━━━━━━━━━━━━━━\u001b[0m\u001b[37m\u001b[0m \u001b[1m11s\u001b[0m 79ms/step - accuracy: 0.7500 - loss: 0.5305 - val_accuracy: 0.6068 - val_loss: 0.8340 - learning_rate: 1.0000e-05\n",
            "Epoch 3/10\n",
            "\u001b[1m131/131\u001b[0m \u001b[32m━━━━━━━━━━━━━━━━━━━━\u001b[0m\u001b[37m\u001b[0m \u001b[1m129s\u001b[0m 583ms/step - accuracy: 0.6432 - loss: 0.7639 - val_accuracy: 0.6146 - val_loss: 0.8229 - learning_rate: 1.0000e-05\n",
            "Epoch 4/10\n",
            "\u001b[1m131/131\u001b[0m \u001b[32m━━━━━━━━━━━━━━━━━━━━\u001b[0m\u001b[37m\u001b[0m \u001b[1m8s\u001b[0m 61ms/step - accuracy: 0.7500 - loss: 0.6511 - val_accuracy: 0.6146 - val_loss: 0.8232 - learning_rate: 1.0000e-05\n",
            "Epoch 5/10\n",
            "\u001b[1m131/131\u001b[0m \u001b[32m━━━━━━━━━━━━━━━━━━━━\u001b[0m\u001b[37m\u001b[0m \u001b[1m76s\u001b[0m 580ms/step - accuracy: 0.6821 - loss: 0.6919 - val_accuracy: 0.6094 - val_loss: 0.8272 - learning_rate: 1.0000e-05\n",
            "Epoch 6/10\n",
            "\u001b[1m131/131\u001b[0m \u001b[32m━━━━━━━━━━━━━━━━━━━━\u001b[0m\u001b[37m\u001b[0m \u001b[1m10s\u001b[0m 77ms/step - accuracy: 0.6667 - loss: 0.9209 - val_accuracy: 0.6094 - val_loss: 0.8271 - learning_rate: 1.0000e-06\n",
            "Epoch 7/10\n",
            "\u001b[1m131/131\u001b[0m \u001b[32m━━━━━━━━━━━━━━━━━━━━\u001b[0m\u001b[37m\u001b[0m \u001b[1m76s\u001b[0m 581ms/step - accuracy: 0.6741 - loss: 0.6975 - val_accuracy: 0.6250 - val_loss: 0.8234 - learning_rate: 1.0000e-06\n"
          ]
        }
      ]
    },
    {
      "cell_type": "code",
      "source": [
        "from tensorflow.keras.models import load_model\n",
        "from tensorflow.keras.preprocessing.image import ImageDataGenerator\n",
        "from sklearn.metrics import classification_report, confusion_matrix, f1_score, accuracy_score\n",
        "import matplotlib.pyplot as plt\n",
        "import seaborn as sns\n",
        "import numpy as np\n",
        "import os\n",
        "\n",
        "def evaluate_model(model_path, data_dir, img_size=(224, 224), batch_size=32):\n",
        "    print(f\"🔹 Loading model from: {model_path}\")\n",
        "    model = load_model(model_path)\n",
        "\n",
        "    # Load validation data\n",
        "    datagen = ImageDataGenerator(rescale=1./255)\n",
        "    val_gen = datagen.flow_from_directory(\n",
        "        data_dir,\n",
        "        target_size=img_size,\n",
        "        batch_size=batch_size,\n",
        "        class_mode='categorical',\n",
        "        shuffle=False\n",
        "    )\n",
        "\n",
        "    print(f\"🔹 Evaluating {val_gen.samples} images...\")\n",
        "    preds = model.predict(val_gen)\n",
        "    y_true = val_gen.classes\n",
        "    y_pred = np.argmax(preds, axis=1)\n",
        "    class_names = list(val_gen.class_indices.keys())\n",
        "\n",
        "    # Metrics\n",
        "    acc = accuracy_score(y_true, y_pred)\n",
        "    f1 = f1_score(y_true, y_pred, average='weighted')\n",
        "\n",
        "    print(f\"\\n✅ Accuracy: {acc:.4f}\")\n",
        "    print(f\"✅ F1-score: {f1:.4f}\\n\")\n",
        "\n",
        "    print(\"📊 Classification Report:\")\n",
        "    print(classification_report(y_true, y_pred, target_names=class_names, zero_division=0))\n",
        "\n",
        "    # Confusion Matrix\n",
        "    cm = confusion_matrix(y_true, y_pred)\n",
        "    plt.figure(figsize=(6,5))\n",
        "    sns.heatmap(cm, annot=True, fmt=\"d\", cmap=\"Blues\",\n",
        "                xticklabels=class_names, yticklabels=class_names)\n",
        "    plt.title(\"Confusion Matrix\")\n",
        "    plt.xlabel(\"Predicted\")\n",
        "    plt.ylabel(\"True\")\n",
        "    plt.show()\n",
        "\n",
        "# 🧠 Example usage:\n",
        "evaluate_model(\n",
        "    \"/content/drive/MyDrive/Tomato_dataset/models/green_mobilenet.keras\",\n",
        "    \"/content/drive/MyDrive/Tomato_dataset/cnn_crops/green/val\",\n",
        "    img_size=(160, 160)   # ✅ Match model training size\n",
        ")\n",
        "\n"
      ],
      "metadata": {
        "colab": {
          "base_uri": "https://localhost:8080/",
          "height": 479
        },
        "id": "isGLjFr0zkol",
        "outputId": "78362241-feb9-4da7-a6ad-cbd1cde22499"
      },
      "execution_count": 13,
      "outputs": [
        {
          "output_type": "stream",
          "name": "stdout",
          "text": [
            "🔹 Loading model from: /content/drive/MyDrive/Tomato_dataset/models/green_mobilenet.keras\n",
            "Found 946 images belonging to 4 classes.\n",
            "🔹 Evaluating 946 images...\n"
          ]
        },
        {
          "output_type": "stream",
          "name": "stderr",
          "text": [
            "/usr/local/lib/python3.12/dist-packages/keras/src/trainers/data_adapters/py_dataset_adapter.py:121: UserWarning: Your `PyDataset` class should call `super().__init__(**kwargs)` in its constructor. `**kwargs` can include `workers`, `use_multiprocessing`, `max_queue_size`. Do not pass these arguments to `fit()`, as they will be ignored.\n",
            "  self._warn_if_super_not_called()\n"
          ]
        },
        {
          "output_type": "error",
          "ename": "KeyboardInterrupt",
          "evalue": "",
          "traceback": [
            "\u001b[0;31m---------------------------------------------------------------------------\u001b[0m",
            "\u001b[0;31mKeyboardInterrupt\u001b[0m                         Traceback (most recent call last)",
            "\u001b[0;32m/tmp/ipython-input-3646993566.py\u001b[0m in \u001b[0;36m<cell line: 0>\u001b[0;34m()\u001b[0m\n\u001b[1;32m     48\u001b[0m \u001b[0;34m\u001b[0m\u001b[0m\n\u001b[1;32m     49\u001b[0m \u001b[0;31m# 🧠 Example usage:\u001b[0m\u001b[0;34m\u001b[0m\u001b[0;34m\u001b[0m\u001b[0m\n\u001b[0;32m---> 50\u001b[0;31m evaluate_model(\n\u001b[0m\u001b[1;32m     51\u001b[0m     \u001b[0;34m\"/content/drive/MyDrive/Tomato_dataset/models/green_mobilenet.keras\"\u001b[0m\u001b[0;34m,\u001b[0m\u001b[0;34m\u001b[0m\u001b[0;34m\u001b[0m\u001b[0m\n\u001b[1;32m     52\u001b[0m     \u001b[0;34m\"/content/drive/MyDrive/Tomato_dataset/cnn_crops/green/val\"\u001b[0m\u001b[0;34m,\u001b[0m\u001b[0;34m\u001b[0m\u001b[0;34m\u001b[0m\u001b[0m\n",
            "\u001b[0;32m/tmp/ipython-input-3646993566.py\u001b[0m in \u001b[0;36mevaluate_model\u001b[0;34m(model_path, data_dir, img_size, batch_size)\u001b[0m\n\u001b[1;32m     22\u001b[0m \u001b[0;34m\u001b[0m\u001b[0m\n\u001b[1;32m     23\u001b[0m     \u001b[0mprint\u001b[0m\u001b[0;34m(\u001b[0m\u001b[0;34mf\"🔹 Evaluating {val_gen.samples} images...\"\u001b[0m\u001b[0;34m)\u001b[0m\u001b[0;34m\u001b[0m\u001b[0;34m\u001b[0m\u001b[0m\n\u001b[0;32m---> 24\u001b[0;31m     \u001b[0mpreds\u001b[0m \u001b[0;34m=\u001b[0m \u001b[0mmodel\u001b[0m\u001b[0;34m.\u001b[0m\u001b[0mpredict\u001b[0m\u001b[0;34m(\u001b[0m\u001b[0mval_gen\u001b[0m\u001b[0;34m)\u001b[0m\u001b[0;34m\u001b[0m\u001b[0;34m\u001b[0m\u001b[0m\n\u001b[0m\u001b[1;32m     25\u001b[0m     \u001b[0my_true\u001b[0m \u001b[0;34m=\u001b[0m \u001b[0mval_gen\u001b[0m\u001b[0;34m.\u001b[0m\u001b[0mclasses\u001b[0m\u001b[0;34m\u001b[0m\u001b[0;34m\u001b[0m\u001b[0m\n\u001b[1;32m     26\u001b[0m     \u001b[0my_pred\u001b[0m \u001b[0;34m=\u001b[0m \u001b[0mnp\u001b[0m\u001b[0;34m.\u001b[0m\u001b[0margmax\u001b[0m\u001b[0;34m(\u001b[0m\u001b[0mpreds\u001b[0m\u001b[0;34m,\u001b[0m \u001b[0maxis\u001b[0m\u001b[0;34m=\u001b[0m\u001b[0;36m1\u001b[0m\u001b[0;34m)\u001b[0m\u001b[0;34m\u001b[0m\u001b[0;34m\u001b[0m\u001b[0m\n",
            "\u001b[0;32m/usr/local/lib/python3.12/dist-packages/keras/src/utils/traceback_utils.py\u001b[0m in \u001b[0;36merror_handler\u001b[0;34m(*args, **kwargs)\u001b[0m\n\u001b[1;32m    115\u001b[0m         \u001b[0mfiltered_tb\u001b[0m \u001b[0;34m=\u001b[0m \u001b[0;32mNone\u001b[0m\u001b[0;34m\u001b[0m\u001b[0;34m\u001b[0m\u001b[0m\n\u001b[1;32m    116\u001b[0m         \u001b[0;32mtry\u001b[0m\u001b[0;34m:\u001b[0m\u001b[0;34m\u001b[0m\u001b[0;34m\u001b[0m\u001b[0m\n\u001b[0;32m--> 117\u001b[0;31m             \u001b[0;32mreturn\u001b[0m \u001b[0mfn\u001b[0m\u001b[0;34m(\u001b[0m\u001b[0;34m*\u001b[0m\u001b[0margs\u001b[0m\u001b[0;34m,\u001b[0m \u001b[0;34m**\u001b[0m\u001b[0mkwargs\u001b[0m\u001b[0;34m)\u001b[0m\u001b[0;34m\u001b[0m\u001b[0;34m\u001b[0m\u001b[0m\n\u001b[0m\u001b[1;32m    118\u001b[0m         \u001b[0;32mexcept\u001b[0m \u001b[0mException\u001b[0m \u001b[0;32mas\u001b[0m \u001b[0me\u001b[0m\u001b[0;34m:\u001b[0m\u001b[0;34m\u001b[0m\u001b[0;34m\u001b[0m\u001b[0m\n\u001b[1;32m    119\u001b[0m             \u001b[0mfiltered_tb\u001b[0m \u001b[0;34m=\u001b[0m \u001b[0m_process_traceback_frames\u001b[0m\u001b[0;34m(\u001b[0m\u001b[0me\u001b[0m\u001b[0;34m.\u001b[0m\u001b[0m__traceback__\u001b[0m\u001b[0;34m)\u001b[0m\u001b[0;34m\u001b[0m\u001b[0;34m\u001b[0m\u001b[0m\n",
            "\u001b[0;32m/usr/local/lib/python3.12/dist-packages/keras/src/backend/tensorflow/trainer.py\u001b[0m in \u001b[0;36mpredict\u001b[0;34m(self, x, batch_size, verbose, steps, callbacks)\u001b[0m\n\u001b[1;32m    563\u001b[0m             \u001b[0;32mfor\u001b[0m \u001b[0mstep\u001b[0m\u001b[0;34m,\u001b[0m \u001b[0miterator\u001b[0m \u001b[0;32min\u001b[0m \u001b[0mepoch_iterator\u001b[0m\u001b[0;34m:\u001b[0m\u001b[0;34m\u001b[0m\u001b[0;34m\u001b[0m\u001b[0m\n\u001b[1;32m    564\u001b[0m                 \u001b[0mcallbacks\u001b[0m\u001b[0;34m.\u001b[0m\u001b[0mon_predict_batch_begin\u001b[0m\u001b[0;34m(\u001b[0m\u001b[0mstep\u001b[0m\u001b[0;34m)\u001b[0m\u001b[0;34m\u001b[0m\u001b[0;34m\u001b[0m\u001b[0m\n\u001b[0;32m--> 565\u001b[0;31m                 \u001b[0mdata\u001b[0m \u001b[0;34m=\u001b[0m \u001b[0mget_data\u001b[0m\u001b[0;34m(\u001b[0m\u001b[0miterator\u001b[0m\u001b[0;34m)\u001b[0m\u001b[0;34m\u001b[0m\u001b[0;34m\u001b[0m\u001b[0m\n\u001b[0m\u001b[1;32m    566\u001b[0m                 \u001b[0mbatch_outputs\u001b[0m \u001b[0;34m=\u001b[0m \u001b[0mself\u001b[0m\u001b[0;34m.\u001b[0m\u001b[0mpredict_function\u001b[0m\u001b[0;34m(\u001b[0m\u001b[0mdata\u001b[0m\u001b[0;34m)\u001b[0m\u001b[0;34m\u001b[0m\u001b[0;34m\u001b[0m\u001b[0m\n\u001b[1;32m    567\u001b[0m                 \u001b[0moutputs\u001b[0m \u001b[0;34m=\u001b[0m \u001b[0mappend_to_outputs\u001b[0m\u001b[0;34m(\u001b[0m\u001b[0mbatch_outputs\u001b[0m\u001b[0;34m,\u001b[0m \u001b[0moutputs\u001b[0m\u001b[0;34m)\u001b[0m\u001b[0;34m\u001b[0m\u001b[0;34m\u001b[0m\u001b[0m\n",
            "\u001b[0;32m/usr/local/lib/python3.12/dist-packages/keras/src/backend/tensorflow/trainer.py\u001b[0m in \u001b[0;36mget_data\u001b[0;34m(iterator)\u001b[0m\n\u001b[1;32m    543\u001b[0m             \u001b[0;32mfor\u001b[0m \u001b[0m_\u001b[0m \u001b[0;32min\u001b[0m \u001b[0mrange\u001b[0m\u001b[0;34m(\u001b[0m\u001b[0mself\u001b[0m\u001b[0;34m.\u001b[0m\u001b[0msteps_per_execution\u001b[0m\u001b[0;34m)\u001b[0m\u001b[0;34m:\u001b[0m\u001b[0;34m\u001b[0m\u001b[0;34m\u001b[0m\u001b[0m\n\u001b[1;32m    544\u001b[0m                 \u001b[0;32mtry\u001b[0m\u001b[0;34m:\u001b[0m\u001b[0;34m\u001b[0m\u001b[0;34m\u001b[0m\u001b[0m\n\u001b[0;32m--> 545\u001b[0;31m                     \u001b[0msingle_step_data\u001b[0m \u001b[0;34m=\u001b[0m \u001b[0mnext\u001b[0m\u001b[0;34m(\u001b[0m\u001b[0miterator\u001b[0m\u001b[0;34m)\u001b[0m\u001b[0;34m\u001b[0m\u001b[0;34m\u001b[0m\u001b[0m\n\u001b[0m\u001b[1;32m    546\u001b[0m                 \u001b[0;32mexcept\u001b[0m \u001b[0;34m(\u001b[0m\u001b[0mStopIteration\u001b[0m\u001b[0;34m,\u001b[0m \u001b[0mtf\u001b[0m\u001b[0;34m.\u001b[0m\u001b[0merrors\u001b[0m\u001b[0;34m.\u001b[0m\u001b[0mOutOfRangeError\u001b[0m\u001b[0;34m)\u001b[0m \u001b[0;32mas\u001b[0m \u001b[0me\u001b[0m\u001b[0;34m:\u001b[0m\u001b[0;34m\u001b[0m\u001b[0;34m\u001b[0m\u001b[0m\n\u001b[1;32m    547\u001b[0m                     \u001b[0;32mif\u001b[0m \u001b[0mhasattr\u001b[0m\u001b[0;34m(\u001b[0m\u001b[0mdata\u001b[0m\u001b[0;34m,\u001b[0m \u001b[0;34m\"__len__\"\u001b[0m\u001b[0;34m)\u001b[0m \u001b[0;32mand\u001b[0m \u001b[0mlen\u001b[0m\u001b[0;34m(\u001b[0m\u001b[0mdata\u001b[0m\u001b[0;34m)\u001b[0m \u001b[0;34m>\u001b[0m \u001b[0;36m0\u001b[0m\u001b[0;34m:\u001b[0m\u001b[0;34m\u001b[0m\u001b[0;34m\u001b[0m\u001b[0m\n",
            "\u001b[0;32m/usr/local/lib/python3.12/dist-packages/tensorflow/python/data/ops/iterator_ops.py\u001b[0m in \u001b[0;36m__next__\u001b[0;34m(self)\u001b[0m\n\u001b[1;32m    824\u001b[0m   \u001b[0;32mdef\u001b[0m \u001b[0m__next__\u001b[0m\u001b[0;34m(\u001b[0m\u001b[0mself\u001b[0m\u001b[0;34m)\u001b[0m\u001b[0;34m:\u001b[0m\u001b[0;34m\u001b[0m\u001b[0;34m\u001b[0m\u001b[0m\n\u001b[1;32m    825\u001b[0m     \u001b[0;32mtry\u001b[0m\u001b[0;34m:\u001b[0m\u001b[0;34m\u001b[0m\u001b[0;34m\u001b[0m\u001b[0m\n\u001b[0;32m--> 826\u001b[0;31m       \u001b[0;32mreturn\u001b[0m \u001b[0mself\u001b[0m\u001b[0;34m.\u001b[0m\u001b[0m_next_internal\u001b[0m\u001b[0;34m(\u001b[0m\u001b[0;34m)\u001b[0m\u001b[0;34m\u001b[0m\u001b[0;34m\u001b[0m\u001b[0m\n\u001b[0m\u001b[1;32m    827\u001b[0m     \u001b[0;32mexcept\u001b[0m \u001b[0merrors\u001b[0m\u001b[0;34m.\u001b[0m\u001b[0mOutOfRangeError\u001b[0m\u001b[0;34m:\u001b[0m\u001b[0;34m\u001b[0m\u001b[0;34m\u001b[0m\u001b[0m\n\u001b[1;32m    828\u001b[0m       \u001b[0;32mraise\u001b[0m \u001b[0mStopIteration\u001b[0m\u001b[0;34m\u001b[0m\u001b[0;34m\u001b[0m\u001b[0m\n",
            "\u001b[0;32m/usr/local/lib/python3.12/dist-packages/tensorflow/python/data/ops/iterator_ops.py\u001b[0m in \u001b[0;36m_next_internal\u001b[0;34m(self)\u001b[0m\n\u001b[1;32m    774\u001b[0m     \u001b[0;31m# to communicate that there is no more data to iterate over.\u001b[0m\u001b[0;34m\u001b[0m\u001b[0;34m\u001b[0m\u001b[0m\n\u001b[1;32m    775\u001b[0m     \u001b[0;32mwith\u001b[0m \u001b[0mcontext\u001b[0m\u001b[0;34m.\u001b[0m\u001b[0mexecution_mode\u001b[0m\u001b[0;34m(\u001b[0m\u001b[0mcontext\u001b[0m\u001b[0;34m.\u001b[0m\u001b[0mSYNC\u001b[0m\u001b[0;34m)\u001b[0m\u001b[0;34m:\u001b[0m\u001b[0;34m\u001b[0m\u001b[0;34m\u001b[0m\u001b[0m\n\u001b[0;32m--> 776\u001b[0;31m       ret = gen_dataset_ops.iterator_get_next(\n\u001b[0m\u001b[1;32m    777\u001b[0m           \u001b[0mself\u001b[0m\u001b[0;34m.\u001b[0m\u001b[0m_iterator_resource\u001b[0m\u001b[0;34m,\u001b[0m\u001b[0;34m\u001b[0m\u001b[0;34m\u001b[0m\u001b[0m\n\u001b[1;32m    778\u001b[0m           \u001b[0moutput_types\u001b[0m\u001b[0;34m=\u001b[0m\u001b[0mself\u001b[0m\u001b[0;34m.\u001b[0m\u001b[0m_flat_output_types\u001b[0m\u001b[0;34m,\u001b[0m\u001b[0;34m\u001b[0m\u001b[0;34m\u001b[0m\u001b[0m\n",
            "\u001b[0;32m/usr/local/lib/python3.12/dist-packages/tensorflow/python/ops/gen_dataset_ops.py\u001b[0m in \u001b[0;36miterator_get_next\u001b[0;34m(iterator, output_types, output_shapes, name)\u001b[0m\n\u001b[1;32m   3079\u001b[0m   \u001b[0;32mif\u001b[0m \u001b[0mtld\u001b[0m\u001b[0;34m.\u001b[0m\u001b[0mis_eager\u001b[0m\u001b[0;34m:\u001b[0m\u001b[0;34m\u001b[0m\u001b[0;34m\u001b[0m\u001b[0m\n\u001b[1;32m   3080\u001b[0m     \u001b[0;32mtry\u001b[0m\u001b[0;34m:\u001b[0m\u001b[0;34m\u001b[0m\u001b[0;34m\u001b[0m\u001b[0m\n\u001b[0;32m-> 3081\u001b[0;31m       _result = pywrap_tfe.TFE_Py_FastPathExecute(\n\u001b[0m\u001b[1;32m   3082\u001b[0m         \u001b[0m_ctx\u001b[0m\u001b[0;34m,\u001b[0m \u001b[0;34m\"IteratorGetNext\"\u001b[0m\u001b[0;34m,\u001b[0m \u001b[0mname\u001b[0m\u001b[0;34m,\u001b[0m \u001b[0miterator\u001b[0m\u001b[0;34m,\u001b[0m \u001b[0;34m\"output_types\"\u001b[0m\u001b[0;34m,\u001b[0m \u001b[0moutput_types\u001b[0m\u001b[0;34m,\u001b[0m\u001b[0;34m\u001b[0m\u001b[0;34m\u001b[0m\u001b[0m\n\u001b[1;32m   3083\u001b[0m         \"output_shapes\", output_shapes)\n",
            "\u001b[0;31mKeyboardInterrupt\u001b[0m: "
          ]
        }
      ]
    },
    {
      "cell_type": "code",
      "source": [
        "evaluate_model(\n",
        "    \"/content/drive/MyDrive/Tomato_dataset/models/ripe_mobilenet.keras\",\n",
        "    \"/content/drive/MyDrive/Tomato_dataset/cnn_crops/ripe/val\",\n",
        "    img_size=(160, 160)   # ✅ Match model training size\n",
        ")"
      ],
      "metadata": {
        "id": "D5rmlHgU6u3C",
        "outputId": "783866dd-8732-4262-cdba-07be12822ddd",
        "colab": {
          "base_uri": "https://localhost:8080/",
          "height": 849
        }
      },
      "execution_count": null,
      "outputs": [
        {
          "output_type": "stream",
          "name": "stdout",
          "text": [
            "🔹 Loading model from: /content/drive/MyDrive/Tomato_dataset/models/ripe_mobilenet.keras\n",
            "Found 207 images belonging to 4 classes.\n",
            "🔹 Evaluating 207 images...\n",
            "\u001b[1m7/7\u001b[0m \u001b[32m━━━━━━━━━━━━━━━━━━━━\u001b[0m\u001b[37m\u001b[0m \u001b[1m9s\u001b[0m 1s/step\n",
            "\n",
            "✅ Accuracy: 0.4879\n",
            "✅ F1-score: 0.5020\n",
            "\n",
            "📊 Classification Report:\n",
            "              precision    recall  f1-score   support\n",
            "\n",
            "       R_ber       0.22      0.45      0.30        22\n",
            "   R_healthy       0.66      0.50      0.57       113\n",
            "R_lateblight       0.50      0.17      0.25         6\n",
            "     R_spots       0.45      0.50      0.47        66\n",
            "\n",
            "    accuracy                           0.49       207\n",
            "   macro avg       0.46      0.41      0.40       207\n",
            "weighted avg       0.54      0.49      0.50       207\n",
            "\n"
          ]
        },
        {
          "output_type": "display_data",
          "data": {
            "text/plain": [
              "<Figure size 600x500 with 2 Axes>"
            ],
            "image/png": "[encoded data removed]"
          },
          "metadata": {}
        }
      ]
    }
  ]
}