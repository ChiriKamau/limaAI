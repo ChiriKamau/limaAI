{
  "nbformat": 4,
  "nbformat_minor": 0,
  "metadata": {
    "colab": {
      "provenance": [],
      "include_colab_link": true
    },
    "kernelspec": {
      "name": "python3",
      "display_name": "Python 3"
    },
    "language_info": {
      "name": "python"
    }
  },
  "cells": [
    {
      "cell_type": "markdown",
      "metadata": {
        "id": "view-in-github",
        "colab_type": "text"
      },
      "source": [
        "<a href=\"https://colab.research.google.com/github/ChiriKamau/limaAI/blob/main/notebooks/Transfer_ML.ipynb\" target=\"_parent\"><img src=\"https://colab.research.google.com/assets/colab-badge.svg\" alt=\"Open In Colab\"/></a>"
      ]
    },
    {
      "cell_type": "code",
      "source": [
        "from google.colab import drive\n",
        "drive.mount('/content/drive')"
      ],
      "metadata": {
        "colab": {
          "base_uri": "https://localhost:8080/"
        },
        "id": "Sfz1HiUQSXZZ",
        "outputId": "d18cf197-a91a-40bc-e4ba-e684ef810879"
      },
      "execution_count": 2,
      "outputs": [
        {
          "output_type": "stream",
          "name": "stdout",
          "text": [
            "Mounted at /content/drive\n"
          ]
        }
      ]
    },
    {
      "cell_type": "code",
      "source": [
        "import numpy as np\n",
        "import tensorflow as tf\n",
        "from tensorflow.keras.preprocessing.image import ImageDataGenerator\n",
        "from sklearn.utils.class_weight import compute_class_weight\n",
        "from collections import Counter"
      ],
      "metadata": {
        "id": "VFBgeYOHNZfU"
      },
      "execution_count": null,
      "outputs": []
    },
    {
      "cell_type": "markdown",
      "source": [
        "### Define Dataset Paths and Print Class Counts\n",
        "\n",
        "This section defines the file paths for the tomato dataset, which is stored in Google Drive under the directory `/content/drive/MyDrive/Tomato_dataset/cnn_crops`. The dataset is split into ripe and green categories, each with training and validation subdirectories containing class-specific folders (e.g., 'R_ber', 'R_healthy', 'R_spots' for ripe; 'G_ber', 'G_healthy', 'G_lateblight', 'G_spots' for green). A helper function, `folder_counts`, is defined to count the number of image files in each class subfolder. This helps verify the dataset's class distribution, which is imbalanced (e.g., Ripe train: {'R_ber': 447, 'R_healthy': 768, 'R_spots': 364}, Green train: {'G_ber': 475, 'G_healthy': 2141, 'G_lateblight': 191, 'G_spots': 1537}). The counts are printed for both training and validation sets to ensure the dataset is correctly set up before training."
      ],
      "metadata": {
        "id": "hRcUSBm6OiBL"
      }
    },
    {
      "cell_type": "code",
      "execution_count": 5,
      "metadata": {
        "id": "vgnhIoCU9bHb",
        "colab": {
          "base_uri": "https://localhost:8080/"
        },
        "outputId": "c3b58101-684c-435c-cfd0-8044c5778901"
      },
      "outputs": [
        {
          "output_type": "stream",
          "name": "stdout",
          "text": [
            "Ripe train counts: {'R_ber': 447, 'R_healthy': 768, 'R_spots': 364}\n",
            "Ripe val counts:   {'R_ber': 80, 'R_healthy': 194, 'R_spots': 110}\n",
            "Green train counts: {'G_ber': 475, 'G_healthy': 2141, 'G_lateblight': 191, 'G_spots': 1537}\n",
            "Green val counts:   {'G_ber': 41, 'G_healthy': 481, 'G_lateblight': 41, 'G_spots': 383}\n"
          ]
        }
      ],
      "source": [
        "\n",
        "\n",
        "# Paths\n",
        "base = '/content/drive/MyDrive/Tomato_dataset/cnn_crops'  # change if needed\n",
        "ripe_train_dir = os.path.join(base, 'ripe/train')\n",
        "ripe_val_dir   = os.path.join(base, 'ripe/val')\n",
        "green_train_dir= os.path.join(base, 'green/train')\n",
        "green_val_dir  = os.path.join(base, 'green/val')\n",
        "\n",
        "# Quick helper to print counts\n",
        "def folder_counts(p):\n",
        "    out = {}\n",
        "    for c in sorted(os.listdir(p)):\n",
        "        cp = os.path.join(p, c)\n",
        "        if os.path.isdir(cp):\n",
        "            out[c] = sum([1 for f in os.listdir(cp) if os.path.isfile(os.path.join(cp, f))])\n",
        "    return out\n",
        "\n",
        "print(\"Ripe train counts:\", folder_counts(ripe_train_dir))\n",
        "print(\"Ripe val counts:  \", folder_counts(ripe_val_dir))\n",
        "print(\"Green train counts:\", folder_counts(green_train_dir))\n",
        "print(\"Green val counts:  \", folder_counts(green_val_dir))\n",
        "\n"
      ]
    },
    {
      "cell_type": "markdown",
      "source": [
        "### Set Global Constants\n",
        "\n",
        "This cell defines key constants for the model training process, tailored for the tomato dataset stored in Google Drive. `IMG_SIZE` sets the image resolution to 160x160 pixels to reduce computational load on CPU (can be increased to 224 for better accuracy with GPU). `BATCH_SIZE` is set to 12 to fit CPU memory constraints. `EPOCHS` specifies 30 training iterations, and `AUTOTUNE` optimizes data loading performance in TensorFlow. These constants will be used in data generators and model training."
      ],
      "metadata": {
        "id": "apr1pxp6O94m"
      }
    },
    {
      "cell_type": "code",
      "source": [
        "IMG_SIZE = 160           # smaller for CPU, change to 224 if desired\n",
        "BATCH_SIZE = 12          # small to fit CPU\n",
        "EPOCHS = 30\n",
        "AUTOTUNE = tf.data.AUTOTUNE"
      ],
      "metadata": {
        "id": "EsGxFDAq9zsz"
      },
      "execution_count": 6,
      "outputs": []
    },
    {
      "cell_type": "markdown",
      "source": [
        "### Create Data Generators for Training and Validation\n",
        "\n",
        "This cell defines the `make_data_generators` function to load and preprocess images from the tomato dataset stored in Google Drive. It creates two `ImageDataGenerator` objects: `train_datagen` applies augmentations (rescaling, rotation, shifts, brightness changes, shear, zoom, and horizontal flips) to training images to increase diversity and help with the imbalanced dataset (e.g., fewer 'R_spots' or 'G_lateblight' samples). `val_datagen` only rescales validation images to maintain their original appearance. The function uses `flow_from_directory` to load images from the specified training and validation directories, resizing them to `IMG_SIZE` (160x160), setting the batch size to `BATCH_SIZE` (12), and configuring for categorical classification. The training data is shuffled, while validation data is not, ensuring consistent evaluation. It returns the training and validation generators for model training."
      ],
      "metadata": {
        "id": "QDsurd-TPYl-"
      }
    },
    {
      "cell_type": "code",
      "source": [
        "def make_data_generators(train_dir, val_dir, img_size=IMG_SIZE, batch_size=BATCH_SIZE):\n",
        "    train_datagen = ImageDataGenerator(\n",
        "        rescale=1./255,\n",
        "        rotation_range=25,\n",
        "        width_shift_range=0.1,\n",
        "        height_shift_range=0.1,\n",
        "        brightness_range=(0.7,1.3),\n",
        "        shear_range=0.1,\n",
        "        zoom_range=0.2,\n",
        "        horizontal_flip=True,\n",
        "        fill_mode='nearest'\n",
        "    )\n",
        "    val_datagen = ImageDataGenerator(rescale=1./255)\n",
        "\n",
        "    train_gen = train_datagen.flow_from_directory(\n",
        "        train_dir, target_size=(img_size, img_size),\n",
        "        batch_size=batch_size, class_mode='categorical', shuffle=True\n",
        "    )\n",
        "    val_gen = val_datagen.flow_from_directory(\n",
        "        val_dir, target_size=(img_size, img_size),\n",
        "        batch_size=batch_size, class_mode='categorical', shuffle=False\n",
        "    )\n",
        "    return train_gen, val_gen"
      ],
      "metadata": {
        "id": "lsg98Ajs3ewH"
      },
      "execution_count": 7,
      "outputs": []
    },
    {
      "cell_type": "markdown",
      "source": [
        "### Compute Class Weights for Imbalanced Dataset\n",
        "\n",
        "This cell defines the `compute_class_weights` function to handle the imbalanced tomato dataset stored in Google Drive (e.g., Ripe train: {'R_ber': 447, 'R_healthy': 768, 'R_spots': 364}, Green train: {'G_ber': 475, 'G_healthy': 2141, 'G_lateblight': 191, 'G_spots': 1537}). The function calculates weights to prioritize underrepresented classes (e.g., 'G_lateblight' with only 191 samples) during model training, preventing the model from being biased toward majority classes like 'G_healthy' (2141 samples). It uses the training generator's `classes` attribute, which lists the class index (e.g., 0, 1, 2, ...) for each sample.\n",
        "\n",
        " The `compute_class_weight` function from scikit-learn, set to 'balanced' mode, computes weights as `n_samples / (n_classes * n_samples_per_class)`, where `n_samples` is the total number of samples, and `n_samples_per_class` is the count for each class. This gives higher weights to classes with fewer samples (e.g., 'G_lateblight' gets a higher weight than 'G_healthy'). The weights are returned as a dictionary mapping class indices to their weights, used in training to adjust the loss function, ensuring the model pays more attention to minority classes."
      ],
      "metadata": {
        "id": "4WaCl1eoPvyC"
      }
    },
    {
      "cell_type": "code",
      "source": [
        "def compute_class_weights(generator):\n",
        "    # generator.classes is the class index for each sample\n",
        "    classes = generator.classes\n",
        "    labels = np.unique(classes)\n",
        "    cw = compute_class_weight(class_weight='balanced', classes=labels, y=classes)\n",
        "    # return a dict mapping {class_index: weight}\n",
        "    return {i: cw[i] for i in labels}"
      ],
      "metadata": {
        "id": "dD9RKFkv3jZH"
      },
      "execution_count": 8,
      "outputs": []
    },
    {
      "cell_type": "markdown",
      "source": [
        "### Build Transfer Learning Model with MobileNetV2\n",
        "\n",
        "This cell defines the `build_transfer_model` function to create a CNN for classifying tomato images from the dataset stored in Google Drive. It uses MobileNetV2, a lightweight model pre-trained on ImageNet, ideal for CPU training with 160x160 images.\n",
        "\n",
        "The function takes `num_classes` (e.g., 3 for ripe, 4 for green), `img_size` (default 160), and `base_trainable` (default False) to freeze the base model initially. The model removes MobileNetV2’s top layer, applies global average pooling, and adds a custom head.\n",
        "\n",
        "The head includes a 256-unit dense layer with ReLU, a 50% dropout to prevent overfitting, and a softmax layer for multi-class classification. It’s compiled with Adam optimizer (learning rate 0.001), categorical cross-entropy loss, and accuracy metric.\n",
        "\n",
        "This setup leverages pre-trained features to handle the imbalanced dataset, with fine-tuning possible later by setting `base_trainable=True`."
      ],
      "metadata": {
        "id": "hsGCNQmaRUR0"
      }
    },
    {
      "cell_type": "code",
      "source": [
        "def build_transfer_model(num_classes, img_size=IMG_SIZE, base_trainable=False):\n",
        "    base = tf.keras.applications.MobileNetV2(\n",
        "        input_shape=(img_size, img_size, 3),\n",
        "        include_top=False, weights='imagenet', pooling='avg'\n",
        "    )\n",
        "    base.trainable = base_trainable  # freeze by default\n",
        "    inputs = tf.keras.Input(shape=(img_size, img_size, 3))\n",
        "    x = base(inputs, training=False)\n",
        "    x = tf.keras.layers.Dense(256, activation='relu')(x)\n",
        "    x = tf.keras.layers.Dropout(0.5)(x)\n",
        "    outputs = tf.keras.layers.Dense(num_classes, activation='softmax')(x)\n",
        "    model = tf.keras.Model(inputs, outputs)\n",
        "    model.compile(\n",
        "        optimizer=tf.keras.optimizers.Adam(learning_rate=1e-3),\n",
        "        loss='categorical_crossentropy',\n",
        "        metrics=['accuracy']\n",
        "    )\n",
        "    return model"
      ],
      "metadata": {
        "id": "1xMeF_nI3no0"
      },
      "execution_count": 9,
      "outputs": []
    },
    {
      "cell_type": "markdown",
      "source": [
        "### Train and Fine-Tune Transfer Learning Model\n",
        "\n",
        "This cell defines the `train_with_transfer` function to train a MobileNetV2 model on the tomato dataset stored in Google Drive. It creates training and validation data generators using `make_data_generators` for the specified directories.\n",
        "\n",
        "The function determines the number of classes from the training generator and prints class indices for verification. It computes class weights with `compute_class_weights` to handle dataset imbalance (e.g., fewer 'G_lateblight' samples).\n",
        "\n",
        "A model is built with `build_transfer_model`, initially with a frozen base. Callbacks are set: `ModelCheckpoint` saves the best model based on validation accuracy, `EarlyStopping` halts training if validation accuracy doesn’t improve for 6 epochs, and `ReduceLROnPlateau` reduces the learning rate if validation loss stalls.\n",
        "\n",
        "Training runs for `EPOCHS` (30) with calculated steps per epoch. After initial training, the function fine-tunes the model by unfreezing the top 20% of MobileNetV2 layers, recompiling with a lower learning rate (1e-5), and training for 10 more epochs with adjusted callbacks.\n",
        "\n",
        "The function returns the trained model and histories for both training phases, allowing performance analysis."
      ],
      "metadata": {
        "id": "X_eA7A3JSGfZ"
      }
    },
    {
      "cell_type": "markdown",
      "source": [
        "### Transfer Learning Process Explained\n",
        "\n",
        "**Transfer Learning Strategy**: This function uses a **two-phase approach** to leverage MobileNetV2's ImageNet pre-training for the imbalanced tomato dataset.\n",
        "\n",
        "**Phase 1 - Feature Extraction**:\n",
        "- MobileNetV2 base is **frozen** (`base_trainable=False`)\n",
        "- Only the custom head (dense layers) is trained\n",
        "- Uses higher learning rate (0.001) for 30 epochs\n",
        "- Leverages pre-trained features for edges, textures, colors\n",
        "- Fast training, minimal risk of destroying useful features\n",
        "\n",
        "**Phase 2 - Fine-Tuning**:\n",
        "- **Unfreezes top 20%** of MobileNetV2 layers (`fine_tune_at = 0.8`)\n",
        "- Keeps bottom 80% frozen to preserve generic features\n",
        "- Uses **much lower learning rate (1e-5)** to make small adjustments\n",
        "- Trains for 10 more epochs\n",
        "- Adapts model to tomato-specific patterns (spots, blight, ripeness)\n",
        "\n",
        "**Why This Works**:\n",
        "- **Phase 1**: Quick baseline using proven features\n",
        "- **Phase 2**: Gradual specialization without overfitting\n",
        "- **Imbalance Handling**: Class weights ensure minority classes (e.g., 'G_lateblight') get attention\n",
        "- **CPU-Friendly**: MobileNetV2 + small batch size = efficient training\n",
        "\n",
        "**Expected Improvement**: 5-15% accuracy boost from fine-tuning on your dataset."
      ],
      "metadata": {
        "id": "Ca8paVZnS1Wb"
      }
    },
    {
      "cell_type": "code",
      "source": [
        "def train_with_transfer(train_dir, val_dir, out_path, img_size=IMG_SIZE, batch_size=BATCH_SIZE, epochs=EPOCHS):\n",
        "    train_gen, val_gen = make_data_generators(train_dir, val_dir, img_size, batch_size)\n",
        "    num_classes = len(train_gen.class_indices)\n",
        "    print(\"Num classes:\", num_classes, \"Class indices:\", train_gen.class_indices)\n",
        "    class_weights = compute_class_weights(train_gen)\n",
        "    print(\"Class weights:\", class_weights)\n",
        "\n",
        "    model = build_transfer_model(num_classes, img_size, base_trainable=False)\n",
        "    ckpt = ModelCheckpoint(out_path, save_best_only=True, monitor='val_accuracy', mode='max')\n",
        "    es = EarlyStopping(patience=6, restore_best_weights=True, monitor='val_accuracy')\n",
        "    rlp = ReduceLROnPlateau(patience=3, factor=0.5, monitor='val_loss')\n",
        "\n",
        "    steps_per_epoch = max(1, train_gen.samples // batch_size)\n",
        "    val_steps = max(1, val_gen.samples // batch_size)\n",
        "\n",
        "    history = model.fit(\n",
        "        train_gen,\n",
        "        validation_data=val_gen,\n",
        "        epochs=epochs,\n",
        "        class_weight=class_weights,\n",
        "        callbacks=[ckpt, es, rlp],\n",
        "        steps_per_epoch=steps_per_epoch,\n",
        "        validation_steps=val_steps,\n",
        "        verbose=1\n",
        "    )\n",
        "\n",
        "    # Optionally fine-tune: unfreeze last few layers and train with low LR\n",
        "    base = model.layers[1]  # MobileNetV2 base if you used the builder above - check model.layers\n",
        "    base.trainable = True\n",
        "    # freeze all except top N layers\n",
        "    fine_tune_at = int(len(base.layers) * 0.8)\n",
        "    for layer in base.layers[:fine_tune_at]:\n",
        "        layer.trainable = False\n",
        "    model.compile(optimizer=tf.keras.optimizers.Adam(1e-5), loss='categorical_crossentropy', metrics=['accuracy'])\n",
        "    ft_history = model.fit(\n",
        "        train_gen,\n",
        "        validation_data=val_gen,\n",
        "        epochs=10,\n",
        "        class_weight=class_weights,\n",
        "        callbacks=[EarlyStopping(patience=4, restore_best_weights=True), ReduceLROnPlateau(patience=2)],\n",
        "        steps_per_epoch=steps_per_epoch,\n",
        "        validation_steps=val_steps,\n",
        "        verbose=1\n",
        "    )\n",
        "    return model, history, ft_history"
      ],
      "metadata": {
        "id": "xgMqh7Xe3xKj"
      },
      "execution_count": 10,
      "outputs": []
    },
    {
      "cell_type": "markdown",
      "source": [
        "### Train Green Tomato Model\n",
        "\n",
        "This cell trains a MobileNetV2 model for the green tomato dataset in Google Drive. It calls `train_with_transfer` with the green training and validation directories, saving the best model to the specified path. The function handles data loading, class weights, and two-phase training for green model which has 3 classes ( 'G_ber', 'G_lateblight', 'G.spots', 'G.healthy')."
      ],
      "metadata": {
        "id": "T2LWoiQqVWzi"
      }
    },
    {
      "cell_type": "code",
      "source": [
        "# Cell C: run training\n",
        "\n",
        "green_model_path = '/content/drive/MyDrive/Tomato_dataset/models/green_mobilenet(v2).keras'\n",
        "\n",
        "\n",
        "# Green\n",
        "_ = train_with_transfer(green_train_dir, green_val_dir, green_model_path)\n"
      ],
      "metadata": {
        "id": "SZAq4zOf-Ehm",
        "colab": {
          "base_uri": "https://localhost:8080/"
        },
        "outputId": "6e8630c0-06a2-4a61-fa38-41b6c41731c6"
      },
      "execution_count": 11,
      "outputs": [
        {
          "output_type": "stream",
          "name": "stdout",
          "text": [
            "Found 4344 images belonging to 4 classes.\n",
            "Found 946 images belonging to 4 classes.\n",
            "Num classes: 4 Class indices: {'G_ber': 0, 'G_healthy': 1, 'G_lateblight': 2, 'G_spots': 3}\n",
            "Class weights: {np.int32(0): np.float64(2.2863157894736843), np.int32(1): np.float64(0.507239607659972), np.int32(2): np.float64(5.68586387434555), np.int32(3): np.float64(0.7065712426805465)}\n",
            "Downloading data from https://storage.googleapis.com/tensorflow/keras-applications/mobilenet_v2/mobilenet_v2_weights_tf_dim_ordering_tf_kernels_1.0_160_no_top.h5\n",
            "\u001b[1m9406464/9406464\u001b[0m \u001b[32m━━━━━━━━━━━━━━━━━━━━\u001b[0m\u001b[37m\u001b[0m \u001b[1m0s\u001b[0m 0us/step\n"
          ]
        },
        {
          "output_type": "stream",
          "name": "stderr",
          "text": [
            "/usr/local/lib/python3.12/dist-packages/keras/src/trainers/data_adapters/py_dataset_adapter.py:121: UserWarning: Your `PyDataset` class should call `super().__init__(**kwargs)` in its constructor. `**kwargs` can include `workers`, `use_multiprocessing`, `max_queue_size`. Do not pass these arguments to `fit()`, as they will be ignored.\n",
            "  self._warn_if_super_not_called()\n"
          ]
        },
        {
          "output_type": "stream",
          "name": "stdout",
          "text": [
            "Epoch 1/30\n",
            "\u001b[1m362/362\u001b[0m \u001b[32m━━━━━━━━━━━━━━━━━━━━\u001b[0m\u001b[37m\u001b[0m \u001b[1m1293s\u001b[0m 4s/step - accuracy: 0.4382 - loss: 1.6314 - val_accuracy: 0.5940 - val_loss: 1.0225 - learning_rate: 0.0010\n",
            "Epoch 2/30\n",
            "\u001b[1m362/362\u001b[0m \u001b[32m━━━━━━━━━━━━━━━━━━━━\u001b[0m\u001b[37m\u001b[0m \u001b[1m162s\u001b[0m 447ms/step - accuracy: 0.5877 - loss: 0.9415 - val_accuracy: 0.5395 - val_loss: 1.0914 - learning_rate: 0.0010\n",
            "Epoch 3/30\n",
            "\u001b[1m362/362\u001b[0m \u001b[32m━━━━━━━━━━━━━━━━━━━━\u001b[0m\u001b[37m\u001b[0m \u001b[1m164s\u001b[0m 452ms/step - accuracy: 0.6001 - loss: 0.8882 - val_accuracy: 0.5951 - val_loss: 0.9667 - learning_rate: 0.0010\n",
            "Epoch 4/30\n",
            "\u001b[1m362/362\u001b[0m \u001b[32m━━━━━━━━━━━━━━━━━━━━\u001b[0m\u001b[37m\u001b[0m \u001b[1m201s\u001b[0m 556ms/step - accuracy: 0.6451 - loss: 0.8117 - val_accuracy: 0.6795 - val_loss: 0.8760 - learning_rate: 0.0010\n",
            "Epoch 5/30\n",
            "\u001b[1m362/362\u001b[0m \u001b[32m━━━━━━━━━━━━━━━━━━━━\u001b[0m\u001b[37m\u001b[0m \u001b[1m202s\u001b[0m 558ms/step - accuracy: 0.6267 - loss: 0.8106 - val_accuracy: 0.6752 - val_loss: 0.8484 - learning_rate: 0.0010\n",
            "Epoch 6/30\n",
            "\u001b[1m362/362\u001b[0m \u001b[32m━━━━━━━━━━━━━━━━━━━━\u001b[0m\u001b[37m\u001b[0m \u001b[1m200s\u001b[0m 554ms/step - accuracy: 0.6304 - loss: 0.8049 - val_accuracy: 0.5620 - val_loss: 1.0733 - learning_rate: 0.0010\n",
            "Epoch 7/30\n",
            "\u001b[1m362/362\u001b[0m \u001b[32m━━━━━━━━━━━━━━━━━━━━\u001b[0m\u001b[37m\u001b[0m \u001b[1m168s\u001b[0m 464ms/step - accuracy: 0.6468 - loss: 0.7789 - val_accuracy: 0.6774 - val_loss: 0.8449 - learning_rate: 0.0010\n",
            "Epoch 8/30\n",
            "\u001b[1m362/362\u001b[0m \u001b[32m━━━━━━━━━━━━━━━━━━━━\u001b[0m\u001b[37m\u001b[0m \u001b[1m200s\u001b[0m 458ms/step - accuracy: 0.6629 - loss: 0.7441 - val_accuracy: 0.6261 - val_loss: 0.9521 - learning_rate: 0.0010\n",
            "Epoch 9/30\n",
            "\u001b[1m362/362\u001b[0m \u001b[32m━━━━━━━━━━━━━━━━━━━━\u001b[0m\u001b[37m\u001b[0m \u001b[1m204s\u001b[0m 465ms/step - accuracy: 0.6652 - loss: 0.7554 - val_accuracy: 0.6261 - val_loss: 0.9558 - learning_rate: 0.0010\n",
            "Epoch 10/30\n",
            "\u001b[1m362/362\u001b[0m \u001b[32m━━━━━━━━━━━━━━━━━━━━\u001b[0m\u001b[37m\u001b[0m \u001b[1m162s\u001b[0m 448ms/step - accuracy: 0.6831 - loss: 0.6759 - val_accuracy: 0.6581 - val_loss: 0.8769 - learning_rate: 0.0010\n",
            "Epoch 1/10\n",
            "\u001b[1m362/362\u001b[0m \u001b[32m━━━━━━━━━━━━━━━━━━━━\u001b[0m\u001b[37m\u001b[0m \u001b[1m219s\u001b[0m 571ms/step - accuracy: 0.5723 - loss: 1.0093 - val_accuracy: 0.6923 - val_loss: 0.8034 - learning_rate: 1.0000e-05\n",
            "Epoch 2/10\n",
            "\u001b[1m362/362\u001b[0m \u001b[32m━━━━━━━━━━━━━━━━━━━━\u001b[0m\u001b[37m\u001b[0m \u001b[1m264s\u001b[0m 576ms/step - accuracy: 0.6204 - loss: 0.8308 - val_accuracy: 0.6902 - val_loss: 0.7979 - learning_rate: 1.0000e-05\n",
            "Epoch 3/10\n",
            "\u001b[1m362/362\u001b[0m \u001b[32m━━━━━━━━━━━━━━━━━━━━\u001b[0m\u001b[37m\u001b[0m \u001b[1m260s\u001b[0m 571ms/step - accuracy: 0.6575 - loss: 0.7786 - val_accuracy: 0.7009 - val_loss: 0.7996 - learning_rate: 1.0000e-05\n",
            "Epoch 4/10\n",
            "\u001b[1m362/362\u001b[0m \u001b[32m━━━━━━━━━━━━━━━━━━━━\u001b[0m\u001b[37m\u001b[0m \u001b[1m209s\u001b[0m 578ms/step - accuracy: 0.6645 - loss: 0.7296 - val_accuracy: 0.6912 - val_loss: 0.8231 - learning_rate: 1.0000e-05\n",
            "Epoch 5/10\n",
            "\u001b[1m362/362\u001b[0m \u001b[32m━━━━━━━━━━━━━━━━━━━━\u001b[0m\u001b[37m\u001b[0m \u001b[1m264s\u001b[0m 728ms/step - accuracy: 0.6797 - loss: 0.7718 - val_accuracy: 0.6859 - val_loss: 0.8404 - learning_rate: 1.0000e-06\n",
            "Epoch 6/10\n",
            "\u001b[1m362/362\u001b[0m \u001b[32m━━━━━━━━━━━━━━━━━━━━\u001b[0m\u001b[37m\u001b[0m \u001b[1m261s\u001b[0m 720ms/step - accuracy: 0.6717 - loss: 0.7351 - val_accuracy: 0.6859 - val_loss: 0.8482 - learning_rate: 1.0000e-06\n"
          ]
        }
      ]
    },
    {
      "cell_type": "markdown",
      "source": [
        "### Train Ripe Tomato Model\n",
        "\n",
        "This cell trains a MobileNetV2 model for the ripe tomato dataset in Google Drive. It calls `train_with_transfer` with the ripe training and validation directories, saving the best model to the specified path. The function manages data loading, class weights, and two-phase training for ripe model which have 3 classes ( 'R_ber', 'R_healthy', 'R.spots')."
      ],
      "metadata": {
        "id": "_fabK02OVt0T"
      }
    },
    {
      "cell_type": "code",
      "source": [
        "ripe_model_path = '/content/drive/MyDrive/Tomato_dataset/models/ripe_mobilenet(v2).keras'   # prefer .keras\n",
        "# Ripe\n",
        "_ = train_with_transfer(ripe_train_dir, ripe_val_dir, ripe_model_path)\n"
      ],
      "metadata": {
        "colab": {
          "base_uri": "https://localhost:8080/"
        },
        "id": "lwGXRcFJYSP7",
        "outputId": "d779e391-ba61-4a1a-b1c7-c3824d34a282"
      },
      "execution_count": 12,
      "outputs": [
        {
          "output_type": "stream",
          "name": "stdout",
          "text": [
            "Found 1579 images belonging to 3 classes.\n",
            "Found 384 images belonging to 3 classes.\n",
            "Num classes: 3 Class indices: {'R_ber': 0, 'R_healthy': 1, 'R_spots': 2}\n",
            "Class weights: {np.int32(0): np.float64(1.1774794929157346), np.int32(1): np.float64(0.6853298611111112), np.int32(2): np.float64(1.445970695970696)}\n"
          ]
        },
        {
          "output_type": "stream",
          "name": "stderr",
          "text": [
            "/usr/local/lib/python3.12/dist-packages/keras/src/trainers/data_adapters/py_dataset_adapter.py:121: UserWarning: Your `PyDataset` class should call `super().__init__(**kwargs)` in its constructor. `**kwargs` can include `workers`, `use_multiprocessing`, `max_queue_size`. Do not pass these arguments to `fit()`, as they will be ignored.\n",
            "  self._warn_if_super_not_called()\n"
          ]
        },
        {
          "output_type": "stream",
          "name": "stdout",
          "text": [
            "Epoch 1/30\n",
            "\u001b[1m131/131\u001b[0m \u001b[32m━━━━━━━━━━━━━━━━━━━━\u001b[0m\u001b[37m\u001b[0m \u001b[1m335s\u001b[0m 3s/step - accuracy: 0.5284 - loss: 1.2710 - val_accuracy: 0.5182 - val_loss: 0.9354 - learning_rate: 0.0010\n",
            "Epoch 2/30\n",
            "\u001b[1m  1/131\u001b[0m \u001b[37m━━━━━━━━━━━━━━━━━━━━\u001b[0m \u001b[1m26s\u001b[0m 204ms/step - accuracy: 0.5000 - loss: 0.9452"
          ]
        },
        {
          "output_type": "stream",
          "name": "stderr",
          "text": [
            "/usr/local/lib/python3.12/dist-packages/keras/src/trainers/epoch_iterator.py:116: UserWarning: Your input ran out of data; interrupting training. Make sure that your dataset or generator can generate at least `steps_per_epoch * epochs` batches. You may need to use the `.repeat()` function when building your dataset.\n",
            "  self._interrupted_warning()\n"
          ]
        },
        {
          "output_type": "stream",
          "name": "stdout",
          "text": [
            "\b\b\b\b\b\b\b\b\b\b\b\b\b\b\b\b\b\b\b\b\b\b\b\b\b\b\b\b\b\b\b\b\b\b\b\b\b\b\b\b\b\b\b\b\b\b\b\b\b\b\b\b\b\b\b\b\b\b\b\b\b\b\b\b\b\b\b\b\b\b\b\b\b\b\b\b\b\r\u001b[1m131/131\u001b[0m \u001b[32m━━━━━━━━━━━━━━━━━━━━\u001b[0m\u001b[37m\u001b[0m \u001b[1m9s\u001b[0m 66ms/step - accuracy: 0.5000 - loss: 0.9452 - val_accuracy: 0.5234 - val_loss: 0.9266 - learning_rate: 0.0010\n",
            "Epoch 3/30\n",
            "\u001b[1m131/131\u001b[0m \u001b[32m━━━━━━━━━━━━━━━━━━━━\u001b[0m\u001b[37m\u001b[0m \u001b[1m61s\u001b[0m 468ms/step - accuracy: 0.6534 - loss: 0.7413 - val_accuracy: 0.5521 - val_loss: 0.9390 - learning_rate: 0.0010\n",
            "Epoch 4/30\n",
            "\u001b[1m131/131\u001b[0m \u001b[32m━━━━━━━━━━━━━━━━━━━━\u001b[0m\u001b[37m\u001b[0m \u001b[1m10s\u001b[0m 79ms/step - accuracy: 0.7500 - loss: 0.4382 - val_accuracy: 0.5521 - val_loss: 0.9413 - learning_rate: 0.0010\n",
            "Epoch 5/30\n",
            "\u001b[1m131/131\u001b[0m \u001b[32m━━━━━━━━━━━━━━━━━━━━\u001b[0m\u001b[37m\u001b[0m \u001b[1m71s\u001b[0m 468ms/step - accuracy: 0.6920 - loss: 0.6892 - val_accuracy: 0.6016 - val_loss: 0.8386 - learning_rate: 0.0010\n",
            "Epoch 6/30\n",
            "\u001b[1m131/131\u001b[0m \u001b[32m━━━━━━━━━━━━━━━━━━━━\u001b[0m\u001b[37m\u001b[0m \u001b[1m8s\u001b[0m 61ms/step - accuracy: 0.5833 - loss: 0.6760 - val_accuracy: 0.5703 - val_loss: 0.8437 - learning_rate: 0.0010\n",
            "Epoch 7/30\n",
            "\u001b[1m131/131\u001b[0m \u001b[32m━━━━━━━━━━━━━━━━━━━━\u001b[0m\u001b[37m\u001b[0m \u001b[1m60s\u001b[0m 461ms/step - accuracy: 0.6977 - loss: 0.6575 - val_accuracy: 0.5651 - val_loss: 0.8823 - learning_rate: 0.0010\n",
            "Epoch 8/30\n",
            "\u001b[1m131/131\u001b[0m \u001b[32m━━━━━━━━━━━━━━━━━━━━\u001b[0m\u001b[37m\u001b[0m \u001b[1m10s\u001b[0m 77ms/step - accuracy: 0.8333 - loss: 0.8240 - val_accuracy: 0.5677 - val_loss: 0.8925 - learning_rate: 0.0010\n",
            "Epoch 9/30\n",
            "\u001b[1m131/131\u001b[0m \u001b[32m━━━━━━━━━━━━━━━━━━━━\u001b[0m\u001b[37m\u001b[0m \u001b[1m61s\u001b[0m 463ms/step - accuracy: 0.6863 - loss: 0.6634 - val_accuracy: 0.5859 - val_loss: 0.8950 - learning_rate: 5.0000e-04\n",
            "Epoch 10/30\n",
            "\u001b[1m131/131\u001b[0m \u001b[32m━━━━━━━━━━━━━━━━━━━━\u001b[0m\u001b[37m\u001b[0m \u001b[1m8s\u001b[0m 61ms/step - accuracy: 0.8333 - loss: 0.5262 - val_accuracy: 0.5885 - val_loss: 0.8848 - learning_rate: 5.0000e-04\n",
            "Epoch 11/30\n",
            "\u001b[1m131/131\u001b[0m \u001b[32m━━━━━━━━━━━━━━━━━━━━\u001b[0m\u001b[37m\u001b[0m \u001b[1m61s\u001b[0m 463ms/step - accuracy: 0.7481 - loss: 0.5940 - val_accuracy: 0.5938 - val_loss: 0.8456 - learning_rate: 5.0000e-04\n",
            "Epoch 1/10\n",
            "\u001b[1m131/131\u001b[0m \u001b[32m━━━━━━━━━━━━━━━━━━━━\u001b[0m\u001b[37m\u001b[0m \u001b[1m90s\u001b[0m 599ms/step - accuracy: 0.6322 - loss: 0.7539 - val_accuracy: 0.6068 - val_loss: 0.8343 - learning_rate: 1.0000e-05\n",
            "Epoch 2/10\n",
            "\u001b[1m131/131\u001b[0m \u001b[32m━━━━━━━━━━━━━━━━━━━━\u001b[0m\u001b[37m\u001b[0m \u001b[1m11s\u001b[0m 79ms/step - accuracy: 0.7500 - loss: 0.5305 - val_accuracy: 0.6068 - val_loss: 0.8340 - learning_rate: 1.0000e-05\n",
            "Epoch 3/10\n",
            "\u001b[1m131/131\u001b[0m \u001b[32m━━━━━━━━━━━━━━━━━━━━\u001b[0m\u001b[37m\u001b[0m \u001b[1m129s\u001b[0m 583ms/step - accuracy: 0.6432 - loss: 0.7639 - val_accuracy: 0.6146 - val_loss: 0.8229 - learning_rate: 1.0000e-05\n",
            "Epoch 4/10\n",
            "\u001b[1m131/131\u001b[0m \u001b[32m━━━━━━━━━━━━━━━━━━━━\u001b[0m\u001b[37m\u001b[0m \u001b[1m8s\u001b[0m 61ms/step - accuracy: 0.7500 - loss: 0.6511 - val_accuracy: 0.6146 - val_loss: 0.8232 - learning_rate: 1.0000e-05\n",
            "Epoch 5/10\n",
            "\u001b[1m131/131\u001b[0m \u001b[32m━━━━━━━━━━━━━━━━━━━━\u001b[0m\u001b[37m\u001b[0m \u001b[1m76s\u001b[0m 580ms/step - accuracy: 0.6821 - loss: 0.6919 - val_accuracy: 0.6094 - val_loss: 0.8272 - learning_rate: 1.0000e-05\n",
            "Epoch 6/10\n",
            "\u001b[1m131/131\u001b[0m \u001b[32m━━━━━━━━━━━━━━━━━━━━\u001b[0m\u001b[37m\u001b[0m \u001b[1m10s\u001b[0m 77ms/step - accuracy: 0.6667 - loss: 0.9209 - val_accuracy: 0.6094 - val_loss: 0.8271 - learning_rate: 1.0000e-06\n",
            "Epoch 7/10\n",
            "\u001b[1m131/131\u001b[0m \u001b[32m━━━━━━━━━━━━━━━━━━━━\u001b[0m\u001b[37m\u001b[0m \u001b[1m76s\u001b[0m 581ms/step - accuracy: 0.6741 - loss: 0.6975 - val_accuracy: 0.6250 - val_loss: 0.8234 - learning_rate: 1.0000e-06\n"
          ]
        }
      ]
    },
    {
      "cell_type": "code",
      "source": [
        "from tensorflow.keras.models import load_model\n",
        "from tensorflow.keras.preprocessing.image import ImageDataGenerator\n",
        "from sklearn.metrics import classification_report, confusion_matrix, f1_score, accuracy_score\n",
        "import matplotlib.pyplot as plt\n",
        "import seaborn as sns\n",
        "import numpy as np\n",
        "import os\n",
        "\n",
        "def evaluate_model(model_path, data_dir, img_size=(224, 224), batch_size=32):\n",
        "    print(f\"🔹 Loading model from: {model_path}\")\n",
        "    model = load_model(model_path)\n",
        "\n",
        "    # Load validation data\n",
        "    datagen = ImageDataGenerator(rescale=1./255)\n",
        "    val_gen = datagen.flow_from_directory(\n",
        "        data_dir,\n",
        "        target_size=img_size,\n",
        "        batch_size=batch_size,\n",
        "        class_mode='categorical',\n",
        "        shuffle=False\n",
        "    )\n",
        "\n",
        "    print(f\"🔹 Evaluating {val_gen.samples} images...\")\n",
        "    preds = model.predict(val_gen)\n",
        "    y_true = val_gen.classes\n",
        "    y_pred = np.argmax(preds, axis=1)\n",
        "    class_names = list(val_gen.class_indices.keys())\n",
        "\n",
        "    # Metrics\n",
        "    acc = accuracy_score(y_true, y_pred)\n",
        "    f1 = f1_score(y_true, y_pred, average='weighted')\n",
        "\n",
        "    print(f\"\\n✅ Accuracy: {acc:.4f}\")\n",
        "    print(f\"✅ F1-score: {f1:.4f}\\n\")\n",
        "\n",
        "    print(\"📊 Classification Report:\")\n",
        "    print(classification_report(y_true, y_pred, target_names=class_names, zero_division=0))\n",
        "\n",
        "    # Confusion Matrix\n",
        "    cm = confusion_matrix(y_true, y_pred)\n",
        "    plt.figure(figsize=(6,5))\n",
        "    sns.heatmap(cm, annot=True, fmt=\"d\", cmap=\"Blues\",\n",
        "                xticklabels=class_names, yticklabels=class_names)\n",
        "    plt.title(\"Confusion Matrix\")\n",
        "    plt.xlabel(\"Predicted\")\n",
        "    plt.ylabel(\"True\")\n",
        "    plt.show()\n",
        "\n",
        "# 🧠 Example usage:\n",
        "evaluate_model(\n",
        "    \"/content/drive/MyDrive/Tomato_dataset/models/green_mobilenet(v2).keras\",\n",
        "    \"/content/drive/MyDrive/Tomato_dataset/cnn_crops/green/val\",\n",
        "    img_size=(160, 160)   # ✅ Match model training size\n",
        ")\n",
        "evaluate_model(\n",
        "    \"/content/drive/MyDrive/Tomato_dataset/models/ripe_mobilenet(v2).keras\",\n",
        "    \"/content/drive/MyDrive/Tomato_dataset/cnn_crops/ripe/val\",\n",
        "    img_size=(160, 160)   # ✅ Match model training size\n",
        ")\n",
        "\n"
      ],
      "metadata": {
        "colab": {
          "base_uri": "https://localhost:8080/",
          "height": 1000
        },
        "id": "isGLjFr0zkol",
        "outputId": "2ad01760-1dca-4440-98e1-9668966bcb7f"
      },
      "execution_count": 5,
      "outputs": [
        {
          "output_type": "stream",
          "name": "stdout",
          "text": [
            "🔹 Loading model from: /content/drive/MyDrive/Tomato_dataset/models/green_mobilenet(v2).keras\n",
            "Found 946 images belonging to 4 classes.\n",
            "🔹 Evaluating 946 images...\n"
          ]
        },
        {
          "output_type": "stream",
          "name": "stderr",
          "text": [
            "/usr/local/lib/python3.12/dist-packages/keras/src/trainers/data_adapters/py_dataset_adapter.py:121: UserWarning: Your `PyDataset` class should call `super().__init__(**kwargs)` in its constructor. `**kwargs` can include `workers`, `use_multiprocessing`, `max_queue_size`. Do not pass these arguments to `fit()`, as they will be ignored.\n",
            "  self._warn_if_super_not_called()\n"
          ]
        },
        {
          "output_type": "stream",
          "name": "stdout",
          "text": [
            "\u001b[1m30/30\u001b[0m \u001b[32m━━━━━━━━━━━━━━━━━━━━\u001b[0m\u001b[37m\u001b[0m \u001b[1m26s\u001b[0m 814ms/step\n",
            "\n",
            "✅ Accuracy: 0.6755\n",
            "✅ F1-score: 0.6823\n",
            "\n",
            "📊 Classification Report:\n",
            "              precision    recall  f1-score   support\n",
            "\n",
            "       G_ber       0.23      0.27      0.25        41\n",
            "   G_healthy       0.73      0.77      0.75       481\n",
            "G_lateblight       0.32      0.71      0.44        41\n",
            "     G_spots       0.76      0.60      0.67       383\n",
            "\n",
            "    accuracy                           0.68       946\n",
            "   macro avg       0.51      0.59      0.53       946\n",
            "weighted avg       0.70      0.68      0.68       946\n",
            "\n"
          ]
        },
        {
          "output_type": "display_data",
          "data": {
            "text/plain": [
              "<Figure size 600x500 with 2 Axes>"
            ],
            "image/png": "[encoded data removed]"
          },
          "metadata": {}
        },
        {
          "output_type": "stream",
          "name": "stdout",
          "text": [
            "🔹 Loading model from: /content/drive/MyDrive/Tomato_dataset/models/ripe_mobilenet(v2).keras\n",
            "Found 384 images belonging to 3 classes.\n",
            "🔹 Evaluating 384 images...\n"
          ]
        },
        {
          "output_type": "stream",
          "name": "stderr",
          "text": [
            "/usr/local/lib/python3.12/dist-packages/keras/src/trainers/data_adapters/py_dataset_adapter.py:121: UserWarning: Your `PyDataset` class should call `super().__init__(**kwargs)` in its constructor. `**kwargs` can include `workers`, `use_multiprocessing`, `max_queue_size`. Do not pass these arguments to `fit()`, as they will be ignored.\n",
            "  self._warn_if_super_not_called()\n"
          ]
        },
        {
          "output_type": "stream",
          "name": "stdout",
          "text": [
            "\u001b[1m12/12\u001b[0m \u001b[32m━━━━━━━━━━━━━━━━━━━━\u001b[0m\u001b[37m\u001b[0m \u001b[1m40s\u001b[0m 3s/step\n",
            "\n",
            "✅ Accuracy: 0.6016\n",
            "✅ F1-score: 0.6027\n",
            "\n",
            "📊 Classification Report:\n",
            "              precision    recall  f1-score   support\n",
            "\n",
            "       R_ber       0.62      0.62      0.62        80\n",
            "   R_healthy       0.66      0.64      0.65       194\n",
            "     R_spots       0.49      0.52      0.50       110\n",
            "\n",
            "    accuracy                           0.60       384\n",
            "   macro avg       0.59      0.59      0.59       384\n",
            "weighted avg       0.60      0.60      0.60       384\n",
            "\n"
          ]
        },
        {
          "output_type": "display_data",
          "data": {
            "text/plain": [
              "<Figure size 600x500 with 2 Axes>"
            ],
            "image/png": "[encoded data removed]"
          },
          "metadata": {}
        }
      ]
    }
  ]
}