{
  "nbformat": 4,
  "nbformat_minor": 0,
  "metadata": {
    "colab": {
      "provenance": [],
      "include_colab_link": true
    },
    "kernelspec": {
      "name": "python3",
      "display_name": "Python 3"
    },
    "language_info": {
      "name": "python"
    }
  },
  "cells": [
    {
      "cell_type": "markdown",
      "metadata": {
        "id": "view-in-github",
        "colab_type": "text"
      },
      "source": [
        "<a href=\"https://colab.research.google.com/github/ChiriKamau/limaAI/blob/main/notebooks/Transfer_ML.ipynb\" target=\"_parent\"><img src=\"https://colab.research.google.com/assets/colab-badge.svg\" alt=\"Open In Colab\"/></a>"
      ]
    },
    {
      "cell_type": "code",
      "source": [
        "from google.colab import drive\n",
        "drive.mount('/content/drive')"
      ],
      "metadata": {
        "colab": {
          "base_uri": "https://localhost:8080/"
        },
        "id": "Sfz1HiUQSXZZ",
        "outputId": "7c6b3670-fdc7-4550-a573-e1a1c3fb2a88"
      },
      "execution_count": 1,
      "outputs": [
        {
          "output_type": "stream",
          "name": "stdout",
          "text": [
            "Mounted at /content/drive\n"
          ]
        }
      ]
    },
    {
      "cell_type": "code",
      "execution_count": 2,
      "metadata": {
        "id": "vgnhIoCU9bHb",
        "colab": {
          "base_uri": "https://localhost:8080/"
        },
        "outputId": "1c2c3aba-a62b-4485-e0f4-1f75d612fac5"
      },
      "outputs": [
        {
          "output_type": "stream",
          "name": "stdout",
          "text": [
            "Ripe train counts: {'R_ber': 447, 'R_healthy': 768, 'R_spots': 364}\n",
            "Ripe val counts:   {'R_ber': 80, 'R_healthy': 194, 'R_spots': 110}\n",
            "Green train counts: {'G_ber': 475, 'G_healthy': 2141, 'G_lateblight': 191, 'G_spots': 1537}\n",
            "Green val counts:   {'G_ber': 41, 'G_healthy': 481, 'G_lateblight': 41, 'G_spots': 383}\n"
          ]
        }
      ],
      "source": [
        "# Cell A: imports and quick checks\n",
        "import os\n",
        "import numpy as np\n",
        "import tensorflow as tf\n",
        "from tensorflow.keras.preprocessing.image import ImageDataGenerator\n",
        "from sklearn.utils.class_weight import compute_class_weight\n",
        "from collections import Counter\n",
        "\n",
        "# Paths\n",
        "base = '/content/drive/MyDrive/Tomato_dataset/cnn_crops'  # change if needed\n",
        "ripe_train_dir = os.path.join(base, 'ripe/train')\n",
        "ripe_val_dir   = os.path.join(base, 'ripe/val')\n",
        "green_train_dir= os.path.join(base, 'green/train')\n",
        "green_val_dir  = os.path.join(base, 'green/val')\n",
        "\n",
        "# Quick helper to print counts\n",
        "def folder_counts(p):\n",
        "    out = {}\n",
        "    for c in sorted(os.listdir(p)):\n",
        "        cp = os.path.join(p, c)\n",
        "        if os.path.isdir(cp):\n",
        "            out[c] = sum([1 for f in os.listdir(cp) if os.path.isfile(os.path.join(cp, f))])\n",
        "    return out\n",
        "\n",
        "print(\"Ripe train counts:\", folder_counts(ripe_train_dir))\n",
        "print(\"Ripe val counts:  \", folder_counts(ripe_val_dir))\n",
        "print(\"Green train counts:\", folder_counts(green_train_dir))\n",
        "print(\"Green val counts:  \", folder_counts(green_val_dir))\n",
        "\n",
        "# If you decide to remove 'R_pests' and 'G_pests', do it now (optional)\n",
        "# Example: os.rename(src, dst) or delete folder content. Be careful!\n",
        "# e.g.:\n",
        "# import shutil\n",
        "# shutil.rmtree('/path/to/R_pests')  # only if you're sure\n"
      ]
    },
    {
      "cell_type": "code",
      "source": [
        "IMG_SIZE = 160           # smaller for CPU, change to 224 if desired\n",
        "BATCH_SIZE = 12          # small to fit CPU\n",
        "EPOCHS = 30\n",
        "AUTOTUNE = tf.data.AUTOTUNE"
      ],
      "metadata": {
        "id": "EsGxFDAq9zsz"
      },
      "execution_count": null,
      "outputs": []
    },
    {
      "cell_type": "code",
      "source": [
        "def make_data_generators(train_dir, val_dir, img_size=IMG_SIZE, batch_size=BATCH_SIZE):\n",
        "    train_datagen = ImageDataGenerator(\n",
        "        rescale=1./255,\n",
        "        rotation_range=25,\n",
        "        width_shift_range=0.1,\n",
        "        height_shift_range=0.1,\n",
        "        brightness_range=(0.7,1.3),\n",
        "        shear_range=0.1,\n",
        "        zoom_range=0.2,\n",
        "        horizontal_flip=True,\n",
        "        fill_mode='nearest'\n",
        "    )\n",
        "    val_datagen = ImageDataGenerator(rescale=1./255)\n",
        "\n",
        "    train_gen = train_datagen.flow_from_directory(\n",
        "        train_dir, target_size=(img_size, img_size),\n",
        "        batch_size=batch_size, class_mode='categorical', shuffle=True\n",
        "    )\n",
        "    val_gen = val_datagen.flow_from_directory(\n",
        "        val_dir, target_size=(img_size, img_size),\n",
        "        batch_size=batch_size, class_mode='categorical', shuffle=False\n",
        "    )\n",
        "    return train_gen, val_gen"
      ],
      "metadata": {
        "id": "lsg98Ajs3ewH"
      },
      "execution_count": null,
      "outputs": []
    },
    {
      "cell_type": "code",
      "source": [
        "def compute_class_weights(generator):\n",
        "    # generator.classes is the class index for each sample\n",
        "    classes = generator.classes\n",
        "    labels = np.unique(classes)\n",
        "    cw = compute_class_weight(class_weight='balanced', classes=labels, y=classes)\n",
        "    # return a dict mapping {class_index: weight}\n",
        "    return {i: cw[i] for i in labels}"
      ],
      "metadata": {
        "id": "dD9RKFkv3jZH"
      },
      "execution_count": null,
      "outputs": []
    },
    {
      "cell_type": "code",
      "source": [
        "def build_transfer_model(num_classes, img_size=IMG_SIZE, base_trainable=False):\n",
        "    base = tf.keras.applications.MobileNetV2(\n",
        "        input_shape=(img_size, img_size, 3),\n",
        "        include_top=False, weights='imagenet', pooling='avg'\n",
        "    )\n",
        "    base.trainable = base_trainable  # freeze by default\n",
        "    inputs = tf.keras.Input(shape=(img_size, img_size, 3))\n",
        "    x = base(inputs, training=False)\n",
        "    x = tf.keras.layers.Dense(256, activation='relu')(x)\n",
        "    x = tf.keras.layers.Dropout(0.5)(x)\n",
        "    outputs = tf.keras.layers.Dense(num_classes, activation='softmax')(x)\n",
        "    model = tf.keras.Model(inputs, outputs)\n",
        "    model.compile(\n",
        "        optimizer=tf.keras.optimizers.Adam(learning_rate=1e-3),\n",
        "        loss='categorical_crossentropy',\n",
        "        metrics=['accuracy']\n",
        "    )\n",
        "    return model"
      ],
      "metadata": {
        "id": "1xMeF_nI3no0"
      },
      "execution_count": null,
      "outputs": []
    },
    {
      "cell_type": "code",
      "source": [
        "def train_with_transfer(train_dir, val_dir, out_path, img_size=IMG_SIZE, batch_size=BATCH_SIZE, epochs=EPOCHS):\n",
        "    train_gen, val_gen = make_data_generators(train_dir, val_dir, img_size, batch_size)\n",
        "    num_classes = len(train_gen.class_indices)\n",
        "    print(\"Num classes:\", num_classes, \"Class indices:\", train_gen.class_indices)\n",
        "    class_weights = compute_class_weights(train_gen)\n",
        "    print(\"Class weights:\", class_weights)\n",
        "\n",
        "    model = build_transfer_model(num_classes, img_size, base_trainable=False)\n",
        "    ckpt = ModelCheckpoint(out_path, save_best_only=True, monitor='val_accuracy', mode='max')\n",
        "    es = EarlyStopping(patience=6, restore_best_weights=True, monitor='val_accuracy')\n",
        "    rlp = ReduceLROnPlateau(patience=3, factor=0.5, monitor='val_loss')\n",
        "\n",
        "    steps_per_epoch = max(1, train_gen.samples // batch_size)\n",
        "    val_steps = max(1, val_gen.samples // batch_size)\n",
        "\n",
        "    history = model.fit(\n",
        "        train_gen,\n",
        "        validation_data=val_gen,\n",
        "        epochs=epochs,\n",
        "        class_weight=class_weights,\n",
        "        callbacks=[ckpt, es, rlp],\n",
        "        steps_per_epoch=steps_per_epoch,\n",
        "        validation_steps=val_steps,\n",
        "        verbose=1\n",
        "    )\n",
        "\n",
        "    # Optionally fine-tune: unfreeze last few layers and train with low LR\n",
        "    base = model.layers[1]  # MobileNetV2 base if you used the builder above - check model.layers\n",
        "    base.trainable = True\n",
        "    # freeze all except top N layers\n",
        "    fine_tune_at = int(len(base.layers) * 0.8)\n",
        "    for layer in base.layers[:fine_tune_at]:\n",
        "        layer.trainable = False\n",
        "    model.compile(optimizer=tf.keras.optimizers.Adam(1e-5), loss='categorical_crossentropy', metrics=['accuracy'])\n",
        "    ft_history = model.fit(\n",
        "        train_gen,\n",
        "        validation_data=val_gen,\n",
        "        epochs=10,\n",
        "        class_weight=class_weights,\n",
        "        callbacks=[EarlyStopping(patience=4, restore_best_weights=True), ReduceLROnPlateau(patience=2)],\n",
        "        steps_per_epoch=steps_per_epoch,\n",
        "        validation_steps=val_steps,\n",
        "        verbose=1\n",
        "    )\n",
        "    return model, history, ft_history"
      ],
      "metadata": {
        "id": "xgMqh7Xe3xKj"
      },
      "execution_count": null,
      "outputs": []
    },
    {
      "cell_type": "code",
      "source": [
        "# Cell C: run training\n",
        "\n",
        "green_model_path = '/content/drive/MyDrive/Tomato_dataset/models/green_mobilenet.keras'\n",
        "\n",
        "\n",
        "# Green\n",
        "_ = train_with_transfer(green_train_dir, green_val_dir, green_model_path)\n"
      ],
      "metadata": {
        "id": "SZAq4zOf-Ehm",
        "colab": {
          "base_uri": "https://localhost:8080/"
        },
        "outputId": "8140ace0-c8f5-4149-8e08-08baacae6f38"
      },
      "execution_count": null,
      "outputs": [
        {
          "output_type": "stream",
          "name": "stdout",
          "text": [
            "Found 2798 images belonging to 4 classes.\n",
            "Found 725 images belonging to 4 classes.\n",
            "Num classes: 4 Class indices: {'G_ber': 0, 'G_healthy': 1, 'G_lateblight': 2, 'G_spots': 3}\n",
            "Class weights: {np.int32(0): np.float64(10.9296875), np.int32(1): np.float64(0.44696485623003196), np.int32(2): np.float64(5.3396946564885495), np.int32(3): np.float64(0.6738921001926782)}\n",
            "Downloading data from https://storage.googleapis.com/tensorflow/keras-applications/mobilenet_v2/mobilenet_v2_weights_tf_dim_ordering_tf_kernels_1.0_160_no_top.h5\n",
            "\u001b[1m9406464/9406464\u001b[0m \u001b[32m━━━━━━━━━━━━━━━━━━━━\u001b[0m\u001b[37m\u001b[0m \u001b[1m0s\u001b[0m 0us/step\n"
          ]
        },
        {
          "output_type": "stream",
          "name": "stderr",
          "text": [
            "/usr/local/lib/python3.12/dist-packages/keras/src/trainers/data_adapters/py_dataset_adapter.py:121: UserWarning: Your `PyDataset` class should call `super().__init__(**kwargs)` in its constructor. `**kwargs` can include `workers`, `use_multiprocessing`, `max_queue_size`. Do not pass these arguments to `fit()`, as they will be ignored.\n",
            "  self._warn_if_super_not_called()\n"
          ]
        },
        {
          "output_type": "stream",
          "name": "stdout",
          "text": [
            "Epoch 1/30\n",
            "\u001b[1m233/233\u001b[0m \u001b[32m━━━━━━━━━━━━━━━━━━━━\u001b[0m\u001b[37m\u001b[0m \u001b[1m587s\u001b[0m 2s/step - accuracy: 0.3724 - loss: 2.4121 - val_accuracy: 0.5181 - val_loss: 1.0691 - learning_rate: 0.0010\n",
            "Epoch 2/30\n",
            "\u001b[1m  1/233\u001b[0m \u001b[37m━━━━━━━━━━━━━━━━━━━━\u001b[0m \u001b[1m44s\u001b[0m 194ms/step - accuracy: 0.3333 - loss: 2.6214"
          ]
        },
        {
          "output_type": "stream",
          "name": "stderr",
          "text": [
            "/usr/local/lib/python3.12/dist-packages/keras/src/trainers/epoch_iterator.py:116: UserWarning: Your input ran out of data; interrupting training. Make sure that your dataset or generator can generate at least `steps_per_epoch * epochs` batches. You may need to use the `.repeat()` function when building your dataset.\n",
            "  self._interrupted_warning()\n"
          ]
        },
        {
          "output_type": "stream",
          "name": "stdout",
          "text": [
            "\b\b\b\b\b\b\b\b\b\b\b\b\b\b\b\b\b\b\b\b\b\b\b\b\b\b\b\b\b\b\b\b\b\b\b\b\b\b\b\b\b\b\b\b\b\b\b\b\b\b\b\b\b\b\b\b\b\b\b\b\b\b\b\b\b\b\b\b\b\b\b\b\b\b\b\b\b\r\u001b[1m233/233\u001b[0m \u001b[32m━━━━━━━━━━━━━━━━━━━━\u001b[0m\u001b[37m\u001b[0m \u001b[1m16s\u001b[0m 69ms/step - accuracy: 0.3333 - loss: 2.6214 - val_accuracy: 0.4944 - val_loss: 1.0943 - learning_rate: 0.0010\n",
            "Epoch 3/30\n",
            "\u001b[1m233/233\u001b[0m \u001b[32m━━━━━━━━━━━━━━━━━━━━\u001b[0m\u001b[37m\u001b[0m \u001b[1m100s\u001b[0m 431ms/step - accuracy: 0.4506 - loss: 1.2165 - val_accuracy: 0.4903 - val_loss: 1.1160 - learning_rate: 0.0010\n",
            "Epoch 4/30\n",
            "\u001b[1m233/233\u001b[0m \u001b[32m━━━━━━━━━━━━━━━━━━━━\u001b[0m\u001b[37m\u001b[0m \u001b[1m16s\u001b[0m 68ms/step - accuracy: 0.5000 - loss: 1.4578 - val_accuracy: 0.4958 - val_loss: 1.1142 - learning_rate: 0.0010\n",
            "Epoch 5/30\n",
            "\u001b[1m233/233\u001b[0m \u001b[32m━━━━━━━━━━━━━━━━━━━━\u001b[0m\u001b[37m\u001b[0m \u001b[1m142s\u001b[0m 611ms/step - accuracy: 0.5370 - loss: 1.0348 - val_accuracy: 0.5306 - val_loss: 1.1272 - learning_rate: 5.0000e-04\n",
            "Epoch 6/30\n",
            "\u001b[1m233/233\u001b[0m \u001b[32m━━━━━━━━━━━━━━━━━━━━\u001b[0m\u001b[37m\u001b[0m \u001b[1m16s\u001b[0m 69ms/step - accuracy: 0.5000 - loss: 1.0605 - val_accuracy: 0.5347 - val_loss: 1.1248 - learning_rate: 5.0000e-04\n",
            "Epoch 7/30\n",
            "\u001b[1m233/233\u001b[0m \u001b[32m━━━━━━━━━━━━━━━━━━━━\u001b[0m\u001b[37m\u001b[0m \u001b[1m142s\u001b[0m 608ms/step - accuracy: 0.5709 - loss: 0.9981 - val_accuracy: 0.6556 - val_loss: 0.8452 - learning_rate: 5.0000e-04\n",
            "Epoch 8/30\n",
            "\u001b[1m233/233\u001b[0m \u001b[32m━━━━━━━━━━━━━━━━━━━━\u001b[0m\u001b[37m\u001b[0m \u001b[1m17s\u001b[0m 70ms/step - accuracy: 0.4167 - loss: 1.5457 - val_accuracy: 0.6542 - val_loss: 0.8485 - learning_rate: 5.0000e-04\n",
            "Epoch 9/30\n",
            "\u001b[1m233/233\u001b[0m \u001b[32m━━━━━━━━━━━━━━━━━━━━\u001b[0m\u001b[37m\u001b[0m \u001b[1m98s\u001b[0m 418ms/step - accuracy: 0.5667 - loss: 1.0583 - val_accuracy: 0.6653 - val_loss: 0.8248 - learning_rate: 5.0000e-04\n",
            "Epoch 10/30\n",
            "\u001b[1m233/233\u001b[0m \u001b[32m━━━━━━━━━━━━━━━━━━━━\u001b[0m\u001b[37m\u001b[0m \u001b[1m17s\u001b[0m 70ms/step - accuracy: 0.6667 - loss: 0.4601 - val_accuracy: 0.6681 - val_loss: 0.8198 - learning_rate: 5.0000e-04\n",
            "Epoch 11/30\n",
            "\u001b[1m233/233\u001b[0m \u001b[32m━━━━━━━━━━━━━━━━━━━━\u001b[0m\u001b[37m\u001b[0m \u001b[1m142s\u001b[0m 609ms/step - accuracy: 0.6183 - loss: 0.8981 - val_accuracy: 0.5847 - val_loss: 0.9660 - learning_rate: 5.0000e-04\n",
            "Epoch 12/30\n",
            "\u001b[1m233/233\u001b[0m \u001b[32m━━━━━━━━━━━━━━━━━━━━\u001b[0m\u001b[37m\u001b[0m \u001b[1m16s\u001b[0m 67ms/step - accuracy: 0.5833 - loss: 0.8210 - val_accuracy: 0.5903 - val_loss: 0.9589 - learning_rate: 5.0000e-04\n",
            "Epoch 13/30\n",
            "\u001b[1m233/233\u001b[0m \u001b[32m━━━━━━━━━━━━━━━━━━━━\u001b[0m\u001b[37m\u001b[0m \u001b[1m141s\u001b[0m 607ms/step - accuracy: 0.6145 - loss: 0.8978 - val_accuracy: 0.6208 - val_loss: 0.9281 - learning_rate: 5.0000e-04\n",
            "Epoch 14/30\n",
            "\u001b[1m233/233\u001b[0m \u001b[32m━━━━━━━━━━━━━━━━━━━━\u001b[0m\u001b[37m\u001b[0m \u001b[1m15s\u001b[0m 65ms/step - accuracy: 0.8333 - loss: 0.3321 - val_accuracy: 0.6208 - val_loss: 0.9173 - learning_rate: 2.5000e-04\n",
            "Epoch 15/30\n",
            "\u001b[1m233/233\u001b[0m \u001b[32m━━━━━━━━━━━━━━━━━━━━\u001b[0m\u001b[37m\u001b[0m \u001b[1m142s\u001b[0m 414ms/step - accuracy: 0.6406 - loss: 0.7689 - val_accuracy: 0.5583 - val_loss: 1.0592 - learning_rate: 2.5000e-04\n",
            "Epoch 16/30\n",
            "\u001b[1m233/233\u001b[0m \u001b[32m━━━━━━━━━━━━━━━━━━━━\u001b[0m\u001b[37m\u001b[0m \u001b[1m15s\u001b[0m 65ms/step - accuracy: 0.6667 - loss: 1.0698 - val_accuracy: 0.5556 - val_loss: 1.0620 - learning_rate: 2.5000e-04\n",
            "Epoch 1/10\n",
            "\u001b[1m233/233\u001b[0m \u001b[32m━━━━━━━━━━━━━━━━━━━━\u001b[0m\u001b[37m\u001b[0m \u001b[1m137s\u001b[0m 532ms/step - accuracy: 0.6421 - loss: 1.5694 - val_accuracy: 0.6917 - val_loss: 0.7212 - learning_rate: 1.0000e-05\n",
            "Epoch 2/10\n",
            "\u001b[1m233/233\u001b[0m \u001b[32m━━━━━━━━━━━━━━━━━━━━\u001b[0m\u001b[37m\u001b[0m \u001b[1m20s\u001b[0m 86ms/step - accuracy: 0.8333 - loss: 0.3724 - val_accuracy: 0.6917 - val_loss: 0.7211 - learning_rate: 1.0000e-05\n",
            "Epoch 3/10\n",
            "\u001b[1m233/233\u001b[0m \u001b[32m━━━━━━━━━━━━━━━━━━━━\u001b[0m\u001b[37m\u001b[0m \u001b[1m182s\u001b[0m 532ms/step - accuracy: 0.6399 - loss: 1.3534 - val_accuracy: 0.7000 - val_loss: 0.7241 - learning_rate: 1.0000e-05\n",
            "Epoch 4/10\n",
            "\u001b[1m233/233\u001b[0m \u001b[32m━━━━━━━━━━━━━━━━━━━━\u001b[0m\u001b[37m\u001b[0m \u001b[1m15s\u001b[0m 65ms/step - accuracy: 0.4167 - loss: 2.3342 - val_accuracy: 0.7000 - val_loss: 0.7241 - learning_rate: 1.0000e-05\n",
            "Epoch 5/10\n",
            "\u001b[1m233/233\u001b[0m \u001b[32m━━━━━━━━━━━━━━━━━━━━\u001b[0m\u001b[37m\u001b[0m \u001b[1m122s\u001b[0m 523ms/step - accuracy: 0.6081 - loss: 1.0175 - val_accuracy: 0.6819 - val_loss: 0.7473 - learning_rate: 1.0000e-06\n",
            "Epoch 6/10\n",
            "\u001b[1m233/233\u001b[0m \u001b[32m━━━━━━━━━━━━━━━━━━━━\u001b[0m\u001b[37m\u001b[0m \u001b[1m21s\u001b[0m 89ms/step - accuracy: 0.6667 - loss: 0.5254 - val_accuracy: 0.6819 - val_loss: 0.7474 - learning_rate: 1.0000e-06\n"
          ]
        }
      ]
    },
    {
      "cell_type": "code",
      "source": [
        "ripe_model_path = '/content/drive/MyDrive/Tomato_dataset/models/ripe_mobilenet.keras'   # prefer .keras\n",
        "# Ripe\n",
        "_ = train_with_transfer(ripe_train_dir, ripe_val_dir, ripe_model_path)\n"
      ],
      "metadata": {
        "colab": {
          "base_uri": "https://localhost:8080/"
        },
        "id": "lwGXRcFJYSP7",
        "outputId": "3ac43774-f3f4-4d05-983e-242a98de1723"
      },
      "execution_count": null,
      "outputs": [
        {
          "output_type": "stream",
          "name": "stdout",
          "text": [
            "Found 687 images belonging to 4 classes.\n",
            "Found 207 images belonging to 4 classes.\n",
            "Num classes: 4 Class indices: {'R_ber': 0, 'R_healthy': 1, 'R_lateblight': 2, 'R_spots': 3}\n",
            "Class weights: {np.int32(0): np.float64(2.7701612903225805), np.int32(1): np.float64(0.42199017199017197), np.int32(2): np.float64(5.922413793103448), np.int32(3): np.float64(0.9087301587301587)}\n"
          ]
        },
        {
          "output_type": "stream",
          "name": "stderr",
          "text": [
            "/usr/local/lib/python3.12/dist-packages/keras/src/trainers/data_adapters/py_dataset_adapter.py:121: UserWarning: Your `PyDataset` class should call `super().__init__(**kwargs)` in its constructor. `**kwargs` can include `workers`, `use_multiprocessing`, `max_queue_size`. Do not pass these arguments to `fit()`, as they will be ignored.\n",
            "  self._warn_if_super_not_called()\n"
          ]
        },
        {
          "output_type": "stream",
          "name": "stdout",
          "text": [
            "Epoch 1/30\n",
            "\u001b[1m57/57\u001b[0m \u001b[32m━━━━━━━━━━━━━━━━━━━━\u001b[0m\u001b[37m\u001b[0m \u001b[1m205s\u001b[0m 3s/step - accuracy: 0.4292 - loss: 2.3987 - val_accuracy: 0.4314 - val_loss: 1.3547 - learning_rate: 0.0010\n",
            "Epoch 2/30\n",
            "\u001b[1m 1/57\u001b[0m \u001b[37m━━━━━━━━━━━━━━━━━━━━\u001b[0m \u001b[1m18s\u001b[0m 332ms/step - accuracy: 0.4167 - loss: 2.4357"
          ]
        },
        {
          "output_type": "stream",
          "name": "stderr",
          "text": [
            "/usr/local/lib/python3.12/dist-packages/keras/src/trainers/epoch_iterator.py:116: UserWarning: Your input ran out of data; interrupting training. Make sure that your dataset or generator can generate at least `steps_per_epoch * epochs` batches. You may need to use the `.repeat()` function when building your dataset.\n",
            "  self._interrupted_warning()\n"
          ]
        },
        {
          "output_type": "stream",
          "name": "stdout",
          "text": [
            "\b\b\b\b\b\b\b\b\b\b\b\b\b\b\b\b\b\b\b\b\b\b\b\b\b\b\b\b\b\b\b\b\b\b\b\b\b\b\b\b\b\b\b\b\b\b\b\b\b\b\b\b\b\b\b\b\b\b\b\b\b\b\b\b\b\b\b\b\b\b\b\b\b\b\b\r\u001b[1m57/57\u001b[0m \u001b[32m━━━━━━━━━━━━━━━━━━━━\u001b[0m\u001b[37m\u001b[0m \u001b[1m5s\u001b[0m 83ms/step - accuracy: 0.4167 - loss: 2.4357 - val_accuracy: 0.4265 - val_loss: 1.3486 - learning_rate: 0.0010\n",
            "Epoch 3/30\n",
            "\u001b[1m57/57\u001b[0m \u001b[32m━━━━━━━━━━━━━━━━━━━━\u001b[0m\u001b[37m\u001b[0m \u001b[1m40s\u001b[0m 712ms/step - accuracy: 0.3855 - loss: 1.3810 - val_accuracy: 0.3676 - val_loss: 1.2765 - learning_rate: 0.0010\n",
            "Epoch 4/30\n",
            "\u001b[1m57/57\u001b[0m \u001b[32m━━━━━━━━━━━━━━━━━━━━\u001b[0m\u001b[37m\u001b[0m \u001b[1m4s\u001b[0m 71ms/step - accuracy: 0.2500 - loss: 1.1690 - val_accuracy: 0.3725 - val_loss: 1.2777 - learning_rate: 0.0010\n",
            "Epoch 5/30\n",
            "\u001b[1m57/57\u001b[0m \u001b[32m━━━━━━━━━━━━━━━━━━━━\u001b[0m\u001b[37m\u001b[0m \u001b[1m63s\u001b[0m 454ms/step - accuracy: 0.4514 - loss: 1.1318 - val_accuracy: 0.4706 - val_loss: 1.0938 - learning_rate: 0.0010\n",
            "Epoch 6/30\n",
            "\u001b[1m57/57\u001b[0m \u001b[32m━━━━━━━━━━━━━━━━━━━━\u001b[0m\u001b[37m\u001b[0m \u001b[1m5s\u001b[0m 85ms/step - accuracy: 0.6667 - loss: 0.9761 - val_accuracy: 0.4804 - val_loss: 1.0840 - learning_rate: 0.0010\n",
            "Epoch 7/30\n",
            "\u001b[1m57/57\u001b[0m \u001b[32m━━━━━━━━━━━━━━━━━━━━\u001b[0m\u001b[37m\u001b[0m \u001b[1m40s\u001b[0m 713ms/step - accuracy: 0.5546 - loss: 1.0197 - val_accuracy: 0.3922 - val_loss: 1.3619 - learning_rate: 0.0010\n",
            "Epoch 8/30\n",
            "\u001b[1m57/57\u001b[0m \u001b[32m━━━━━━━━━━━━━━━━━━━━\u001b[0m\u001b[37m\u001b[0m \u001b[1m5s\u001b[0m 88ms/step - accuracy: 0.2500 - loss: 0.9817 - val_accuracy: 0.4069 - val_loss: 1.3227 - learning_rate: 0.0010\n",
            "Epoch 9/30\n",
            "\u001b[1m57/57\u001b[0m \u001b[32m━━━━━━━━━━━━━━━━━━━━\u001b[0m\u001b[37m\u001b[0m \u001b[1m24s\u001b[0m 417ms/step - accuracy: 0.5297 - loss: 0.9613 - val_accuracy: 0.4804 - val_loss: 1.0777 - learning_rate: 0.0010\n",
            "Epoch 10/30\n",
            "\u001b[1m57/57\u001b[0m \u001b[32m━━━━━━━━━━━━━━━━━━━━\u001b[0m\u001b[37m\u001b[0m \u001b[1m5s\u001b[0m 88ms/step - accuracy: 0.5000 - loss: 0.7656 - val_accuracy: 0.4755 - val_loss: 1.0898 - learning_rate: 0.0010\n",
            "Epoch 11/30\n",
            "\u001b[1m57/57\u001b[0m \u001b[32m━━━━━━━━━━━━━━━━━━━━\u001b[0m\u001b[37m\u001b[0m \u001b[1m24s\u001b[0m 412ms/step - accuracy: 0.5879 - loss: 0.8803 - val_accuracy: 0.4510 - val_loss: 1.1210 - learning_rate: 0.0010\n",
            "Epoch 12/30\n",
            "\u001b[1m57/57\u001b[0m \u001b[32m━━━━━━━━━━━━━━━━━━━━\u001b[0m\u001b[37m\u001b[0m \u001b[1m5s\u001b[0m 86ms/step - accuracy: 0.5000 - loss: 1.7683 - val_accuracy: 0.4608 - val_loss: 1.1199 - learning_rate: 0.0010\n",
            "Epoch 1/10\n",
            "\u001b[1m57/57\u001b[0m \u001b[32m━━━━━━━━━━━━━━━━━━━━\u001b[0m\u001b[37m\u001b[0m \u001b[1m47s\u001b[0m 589ms/step - accuracy: 0.5944 - loss: 1.5059 - val_accuracy: 0.4951 - val_loss: 1.0814 - learning_rate: 1.0000e-05\n",
            "Epoch 2/10\n",
            "\u001b[1m57/57\u001b[0m \u001b[32m━━━━━━━━━━━━━━━━━━━━\u001b[0m\u001b[37m\u001b[0m \u001b[1m10s\u001b[0m 179ms/step - accuracy: 0.5000 - loss: 1.7789 - val_accuracy: 0.4951 - val_loss: 1.0810 - learning_rate: 1.0000e-05\n",
            "Epoch 3/10\n",
            "\u001b[1m57/57\u001b[0m \u001b[32m━━━━━━━━━━━━━━━━━━━━\u001b[0m\u001b[37m\u001b[0m \u001b[1m32s\u001b[0m 561ms/step - accuracy: 0.5907 - loss: 1.5103 - val_accuracy: 0.4902 - val_loss: 1.0847 - learning_rate: 1.0000e-05\n",
            "Epoch 4/10\n",
            "\u001b[1m57/57\u001b[0m \u001b[32m━━━━━━━━━━━━━━━━━━━━\u001b[0m\u001b[37m\u001b[0m \u001b[1m4s\u001b[0m 72ms/step - accuracy: 0.5833 - loss: 1.3867 - val_accuracy: 0.4902 - val_loss: 1.0845 - learning_rate: 1.0000e-05\n",
            "Epoch 5/10\n",
            "\u001b[1m57/57\u001b[0m \u001b[32m━━━━━━━━━━━━━━━━━━━━\u001b[0m\u001b[37m\u001b[0m \u001b[1m38s\u001b[0m 589ms/step - accuracy: 0.5921 - loss: 1.2005 - val_accuracy: 0.4902 - val_loss: 1.0821 - learning_rate: 1.0000e-06\n",
            "Epoch 6/10\n",
            "\u001b[1m57/57\u001b[0m \u001b[32m━━━━━━━━━━━━━━━━━━━━\u001b[0m\u001b[37m\u001b[0m \u001b[1m5s\u001b[0m 76ms/step - accuracy: 0.5000 - loss: 1.6813 - val_accuracy: 0.4902 - val_loss: 1.0820 - learning_rate: 1.0000e-06\n"
          ]
        }
      ]
    },
    {
      "cell_type": "code",
      "source": [
        "from tensorflow.keras.models import load_model\n",
        "from tensorflow.keras.preprocessing.image import ImageDataGenerator\n",
        "from sklearn.metrics import classification_report, confusion_matrix, f1_score, accuracy_score\n",
        "import matplotlib.pyplot as plt\n",
        "import seaborn as sns\n",
        "import numpy as np\n",
        "import os\n",
        "\n",
        "def evaluate_model(model_path, data_dir, img_size=(224, 224), batch_size=32):\n",
        "    print(f\"🔹 Loading model from: {model_path}\")\n",
        "    model = load_model(model_path)\n",
        "\n",
        "    # Load validation data\n",
        "    datagen = ImageDataGenerator(rescale=1./255)\n",
        "    val_gen = datagen.flow_from_directory(\n",
        "        data_dir,\n",
        "        target_size=img_size,\n",
        "        batch_size=batch_size,\n",
        "        class_mode='categorical',\n",
        "        shuffle=False\n",
        "    )\n",
        "\n",
        "    print(f\"🔹 Evaluating {val_gen.samples} images...\")\n",
        "    preds = model.predict(val_gen)\n",
        "    y_true = val_gen.classes\n",
        "    y_pred = np.argmax(preds, axis=1)\n",
        "    class_names = list(val_gen.class_indices.keys())\n",
        "\n",
        "    # Metrics\n",
        "    acc = accuracy_score(y_true, y_pred)\n",
        "    f1 = f1_score(y_true, y_pred, average='weighted')\n",
        "\n",
        "    print(f\"\\n✅ Accuracy: {acc:.4f}\")\n",
        "    print(f\"✅ F1-score: {f1:.4f}\\n\")\n",
        "\n",
        "    print(\"📊 Classification Report:\")\n",
        "    print(classification_report(y_true, y_pred, target_names=class_names, zero_division=0))\n",
        "\n",
        "    # Confusion Matrix\n",
        "    cm = confusion_matrix(y_true, y_pred)\n",
        "    plt.figure(figsize=(6,5))\n",
        "    sns.heatmap(cm, annot=True, fmt=\"d\", cmap=\"Blues\",\n",
        "                xticklabels=class_names, yticklabels=class_names)\n",
        "    plt.title(\"Confusion Matrix\")\n",
        "    plt.xlabel(\"Predicted\")\n",
        "    plt.ylabel(\"True\")\n",
        "    plt.show()\n",
        "\n",
        "# 🧠 Example usage:\n",
        "evaluate_model(\n",
        "    \"/content/drive/MyDrive/Tomato_dataset/models/green_mobilenet.keras\",\n",
        "    \"/content/drive/MyDrive/Tomato_dataset/cnn_crops/green/val\",\n",
        "    img_size=(160, 160)   # ✅ Match model training size\n",
        ")\n",
        "\n"
      ],
      "metadata": {
        "colab": {
          "base_uri": "https://localhost:8080/",
          "height": 849
        },
        "id": "isGLjFr0zkol",
        "outputId": "13d10bf6-efbc-4344-9043-65ce473363d4"
      },
      "execution_count": null,
      "outputs": [
        {
          "output_type": "stream",
          "name": "stdout",
          "text": [
            "🔹 Loading model from: /content/drive/MyDrive/Tomato_dataset/models/green_mobilenet.keras\n",
            "Found 725 images belonging to 4 classes.\n",
            "🔹 Evaluating 725 images...\n",
            "\u001b[1m23/23\u001b[0m \u001b[32m━━━━━━━━━━━━━━━━━━━━\u001b[0m\u001b[37m\u001b[0m \u001b[1m21s\u001b[0m 840ms/step\n",
            "\n",
            "✅ Accuracy: 0.6690\n",
            "✅ F1-score: 0.6805\n",
            "\n",
            "📊 Classification Report:\n",
            "              precision    recall  f1-score   support\n",
            "\n",
            "       G_ber       0.13      0.17      0.15        29\n",
            "   G_healthy       0.80      0.66      0.73       368\n",
            "G_lateblight       0.30      0.69      0.42        26\n",
            "     G_spots       0.68      0.73      0.70       302\n",
            "\n",
            "    accuracy                           0.67       725\n",
            "   macro avg       0.48      0.56      0.50       725\n",
            "weighted avg       0.71      0.67      0.68       725\n",
            "\n"
          ]
        },
        {
          "output_type": "display_data",
          "data": {
            "text/plain": [
              "<Figure size 600x500 with 2 Axes>"
            ],
            "image/png": "[encoded data removed]"
          },
          "metadata": {}
        }
      ]
    },
    {
      "cell_type": "code",
      "source": [
        "evaluate_model(\n",
        "    \"/content/drive/MyDrive/Tomato_dataset/models/ripe_mobilenet.keras\",\n",
        "    \"/content/drive/MyDrive/Tomato_dataset/cnn_crops/ripe/val\",\n",
        "    img_size=(160, 160)   # ✅ Match model training size\n",
        ")"
      ],
      "metadata": {
        "id": "D5rmlHgU6u3C",
        "outputId": "783866dd-8732-4262-cdba-07be12822ddd",
        "colab": {
          "base_uri": "https://localhost:8080/",
          "height": 849
        }
      },
      "execution_count": null,
      "outputs": [
        {
          "output_type": "stream",
          "name": "stdout",
          "text": [
            "🔹 Loading model from: /content/drive/MyDrive/Tomato_dataset/models/ripe_mobilenet.keras\n",
            "Found 207 images belonging to 4 classes.\n",
            "🔹 Evaluating 207 images...\n",
            "\u001b[1m7/7\u001b[0m \u001b[32m━━━━━━━━━━━━━━━━━━━━\u001b[0m\u001b[37m\u001b[0m \u001b[1m9s\u001b[0m 1s/step\n",
            "\n",
            "✅ Accuracy: 0.4879\n",
            "✅ F1-score: 0.5020\n",
            "\n",
            "📊 Classification Report:\n",
            "              precision    recall  f1-score   support\n",
            "\n",
            "       R_ber       0.22      0.45      0.30        22\n",
            "   R_healthy       0.66      0.50      0.57       113\n",
            "R_lateblight       0.50      0.17      0.25         6\n",
            "     R_spots       0.45      0.50      0.47        66\n",
            "\n",
            "    accuracy                           0.49       207\n",
            "   macro avg       0.46      0.41      0.40       207\n",
            "weighted avg       0.54      0.49      0.50       207\n",
            "\n"
          ]
        },
        {
          "output_type": "display_data",
          "data": {
            "text/plain": [
              "<Figure size 600x500 with 2 Axes>"
            ],
            "image/png": "[encoded data removed]"
          },
          "metadata": {}
        }
      ]
    }
  ]
}