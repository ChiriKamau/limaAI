{
  "nbformat": 4,
  "nbformat_minor": 0,
  "metadata": {
    "colab": {
      "provenance": [],
      "gpuType": "T4"
    },
    "kernelspec": {
      "name": "python3",
      "display_name": "Python 3"
    },
    "language_info": {
      "name": "python"
    },
    "accelerator": "GPU"
  },
  "cells": [
    {
      "cell_type": "markdown",
      "source": [
        "#start\n"
      ],
      "metadata": {
        "id": "6F8NDZEtr3Ri"
      }
    },
    {
      "cell_type": "code",
      "source": [
        "from google.colab import drive\n",
        "drive.mount('/content/drive')"
      ],
      "metadata": {
        "id": "WGRP4b4et-Hz",
        "outputId": "4e4ce23f-0d87-4c8f-fca5-9be9838994d2",
        "colab": {
          "base_uri": "https://localhost:8080/"
        }
      },
      "execution_count": 1,
      "outputs": [
        {
          "output_type": "stream",
          "name": "stdout",
          "text": [
            "Mounted at /content/drive\n"
          ]
        }
      ]
    },
    {
      "cell_type": "code",
      "source": [
        "import pandas as pd\n",
        "import os\n",
        "import cv2\n",
        "from sklearn.model_selection import train_test_split\n",
        "\n",
        "# Define paths\n",
        "csv_image_mapping = [\n",
        "        {\n",
        "        'csv_path': '/content/drive/MyDrive/Tomato_dataset/phone1(ripe)/phone1(ripe).csv',\n",
        "        'image_dir': '/content/drive/MyDrive/Tomato_dataset/phone1(ripe)'\n",
        "    },\n",
        "    {\n",
        "        'csv_path': '/content/drive/MyDrive/Tomato_dataset/Phone1(green)/phone1(green).csv',\n",
        "        'image_dir': '/content/drive/MyDrive/Tomato_dataset/Phone1(green)'\n",
        "    },\n",
        "    {\n",
        "        'csv_path': '/content/drive/MyDrive/Tomato_dataset/phone2(batch1)/annotations/phone2(batch1).csv',\n",
        "        'image_dir': '/content/drive/MyDrive/Tomato_dataset/phone2(batch1)'\n",
        "    },\n",
        "    {\n",
        "        'csv_path': '/content/drive/MyDrive/Tomato_dataset/phone2(batch2)/annotations/phone2(batch2).csv',\n",
        "        'image_dir': '/content/drive/MyDrive/Tomato_dataset/phone2(batch2)'\n",
        "    }\n",
        "]\n",
        "output_dir = '/content/drive/MyDrive/Tomato_dataset/cnn_crops'"
      ],
      "metadata": {
        "id": "wQ7xEhm8uWfO"
      },
      "execution_count": 2,
      "outputs": []
    },
    {
      "cell_type": "code",
      "execution_count": 5,
      "metadata": {
        "id": "A2zNsjKErvRc",
        "outputId": "fe062bcc-83e8-467b-f858-64d39cbc5af2",
        "colab": {
          "base_uri": "https://localhost:8080/"
        }
      },
      "outputs": [
        {
          "output_type": "stream",
          "name": "stderr",
          "text": [
            "100%|██████████| 4451/4451 [09:47<00:00,  7.57it/s]"
          ]
        },
        {
          "output_type": "stream",
          "name": "stdout",
          "text": [
            "✅ Cropped datasets saved to cropped_dataset\n"
          ]
        },
        {
          "output_type": "stream",
          "name": "stderr",
          "text": [
            "\n"
          ]
        }
      ],
      "source": [
        "import os\n",
        "import cv2\n",
        "import pandas as pd\n",
        "from sklearn.model_selection import train_test_split\n",
        "from multiprocessing.dummy import Pool as ThreadPool\n",
        "import tqdm\n",
        "\n",
        "# -----------------------------\n",
        "# CONFIG\n",
        "# -----------------------------\n",
        "output_dir = 'cropped_dataset'  # where crops will be saved\n",
        "\n",
        "ripe_labels = ['R.healthy', 'R.lateblight', 'R.spots', 'R.pests', 'R.ber']\n",
        "green_labels = ['G.healthy', 'G.lateblight', 'G.spots', 'G.pests', 'G.ber']\n",
        "\n",
        "# Example: list of dictionaries mapping CSV to image directories\n",
        "# csv_image_mapping = [{'csv_path': 'path/to/csv1.csv', 'image_dir': 'path/to/images1'},\n",
        "#                      {'csv_path': 'path/to/csv2.csv', 'image_dir': 'path/to/images2'}]\n",
        "\n",
        "# -----------------------------\n",
        "# LOAD AND FILTER DATA\n",
        "# -----------------------------\n",
        "dfs = [pd.read_csv(m['csv_path']).assign(image_dir=m['image_dir']) for m in csv_image_mapping]\n",
        "data = pd.concat(dfs, ignore_index=True)[\n",
        "    ['image_name','label_name','bbox_x','bbox_y','bbox_width','bbox_height','image_dir']\n",
        "]\n",
        "data = data[data['label_name'].isin(ripe_labels + green_labels)]\n",
        "\n",
        "# -----------------------------\n",
        "# CREATE OUTPUT DIRECTORIES\n",
        "# -----------------------------\n",
        "for ripeness in ['ripe', 'green']:\n",
        "    for split in ['train', 'val']:\n",
        "        labels = ripe_labels if ripeness == 'ripe' else green_labels\n",
        "        for label in labels:\n",
        "            os.makedirs(os.path.join(output_dir, ripeness, split, label.replace('.', '_')), exist_ok=True)\n",
        "\n",
        "# -----------------------------\n",
        "# TRAIN/VAL SPLIT\n",
        "# -----------------------------\n",
        "unique_images = data['image_name'].unique()\n",
        "train_images, val_images = train_test_split(unique_images, test_size=0.2, random_state=42)\n",
        "train_set, val_set = set(train_images), set(val_images)\n",
        "\n",
        "# -----------------------------\n",
        "# PREPARE ROWS FOR THREADING\n",
        "# -----------------------------\n",
        "rows = [(r['image_dir'], r['image_name'], r['label_name'], r['bbox_x'], r['bbox_y'], r['bbox_width'], r['bbox_height'])\n",
        "        for r in data.to_dict(orient='records')]\n",
        "\n",
        "# -----------------------------\n",
        "# PROCESS FUNCTION\n",
        "# -----------------------------\n",
        "def process_row(row):\n",
        "    image_dir, image_name, label_name, x, y, w, h = row\n",
        "    img_path = os.path.join(image_dir, image_name)\n",
        "    if not os.path.exists(img_path):\n",
        "        return\n",
        "    img = cv2.imread(img_path)\n",
        "    if img is None:\n",
        "        return\n",
        "    x, y, w, h = map(int, (x, y, w, h))\n",
        "    crop = img[y:y+h, x:x+w]\n",
        "    if crop.size == 0:\n",
        "        return\n",
        "    crop = cv2.resize(crop, (224, 224))\n",
        "    ripeness = 'ripe' if label_name.startswith('R') else 'green'\n",
        "    label_dir = label_name.replace('.', '_')\n",
        "    split = 'train' if image_name in train_set else 'val'\n",
        "    save_path = os.path.join(output_dir, ripeness, split, label_dir, f\"{image_name.replace('.jpg', f'_{x}_{y}.jpg')}\")\n",
        "    cv2.imwrite(save_path, crop)\n",
        "\n",
        "# -----------------------------\n",
        "# PARALLEL EXECUTION\n",
        "# -----------------------------\n",
        "num_threads = 8  # Adjust depending on your CPU\n",
        "with ThreadPool(num_threads) as pool:\n",
        "    list(tqdm.tqdm(pool.imap(process_row, rows), total=len(rows)))\n",
        "\n",
        "print(f\"✅ Cropped datasets saved to {output_dir}\")\n"
      ]
    }
  ]
}