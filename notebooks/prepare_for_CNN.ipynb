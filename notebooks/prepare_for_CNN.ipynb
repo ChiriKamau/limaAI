{
  "nbformat": 4,
  "nbformat_minor": 0,
  "metadata": {
    "colab": {
      "provenance": []
    },
    "kernelspec": {
      "name": "python3",
      "display_name": "Python 3"
    },
    "language_info": {
      "name": "python"
    }
  },
  "cells": [
    {
      "cell_type": "markdown",
      "source": [
        "#start\n"
      ],
      "metadata": {
        "id": "6F8NDZEtr3Ri"
      }
    },
    {
      "cell_type": "code",
      "source": [
        "from google.colab import drive\n",
        "drive.mount('/content/drive')"
      ],
      "metadata": {
        "id": "WGRP4b4et-Hz",
        "outputId": "e4af63cc-f2a4-4a6c-870a-8888e20357a9",
        "colab": {
          "base_uri": "https://localhost:8080/"
        }
      },
      "execution_count": 1,
      "outputs": [
        {
          "output_type": "stream",
          "name": "stdout",
          "text": [
            "Mounted at /content/drive\n"
          ]
        }
      ]
    },
    {
      "cell_type": "code",
      "source": [
        "import os\n",
        "import cv2\n",
        "import pandas as pd\n",
        "from sklearn.model_selection import train_test_split\n",
        "from multiprocessing.dummy import Pool as ThreadPool\n",
        "import tqdm"
      ],
      "metadata": {
        "id": "wQuOjHp4qvVv"
      },
      "execution_count": 2,
      "outputs": []
    },
    {
      "cell_type": "code",
      "source": [
        "\n",
        "# Define paths\n",
        "csv_image_mapping = [\n",
        "    {\n",
        "        'csv_path': '/content/drive/MyDrive/Tomato_dataset/camera_ripe(batch2)/annotations/camera_ripe(batch2).csv',\n",
        "        'image_dir': '/content/drive/MyDrive/Tomato_dataset/camera_ripe(batch2)'\n",
        "    },\n",
        "    {\n",
        "        'csv_path': '/content/drive/MyDrive/Tomato_dataset/camera_ripe(batch3)/annotations/camera_ripe(batch3).csv',\n",
        "        'image_dir': '/content/drive/MyDrive/Tomato_dataset/camera_ripe(batch3)'\n",
        "    },\n",
        "\n",
        "]\n",
        "output_dir = '/content/drive/MyDrive/Tomato_dataset/cnn_crops'"
      ],
      "metadata": {
        "id": "wQ7xEhm8uWfO"
      },
      "execution_count": 12,
      "outputs": []
    },
    {
      "cell_type": "code",
      "execution_count": 13,
      "metadata": {
        "id": "A2zNsjKErvRc",
        "outputId": "bbb36d49-ef29-44f1-9dbc-a719627e412a",
        "colab": {
          "base_uri": "https://localhost:8080/"
        }
      },
      "outputs": [
        {
          "output_type": "stream",
          "name": "stderr",
          "text": [
            "100%|██████████| 748/748 [00:48<00:00, 15.32it/s]"
          ]
        },
        {
          "output_type": "stream",
          "name": "stdout",
          "text": [
            "✅ Cropped datasets saved to /content/drive/MyDrive/Tomato_dataset/cnn_crops\n"
          ]
        },
        {
          "output_type": "stream",
          "name": "stderr",
          "text": [
            "\n"
          ]
        }
      ],
      "source": [
        "\n",
        "\n",
        "output_dir = '/content/drive/MyDrive/Tomato_dataset/cnn_crops'\n",
        "\n",
        "ripe_labels = ['R.healthy', 'R.lateblight', 'R.spots', 'R.pests', 'R.ber']\n",
        "green_labels = ['G.healthy', 'G.lateblight', 'G.spots', 'G.pests', 'G.ber']\n",
        "\n",
        "# Example mapping\n",
        "# csv_image_mapping = [{'csv_path': 'path/to/csv1.csv', 'image_dir': 'path/to/images1'},\n",
        "#                      {'csv_path': 'path/to/csv2.csv', 'image_dir': 'path/to/images2'}]\n",
        "\n",
        "# -----------------------------\n",
        "# LOAD AND FILTER DATA\n",
        "# -----------------------------\n",
        "dfs = [pd.read_csv(m['csv_path']).assign(image_dir=m['image_dir']) for m in csv_image_mapping]\n",
        "data = pd.concat(dfs, ignore_index=True)[\n",
        "    ['image_name','label_name','bbox_x','bbox_y','bbox_width','bbox_height','image_dir']\n",
        "]\n",
        "data = data[data['label_name'].isin(ripe_labels + green_labels)]\n",
        "\n",
        "# -----------------------------\n",
        "# CREATE OUTPUT DIRECTORIES IF MISSING\n",
        "# -----------------------------\n",
        "for ripeness in ['ripe', 'green']:\n",
        "    labels = ripe_labels if ripeness == 'ripe' else green_labels\n",
        "    for label in labels:\n",
        "        dir_path = os.path.join(output_dir, ripeness, label.replace('.', '_'))\n",
        "        os.makedirs(dir_path, exist_ok=True)\n",
        "\n",
        "# -----------------------------\n",
        "# TRAIN/VAL SPLIT\n",
        "# -----------------------------\n",
        "unique_images = data['image_name'].unique()\n",
        "train_images, val_images = train_test_split(unique_images, test_size=0.2, random_state=42)\n",
        "train_set, val_set = set(train_images), set(val_images)\n",
        "\n",
        "# -----------------------------\n",
        "# PREPARE ROWS FOR THREADING\n",
        "# -----------------------------\n",
        "rows = [(r['image_dir'], r['image_name'], r['label_name'], r['bbox_x'], r['bbox_y'], r['bbox_width'], r['bbox_height'])\n",
        "        for r in data.to_dict(orient='records')]\n",
        "\n",
        "# -----------------------------\n",
        "# PROCESS FUNCTION\n",
        "# -----------------------------\n",
        "def process_row(row):\n",
        "    image_dir, image_name, label_name, x, y, w, h = row\n",
        "    img_path = os.path.join(image_dir, image_name)\n",
        "    if not os.path.exists(img_path):\n",
        "        return\n",
        "    img = cv2.imread(img_path)\n",
        "    if img is None:\n",
        "        return\n",
        "    x, y, w, h = map(int, (x, y, w, h))\n",
        "    crop = img[y:y+h, x:x+w]\n",
        "    if crop.size == 0:\n",
        "        return\n",
        "    crop = cv2.resize(crop, (224, 224))\n",
        "\n",
        "    # Determine ripeness and split\n",
        "    ripeness = 'ripe' if label_name.startswith('R') else 'green'\n",
        "    split = 'train' if image_name in train_set else 'val'\n",
        "    label_dir = label_name.replace('.', '_')\n",
        "\n",
        "    # Check if split folder exists; create if missing\n",
        "    final_dir = os.path.join(output_dir, ripeness, split, label_dir)\n",
        "    os.makedirs(final_dir, exist_ok=True)\n",
        "\n",
        "    # Save crop\n",
        "    save_path = os.path.join(final_dir, f\"{image_name.replace('.jpg', f'_{x}_{y}.jpg')}\")\n",
        "    cv2.imwrite(save_path, crop)\n",
        "\n",
        "# -----------------------------\n",
        "# PARALLEL EXECUTION\n",
        "# -----------------------------\n",
        "num_threads = 8  # Adjust depending on your CPU\n",
        "with ThreadPool(num_threads) as pool:\n",
        "    list(tqdm.tqdm(pool.imap(process_row, rows), total=len(rows)))\n",
        "\n",
        "print(f\"✅ Cropped datasets saved to {output_dir}\")\n"
      ]
    },
    {
      "cell_type": "code",
      "source": [
        "import os\n",
        "import shutil\n",
        "\n",
        "# Base dataset path\n",
        "base_dir = \"/content/drive/MyDrive/Tomato_dataset/cnn_crops\"\n",
        "backup_dir = os.path.join(base_dir, \"removed_classes\")\n",
        "\n",
        "# Ensure backup folder exists\n",
        "os.makedirs(backup_dir, exist_ok=True)\n",
        "\n",
        "# Folders to move\n",
        "to_move = [\n",
        "    f\"{base_dir}/ripe/train/R_lateblight\",\n",
        "    f\"{base_dir}/ripe/val/R_lateblight\",\n",
        "    f\"{base_dir}/green/train/G_pests\",\n",
        "    f\"{base_dir}/green/val/G_pests\",\n",
        "]\n",
        "\n",
        "# Move entire folders with prefix\n",
        "for folder in to_move:\n",
        "    if os.path.exists(folder):\n",
        "        # Generate prefix from parent folders\n",
        "        parts = folder.replace(base_dir + \"/\", \"\").split(os.sep)  # e.g., [\"ripe\", \"train\", \"R_pests\"]\n",
        "        prefix = \"_\".join(parts[:-1])  # \"ripe_train\"\n",
        "        folder_name = parts[-1]        # \"R_pests\"\n",
        "\n",
        "        dst_folder_name = f\"{prefix}_{folder_name}\"\n",
        "        dst_path = os.path.join(backup_dir, dst_folder_name)\n",
        "\n",
        "        # If a folder with the same name exists, append a counter\n",
        "        count = 1\n",
        "        while os.path.exists(dst_path):\n",
        "            dst_path = os.path.join(backup_dir, f\"{dst_folder_name}_{count}\")\n",
        "            count += 1\n",
        "\n",
        "        shutil.move(folder, dst_path)\n",
        "        print(f\"✅ Moved folder: {folder} → {dst_path}\")\n",
        "    else:\n",
        "        print(f\"⚠️ Folder not found: {folder}\")\n",
        "\n",
        "print(\"\\n✨ Done! Folders moved to 'removed_classes' with prefixes to avoid name conflicts.\")\n"
      ],
      "metadata": {
        "id": "_sW0GjkMWB2s",
        "outputId": "f95efd2a-bdbd-447c-d6ea-a86b4bb0dac2",
        "colab": {
          "base_uri": "https://localhost:8080/"
        }
      },
      "execution_count": 16,
      "outputs": [
        {
          "output_type": "stream",
          "name": "stdout",
          "text": [
            "✅ Moved folder: /content/drive/MyDrive/Tomato_dataset/cnn_crops/ripe/train/R_lateblight → /content/drive/MyDrive/Tomato_dataset/cnn_crops/removed_classes/ripe_train_R_lateblight\n",
            "✅ Moved folder: /content/drive/MyDrive/Tomato_dataset/cnn_crops/ripe/val/R_lateblight → /content/drive/MyDrive/Tomato_dataset/cnn_crops/removed_classes/ripe_val_R_lateblight\n",
            "⚠️ Folder not found: /content/drive/MyDrive/Tomato_dataset/cnn_crops/green/train/G_pests\n",
            "⚠️ Folder not found: /content/drive/MyDrive/Tomato_dataset/cnn_crops/green/val/G_pests\n",
            "\n",
            "✨ Done! Folders moved to 'removed_classes' with prefixes to avoid name conflicts.\n"
          ]
        }
      ]
    }
  ]
}