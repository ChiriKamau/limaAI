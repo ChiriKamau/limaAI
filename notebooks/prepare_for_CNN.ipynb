{
  "nbformat": 4,
  "nbformat_minor": 0,
  "metadata": {
    "colab": {
      "provenance": [],
      "gpuType": "T4"
    },
    "kernelspec": {
      "name": "python3",
      "display_name": "Python 3"
    },
    "language_info": {
      "name": "python"
    },
    "accelerator": "GPU"
  },
  "cells": [
    {
      "cell_type": "markdown",
      "source": [
        "#start\n"
      ],
      "metadata": {
        "id": "6F8NDZEtr3Ri"
      }
    },
    {
      "cell_type": "code",
      "source": [
        "from google.colab import drive\n",
        "drive.mount('/content/drive')"
      ],
      "metadata": {
        "id": "WGRP4b4et-Hz",
        "outputId": "d371e10e-4759-43e8-d41d-c87af3011d7e",
        "colab": {
          "base_uri": "https://localhost:8080/"
        }
      },
      "execution_count": 1,
      "outputs": [
        {
          "output_type": "stream",
          "name": "stdout",
          "text": [
            "Mounted at /content/drive\n"
          ]
        }
      ]
    },
    {
      "cell_type": "code",
      "source": [
        "import os\n",
        "import cv2\n",
        "import pandas as pd\n",
        "from sklearn.model_selection import train_test_split\n",
        "from multiprocessing.dummy import Pool as ThreadPool\n",
        "import tqdm"
      ],
      "metadata": {
        "id": "wQuOjHp4qvVv"
      },
      "execution_count": 2,
      "outputs": []
    },
    {
      "cell_type": "code",
      "source": [
        "\n",
        "# Define paths\n",
        "csv_image_mapping = [\n",
        "    {\n",
        "        'csv_path': '/content/drive/MyDrive/Tomato_dataset/phone2(batch3)/annotations/phone2(batch3).csv',\n",
        "        'image_dir': '/content/drive/MyDrive/Tomato_dataset/phone2(batch3)'\n",
        "    },\n",
        "    {\n",
        "        'csv_path': '/content/drive/MyDrive/Tomato_dataset/phone2(batch4)/annotations/phone2(batch4).csv',\n",
        "        'image_dir': '/content/drive/MyDrive/Tomato_dataset/phone2(batch4)'\n",
        "    },\n",
        "    {\n",
        "        'csv_path': '/content/drive/MyDrive/Tomato_dataset/phone2(batch5)/annotations/phone2(batch5).csv',\n",
        "        'image_dir': '/content/drive/MyDrive/Tomato_dataset/phone2(batch5)'\n",
        "    },\n",
        "    {\n",
        "        'csv_path': '/content/drive/MyDrive/Tomato_dataset/camera_ripe(batch1)/annotations/camera_ripe(batch1).csv',\n",
        "        'image_dir': '/content/drive/MyDrive/Tomato_dataset/camera_ripe(batch1)'\n",
        "    }\n",
        "]\n",
        "output_dir = '/content/drive/MyDrive/Tomato_dataset/cnn_crops'"
      ],
      "metadata": {
        "id": "wQ7xEhm8uWfO"
      },
      "execution_count": 3,
      "outputs": []
    },
    {
      "cell_type": "code",
      "execution_count": 4,
      "metadata": {
        "id": "A2zNsjKErvRc",
        "outputId": "6509db65-dd0c-4a78-b1ea-9cbf888c8491",
        "colab": {
          "base_uri": "https://localhost:8080/"
        }
      },
      "outputs": [
        {
          "output_type": "stream",
          "name": "stderr",
          "text": [
            "100%|██████████| 1631/1631 [02:51<00:00,  9.49it/s]"
          ]
        },
        {
          "output_type": "stream",
          "name": "stdout",
          "text": [
            "✅ Cropped datasets saved to /content/drive/MyDrive/Tomato_dataset/cnn_crops\n"
          ]
        },
        {
          "output_type": "stream",
          "name": "stderr",
          "text": [
            "\n"
          ]
        }
      ],
      "source": [
        "\n",
        "\n",
        "output_dir = '/content/drive/MyDrive/Tomato_dataset/cnn_crops'\n",
        "\n",
        "ripe_labels = ['R.healthy', 'R.lateblight', 'R.spots', 'R.pests', 'R.ber']\n",
        "green_labels = ['G.healthy', 'G.lateblight', 'G.spots', 'G.pests', 'G.ber']\n",
        "\n",
        "# Example mapping\n",
        "# csv_image_mapping = [{'csv_path': 'path/to/csv1.csv', 'image_dir': 'path/to/images1'},\n",
        "#                      {'csv_path': 'path/to/csv2.csv', 'image_dir': 'path/to/images2'}]\n",
        "\n",
        "# -----------------------------\n",
        "# LOAD AND FILTER DATA\n",
        "# -----------------------------\n",
        "dfs = [pd.read_csv(m['csv_path']).assign(image_dir=m['image_dir']) for m in csv_image_mapping]\n",
        "data = pd.concat(dfs, ignore_index=True)[\n",
        "    ['image_name','label_name','bbox_x','bbox_y','bbox_width','bbox_height','image_dir']\n",
        "]\n",
        "data = data[data['label_name'].isin(ripe_labels + green_labels)]\n",
        "\n",
        "# -----------------------------\n",
        "# CREATE OUTPUT DIRECTORIES IF MISSING\n",
        "# -----------------------------\n",
        "for ripeness in ['ripe', 'green']:\n",
        "    labels = ripe_labels if ripeness == 'ripe' else green_labels\n",
        "    for label in labels:\n",
        "        dir_path = os.path.join(output_dir, ripeness, label.replace('.', '_'))\n",
        "        os.makedirs(dir_path, exist_ok=True)\n",
        "\n",
        "# -----------------------------\n",
        "# TRAIN/VAL SPLIT\n",
        "# -----------------------------\n",
        "unique_images = data['image_name'].unique()\n",
        "train_images, val_images = train_test_split(unique_images, test_size=0.2, random_state=42)\n",
        "train_set, val_set = set(train_images), set(val_images)\n",
        "\n",
        "# -----------------------------\n",
        "# PREPARE ROWS FOR THREADING\n",
        "# -----------------------------\n",
        "rows = [(r['image_dir'], r['image_name'], r['label_name'], r['bbox_x'], r['bbox_y'], r['bbox_width'], r['bbox_height'])\n",
        "        for r in data.to_dict(orient='records')]\n",
        "\n",
        "# -----------------------------\n",
        "# PROCESS FUNCTION\n",
        "# -----------------------------\n",
        "def process_row(row):\n",
        "    image_dir, image_name, label_name, x, y, w, h = row\n",
        "    img_path = os.path.join(image_dir, image_name)\n",
        "    if not os.path.exists(img_path):\n",
        "        return\n",
        "    img = cv2.imread(img_path)\n",
        "    if img is None:\n",
        "        return\n",
        "    x, y, w, h = map(int, (x, y, w, h))\n",
        "    crop = img[y:y+h, x:x+w]\n",
        "    if crop.size == 0:\n",
        "        return\n",
        "    crop = cv2.resize(crop, (224, 224))\n",
        "\n",
        "    # Determine ripeness and split\n",
        "    ripeness = 'ripe' if label_name.startswith('R') else 'green'\n",
        "    split = 'train' if image_name in train_set else 'val'\n",
        "    label_dir = label_name.replace('.', '_')\n",
        "\n",
        "    # Check if split folder exists; create if missing\n",
        "    final_dir = os.path.join(output_dir, ripeness, split, label_dir)\n",
        "    os.makedirs(final_dir, exist_ok=True)\n",
        "\n",
        "    # Save crop\n",
        "    save_path = os.path.join(final_dir, f\"{image_name.replace('.jpg', f'_{x}_{y}.jpg')}\")\n",
        "    cv2.imwrite(save_path, crop)\n",
        "\n",
        "# -----------------------------\n",
        "# PARALLEL EXECUTION\n",
        "# -----------------------------\n",
        "num_threads = 8  # Adjust depending on your CPU\n",
        "with ThreadPool(num_threads) as pool:\n",
        "    list(tqdm.tqdm(pool.imap(process_row, rows), total=len(rows)))\n",
        "\n",
        "print(f\"✅ Cropped datasets saved to {output_dir}\")\n"
      ]
    },
    {
      "cell_type": "code",
      "source": [
        "import os\n",
        "import shutil\n",
        "\n",
        "# Base dataset path\n",
        "base_dir = \"/content/drive/MyDrive/Tomato_dataset/cnn_crops\"\n",
        "backup_dir = os.path.join(base_dir, \"removed_classes\")\n",
        "\n",
        "# Ensure backup folder exists\n",
        "os.makedirs(backup_dir, exist_ok=True)\n",
        "\n",
        "# Folders to move\n",
        "to_move = [\n",
        "    f\"{base_dir}/ripe/train/R_pests\",\n",
        "    f\"{base_dir}/ripe/val/R_pests\",\n",
        "    f\"{base_dir}/green/train/G_pests\",\n",
        "    f\"{base_dir}/green/val/G_pests\",\n",
        "]\n",
        "\n",
        "# Move images\n",
        "for folder in to_move:\n",
        "    if os.path.exists(folder):\n",
        "        # Get all files in folder\n",
        "        for filename in os.listdir(folder):\n",
        "            src_path = os.path.join(folder, filename)\n",
        "            dst_path = os.path.join(backup_dir, f\"{os.path.basename(folder)}_{filename}\")\n",
        "            shutil.move(src_path, dst_path)\n",
        "        print(f\"✅ Moved images from: {folder} → {backup_dir}\")\n",
        "        # Optionally remove the empty folder\n",
        "        os.rmdir(folder)\n",
        "    else:\n",
        "        print(f\"⚠️ Folder not found: {folder}\")\n",
        "\n",
        "print(\"\\n✨ Done! R_pests and G_pests images moved to 'removed_classes'.\")\n"
      ],
      "metadata": {
        "id": "_sW0GjkMWB2s"
      },
      "execution_count": null,
      "outputs": []
    }
  ]
}