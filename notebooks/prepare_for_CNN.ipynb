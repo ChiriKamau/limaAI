{
  "nbformat": 4,
  "nbformat_minor": 0,
  "metadata": {
    "colab": {
      "provenance": []
    },
    "kernelspec": {
      "name": "python3",
      "display_name": "Python 3"
    },
    "language_info": {
      "name": "python"
    }
  },
  "cells": [
    {
      "cell_type": "markdown",
      "source": [
        "#start\n"
      ],
      "metadata": {
        "id": "6F8NDZEtr3Ri"
      }
    },
    {
      "cell_type": "code",
      "source": [],
      "metadata": {
        "id": "WGRP4b4et-Hz"
      },
      "execution_count": null,
      "outputs": []
    },
    {
      "cell_type": "code",
      "source": [
        "import pandas as pd\n",
        "import os\n",
        "import cv2\n",
        "from sklearn.model_selection import train_test_split\n",
        "\n",
        "# Define paths\n",
        "csv_image_mapping = [\n",
        "        {\n",
        "        'csv_path': '/content/drive/MyDrive/Tomato_dataset/phone1(ripe)/phone1(ripe).csv',\n",
        "        'image_dir': '/content/drive/MyDrive/Tomato_dataset/phone1(ripe)'\n",
        "    },\n",
        "    {\n",
        "        'csv_path': '/content/drive/MyDrive/Tomato_dataset/Phone1(green)/phone1(green).csv',\n",
        "        'image_dir': '/content/drive/MyDrive/Tomato_dataset/Phone1(green)'\n",
        "    },\n",
        "    {\n",
        "        'csv_path': '/content/drive/MyDrive/Tomato_dataset/phone2(batch1)/annotations/phone2(batch1).csv',\n",
        "        'image_dir': '/content/drive/MyDrive/Tomato_dataset/phone2(batch1)'\n",
        "    },\n",
        "    {\n",
        "        'csv_path': '/content/drive/MyDrive/Tomato_dataset/phone2(batch2)/annotations/phone2(batch2).csv',\n",
        "        'image_dir': '/content/drive/MyDrive/Tomato_dataset/phone2(batch2)'\n",
        "    }\n",
        "]\n",
        "output_dir = '/content/drive/MyDrive/Tomato_dataset/cnn_crops'"
      ],
      "metadata": {
        "id": "wQ7xEhm8uWfO"
      },
      "execution_count": null,
      "outputs": []
    },
    {
      "cell_type": "code",
      "execution_count": null,
      "metadata": {
        "id": "A2zNsjKErvRc"
      },
      "outputs": [],
      "source": [
        "\n",
        "\n",
        "# Valid labels\n",
        "ripe_labels = ['R.healthy', 'R.lateblight', 'R.spots', 'R.pests', 'R.ber']\n",
        "green_labels = ['G.healthy', 'G.lateblight', 'G.spots', 'G.pests', 'G.ber']\n",
        "\n",
        "# Load and combine CSVs\n",
        "dfs = [pd.read_csv(m['csv_path']).assign(image_dir=m['image_dir']) for m in csv_image_mapping]\n",
        "data = pd.concat(dfs, ignore_index=True)[['image_name', 'label_name', 'bbox_x', 'bbox_y', 'bbox_width', 'bbox_height', 'image_dir']]\n",
        "data = data[data['label_name'].isin(ripe_labels + green_labels)]  # Filter valid labels\n",
        "\n",
        "# Create output directories\n",
        "for ripeness in ['ripe', 'green']:\n",
        "    for split in ['train', 'val']:\n",
        "        for label in ripe_labels if ripeness == 'ripe' else green_labels:\n",
        "            os.makedirs(f'{output_dir}/{ripeness}/{split}/{label.replace(\".\", \"_\")}', exist_ok=True)\n",
        "\n",
        "# Split images (80/20)\n",
        "unique_images = data['image_name'].unique()\n",
        "train_images, val_images = train_test_split(unique_images, test_size=0.2, random_state=42)\n",
        "\n",
        "# Crop and save\n",
        "for idx, row in data.iterrows():\n",
        "    img_path = os.path.join(row['image_dir'], row['image_name'])\n",
        "    if not os.path.exists(img_path):\n",
        "        continue\n",
        "    img = cv2.imread(img_path)\n",
        "    if img is None:\n",
        "        continue\n",
        "    x, y, w, h = int(row['bbox_x']), int(row['bbox_y']), int(row['bbox_width']), int(row['bbox_height'])\n",
        "    crop = img[y:y+h, x:x+w]\n",
        "    if crop.size == 0:\n",
        "        continue\n",
        "    crop = cv2.resize(crop, (224, 224))  # Resize for CNN\n",
        "    ripeness = 'ripe' if row['label_name'].startswith('R') else 'green'\n",
        "    label_dir = row['label_name'].replace('.', '_')\n",
        "    split = 'train' if row['image_name'] in train_images else 'val'\n",
        "    save_path = f'{output_dir}/{ripeness}/{split}/{label_dir}/{row[\"image_name\"].replace(\".jpg\", f\"_{idx}.jpg\")}'\n",
        "    cv2.imwrite(save_path, crop)\n",
        "print(\"Cropped datasets saved to\", output_dir)"
      ]
    }
  ]
}