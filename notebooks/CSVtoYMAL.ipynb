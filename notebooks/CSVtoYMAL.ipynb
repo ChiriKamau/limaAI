{
  "nbformat": 4,
  "nbformat_minor": 0,
  "metadata": {
    "colab": {
      "provenance": []
    },
    "kernelspec": {
      "name": "python3",
      "display_name": "Python 3"
    },
    "language_info": {
      "name": "python"
    }
  },
  "cells": [
    {
      "cell_type": "markdown",
      "source": [
        "# 🚀 **YOLO Dataset YAML Generator Notebook**\n",
        "## **Auto-creates data.yaml files for ALL annotation folders with COMPLETE class detection**\n",
        "\n",
        "**Purpose:** Scan ALL CSV files → **Extract ALL unique classes** → **Generate data.yaml** in each annotation folder  \n",
        "**Result:** **Never recreate YAMLs again!** Train directly from any folder anytime.\n",
        "\n",
        "---\n",
        "\n",
        "## **📋 TABLE OF CONTENTS**\n",
        "1. [Setup & Mount Drive](#setup)\n",
        "2. [CSV Path Mapping](#mapping)\n",
        "3. [Auto-Detect ALL Classes](#classes)\n",
        "4. [Generate data.yaml Files](#generate)\n",
        "5. [Verify & Test](#verify)"
      ],
      "metadata": {
        "id": "hdR5xE_a6ZyJ"
      }
    },
    {
      "cell_type": "markdown",
      "source": [
        "<a id=\"setup\"></a>\n",
        "## 1️⃣ SETUP & MOUNT DRIVE\n",
        "\n",
        "**Mounts Google Drive and imports required libraries**"
      ],
      "metadata": {
        "id": "s7VFpssf6lQK"
      }
    },
    {
      "cell_type": "code",
      "execution_count": null,
      "metadata": {
        "id": "PtC7qt2N6Mmq"
      },
      "outputs": [],
      "source": [
        "from google.colab import drive\n",
        "import pandas as pd\n",
        "import os\n",
        "import yaml\n",
        "\n",
        "# Mount Google Drive\n",
        "drive.mount('/content/drive')\n",
        "print(\"✅ Drive mounted!\")"
      ]
    },
    {
      "cell_type": "markdown",
      "source": [
        "<a id=\"mapping\"></a>\n",
        "## 2️⃣ CSV PATH MAPPING\n",
        "\n",
        "**Defines ALL 10 annotation folders (same as your main notebook)**"
      ],
      "metadata": {
        "id": "lQsl_5sB6ucN"
      }
    },
    {
      "cell_type": "code",
      "source": [
        "# ALL your annotation folders\n",
        "csv_image_mapping = [\n",
        "    {'csv_path': '/content/drive/MyDrive/Tomato_dataset/phone1(ripe)/phone1(ripe).csv', 'folder': '/content/drive/MyDrive/Tomato_dataset/phone1(ripe)'},\n",
        "    {'csv_path': '/content/drive/MyDrive/Tomato_dataset/Phone1(green)/phone1(green).csv', 'folder': '/content/drive/MyDrive/Tomato_dataset/Phone1(green)'},\n",
        "    {'csv_path': '/content/drive/MyDrive/Tomato_dataset/phone2(batch1)/annotations/phone2(batch1).csv', 'folder': '/content/drive/MyDrive/Tomato_dataset/phone2(batch1)'},\n",
        "    {'csv_path': '/content/drive/MyDrive/Tomato_dataset/phone2(batch2)/annotations/phone2(batch2).csv', 'folder': '/content/drive/MyDrive/Tomato_dataset/phone2(batch2)'},\n",
        "    {'csv_path': '/content/drive/MyDrive/Tomato_dataset/phone2(batch3)/annotations/phone2(batch3).csv', 'folder': '/content/drive/MyDrive/Tomato_dataset/phone2(batch3)'},\n",
        "    {'csv_path': '/content/drive/MyDrive/Tomato_dataset/phone2(batch4)/annotations/phone2(batch4).csv', 'folder': '/content/drive/MyDrive/Tomato_dataset/phone2(batch4)'},\n",
        "    {'csv_path': '/content/drive/MyDrive/Tomato_dataset/phone2(batch5)/annotations/phone2(batch5).csv', 'folder': '/content/drive/MyDrive/Tomato_dataset/phone2(batch5)'},\n",
        "    {'csv_path': '/content/drive/MyDrive/Tomato_dataset/camera_ripe(batch1)/annotations/camera_ripe(batch1).csv', 'folder': '/content/drive/MyDrive/Tomato_dataset/camera_ripe(batch1)'},\n",
        "    {'csv_path': '/content/drive/MyDrive/Tomato_dataset/camera_ripe(batch2)/annotations/camera_ripe(batch2).csv', 'folder': '/content/drive/MyDrive/Tomato_dataset/camera_ripe(batch2)'},\n",
        "    {'csv_path': '/content/drive/MyDrive/Tomato_dataset/camera_ripe(batch3)/annotations/camera_ripe(batch3).csv', 'folder': '/content/drive/MyDrive/Tomato_dataset/camera_ripe(batch3)'}\n",
        "]\n",
        "\n",
        "print(f\"✅ Loaded {len(csv_image_mapping)} annotation folders\")"
      ],
      "metadata": {
        "id": "jMQ_5aGX6v95"
      },
      "execution_count": null,
      "outputs": []
    },
    {
      "cell_type": "markdown",
      "source": [
        "<a id=\"classes\"></a>\n",
        "## 3️⃣ AUTO-DETECT ALL CLASSES\n",
        "\n",
        "**Scans EVERY CSV → Extracts ALL unique `label_name` values → Creates class mapping**"
      ],
      "metadata": {
        "id": "iCLoARQa63LW"
      }
    },
    {
      "cell_type": "code",
      "source": [
        "# Collect ALL unique classes from ALL CSVs\n",
        "all_classes = set()\n",
        "\n",
        "for mapping in csv_image_mapping:\n",
        "    try:\n",
        "        df = pd.read_csv(mapping['csv_path'])\n",
        "        unique_labels = df['label_name'].dropna().unique()\n",
        "        all_classes.update(unique_labels)\n",
        "        print(f\"📁 {os.path.basename(mapping['folder'])}: {len(unique_labels)} classes\")\n",
        "    except Exception as e:\n",
        "        print(f\"⚠️ Error in {mapping['folder']}: {e}\")\n",
        "\n",
        "# Sort and create class IDs\n",
        "class_names = sorted(list(all_classes))\n",
        "class_map = {name: idx for idx, name in enumerate(class_names)}\n",
        "\n",
        "print(f\"\\n🎯 **TOTAL UNIQUE CLASSES DETECTED: {len(class_names)}**\")\n",
        "print(\"\\n📋 **COMPLETE CLASS MAPPING:**\")\n",
        "for i, cls in enumerate(class_names):\n",
        "    print(f\"  {i}: '{cls}'\")"
      ],
      "metadata": {
        "id": "b81Y3V0P64e5"
      },
      "execution_count": null,
      "outputs": []
    },
    {
      "cell_type": "markdown",
      "source": [
        "<a id=\"generate\"></a>\n",
        "## 4️⃣ GENERATE data.yaml FILES\n",
        "\n",
        "**Creates `data.yaml` in EVERY annotation folder with:**\n",
        "- `train/val` paths **relative to folder**\n",
        "- **ALL detected classes**\n",
        "- **Ready for YOLOv8 training**"
      ],
      "metadata": {
        "id": "8CIkA6uu7G_J"
      }
    },
    {
      "cell_type": "code",
      "source": [
        "# Generate YAML for EACH folder\n",
        "successful_yamls = 0\n",
        "\n",
        "for mapping in csv_image_mapping:\n",
        "    folder = mapping['folder']\n",
        "    folder_name = os.path.basename(folder)\n",
        "\n",
        "    # Create standard YOLO structure paths (relative)\n",
        "    yaml_content = f\"\"\"\n",
        "train: images/train\n",
        "val: images/val\n",
        "\n",
        "nc: {len(class_names)}\n",
        "names: {class_names}\n",
        "\"\"\"\n",
        "\n",
        "    # Save data.yaml in the annotation folder\n",
        "    yaml_path = os.path.join(folder, 'data.yaml')\n",
        "\n",
        "    try:\n",
        "        with open(yaml_path, 'w') as f:\n",
        "            f.write(yaml_content.strip())\n",
        "        successful_yamls += 1\n",
        "\n",
        "        print(f\" {folder_name}/data.yaml CREATED\")\n",
        "        print(f\"   Path: {yaml_path}\")\n",
        "        print(f\"    Classes: {len(class_names)}\")\n",
        "\n",
        "    except Exception as e:\n",
        "        print(f\" Error creating YAML for {folder_name}: {e}\")\n",
        "\n",
        "print(f\"\\n **SUMMARY: {successful_yamls}/10 data.yaml files created successfully!**\")"
      ],
      "metadata": {
        "id": "-vk2Hiln7NIh"
      },
      "execution_count": null,
      "outputs": []
    },
    {
      "cell_type": "markdown",
      "source": [
        "<a id=\"verify\"></a>\n",
        "## 5️⃣ VERIFY & TEST\n",
        "\n",
        "**Displays sample YAML content + confirms files exist**"
      ],
      "metadata": {
        "id": "lniZCBJT7YeB"
      }
    },
    {
      "cell_type": "code",
      "source": [
        "# Verify all YAML files\n",
        "print(\"📋 **VERIFICATION REPORT:**\")\n",
        "print(\"=\"*50)\n",
        "\n",
        "for mapping in csv_image_mapping:\n",
        "    folder = mapping['folder']\n",
        "    yaml_path = os.path.join(folder, 'data.yaml')\n",
        "\n",
        "    status = \"✅ EXISTS\" if os.path.exists(yaml_path) else \"❌ MISSING\"\n",
        "    print(f\"{os.path.basename(folder):25} | {status}\")\n",
        "\n",
        "    # Show content of first successful file\n",
        "    if os.path.exists(yaml_path):\n",
        "        if 'phone1' in folder:  # Show first one\n",
        "            print(f\"\\n📄 **SAMPLE data.yaml ({os.path.basename(folder)}):**\\n\")\n",
        "            with open(yaml_path, 'r') as f:\n",
        "                print(f.read())\n",
        "            break\n",
        "\n",
        "print(f\"\\n🚀 **ALL SET! Train YOLOv8 with:**\")\n",
        "print(f\"yolo train data={folder}/data.yaml model=yolov8n.pt epochs=100\")"
      ],
      "metadata": {
        "id": "xsOGHcS-7abB"
      },
      "execution_count": null,
      "outputs": []
    }
  ]
}